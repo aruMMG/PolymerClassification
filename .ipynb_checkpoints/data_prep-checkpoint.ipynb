{
 "cells": [
  {
   "cell_type": "code",
   "execution_count": 1,
   "id": "c6e94700",
   "metadata": {},
   "outputs": [],
   "source": [
    "import pandas as pd\n",
    "import numpy as np\n",
    "import csv"
   ]
  },
  {
   "cell_type": "code",
   "execution_count": 2,
   "id": "8a6c24e0",
   "metadata": {},
   "outputs": [
    {
     "data": {
      "text/html": [
       "<div>\n",
       "<style scoped>\n",
       "    .dataframe tbody tr th:only-of-type {\n",
       "        vertical-align: middle;\n",
       "    }\n",
       "\n",
       "    .dataframe tbody tr th {\n",
       "        vertical-align: top;\n",
       "    }\n",
       "\n",
       "    .dataframe thead th {\n",
       "        text-align: right;\n",
       "    }\n",
       "</style>\n",
       "<table border=\"1\" class=\"dataframe\">\n",
       "  <thead>\n",
       "    <tr style=\"text-align: right;\">\n",
       "      <th></th>\n",
       "      <th>wavenumber</th>\n",
       "      <th>intensity</th>\n",
       "      <th>sample_name</th>\n",
       "      <th>group</th>\n",
       "    </tr>\n",
       "  </thead>\n",
       "  <tbody>\n",
       "    <tr>\n",
       "      <th>0</th>\n",
       "      <td>667.3</td>\n",
       "      <td>0.000000</td>\n",
       "      <td>1</td>\n",
       "      <td>1</td>\n",
       "    </tr>\n",
       "    <tr>\n",
       "      <th>1</th>\n",
       "      <td>669.2</td>\n",
       "      <td>0.000000</td>\n",
       "      <td>1</td>\n",
       "      <td>1</td>\n",
       "    </tr>\n",
       "    <tr>\n",
       "      <th>2</th>\n",
       "      <td>671.1</td>\n",
       "      <td>0.000000</td>\n",
       "      <td>1</td>\n",
       "      <td>1</td>\n",
       "    </tr>\n",
       "    <tr>\n",
       "      <th>3</th>\n",
       "      <td>673.0</td>\n",
       "      <td>0.000000</td>\n",
       "      <td>1</td>\n",
       "      <td>1</td>\n",
       "    </tr>\n",
       "    <tr>\n",
       "      <th>4</th>\n",
       "      <td>675.0</td>\n",
       "      <td>0.003789</td>\n",
       "      <td>1</td>\n",
       "      <td>1</td>\n",
       "    </tr>\n",
       "  </tbody>\n",
       "</table>\n",
       "</div>"
      ],
      "text/plain": [
       "   wavenumber  intensity  sample_name  group\n",
       "0       667.3   0.000000            1      1\n",
       "1       669.2   0.000000            1      1\n",
       "2       671.1   0.000000            1      1\n",
       "3       673.0   0.000000            1      1\n",
       "4       675.0   0.003789            1      1"
      ]
     },
     "execution_count": 2,
     "metadata": {},
     "output_type": "execute_result"
    }
   ],
   "source": [
    "data = pd.read_csv(\"ftir_library.csv\")\n",
    "data.head()"
   ]
  },
  {
   "cell_type": "code",
   "execution_count": 3,
   "id": "1bd5d25a",
   "metadata": {},
   "outputs": [
    {
     "data": {
      "text/plain": [
       "1033852"
      ]
     },
     "execution_count": 3,
     "metadata": {},
     "output_type": "execute_result"
    }
   ],
   "source": [
    "len(data)"
   ]
  },
  {
   "cell_type": "code",
   "execution_count": 4,
   "id": "fdc59ec5",
   "metadata": {},
   "outputs": [
    {
     "data": {
      "text/html": [
       "<div>\n",
       "<style scoped>\n",
       "    .dataframe tbody tr th:only-of-type {\n",
       "        vertical-align: middle;\n",
       "    }\n",
       "\n",
       "    .dataframe tbody tr th {\n",
       "        vertical-align: top;\n",
       "    }\n",
       "\n",
       "    .dataframe thead th {\n",
       "        text-align: right;\n",
       "    }\n",
       "</style>\n",
       "<table border=\"1\" class=\"dataframe\">\n",
       "  <thead>\n",
       "    <tr style=\"text-align: right;\">\n",
       "      <th></th>\n",
       "      <th>wavenumber</th>\n",
       "      <th>intensity</th>\n",
       "      <th>sample_name</th>\n",
       "      <th>group</th>\n",
       "    </tr>\n",
       "  </thead>\n",
       "  <tbody>\n",
       "    <tr>\n",
       "      <th>0</th>\n",
       "      <td>667.3</td>\n",
       "      <td>0.000000</td>\n",
       "      <td>1</td>\n",
       "      <td>1</td>\n",
       "    </tr>\n",
       "    <tr>\n",
       "      <th>1</th>\n",
       "      <td>669.2</td>\n",
       "      <td>0.000000</td>\n",
       "      <td>1</td>\n",
       "      <td>1</td>\n",
       "    </tr>\n",
       "    <tr>\n",
       "      <th>2</th>\n",
       "      <td>671.1</td>\n",
       "      <td>0.000000</td>\n",
       "      <td>1</td>\n",
       "      <td>1</td>\n",
       "    </tr>\n",
       "    <tr>\n",
       "      <th>3</th>\n",
       "      <td>673.0</td>\n",
       "      <td>0.000000</td>\n",
       "      <td>1</td>\n",
       "      <td>1</td>\n",
       "    </tr>\n",
       "    <tr>\n",
       "      <th>4</th>\n",
       "      <td>675.0</td>\n",
       "      <td>0.003789</td>\n",
       "      <td>1</td>\n",
       "      <td>1</td>\n",
       "    </tr>\n",
       "    <tr>\n",
       "      <th>...</th>\n",
       "      <td>...</td>\n",
       "      <td>...</td>\n",
       "      <td>...</td>\n",
       "      <td>...</td>\n",
       "    </tr>\n",
       "    <tr>\n",
       "      <th>1033847</th>\n",
       "      <td>3992.1</td>\n",
       "      <td>0.000000</td>\n",
       "      <td>636</td>\n",
       "      <td>636</td>\n",
       "    </tr>\n",
       "    <tr>\n",
       "      <th>1033848</th>\n",
       "      <td>3994.0</td>\n",
       "      <td>0.000000</td>\n",
       "      <td>636</td>\n",
       "      <td>636</td>\n",
       "    </tr>\n",
       "    <tr>\n",
       "      <th>1033849</th>\n",
       "      <td>3996.0</td>\n",
       "      <td>0.000000</td>\n",
       "      <td>636</td>\n",
       "      <td>636</td>\n",
       "    </tr>\n",
       "    <tr>\n",
       "      <th>1033850</th>\n",
       "      <td>3997.9</td>\n",
       "      <td>0.000000</td>\n",
       "      <td>636</td>\n",
       "      <td>636</td>\n",
       "    </tr>\n",
       "    <tr>\n",
       "      <th>1033851</th>\n",
       "      <td>3999.8</td>\n",
       "      <td>0.000000</td>\n",
       "      <td>636</td>\n",
       "      <td>636</td>\n",
       "    </tr>\n",
       "  </tbody>\n",
       "</table>\n",
       "<p>1033852 rows × 4 columns</p>\n",
       "</div>"
      ],
      "text/plain": [
       "         wavenumber  intensity  sample_name  group\n",
       "0             667.3   0.000000            1      1\n",
       "1             669.2   0.000000            1      1\n",
       "2             671.1   0.000000            1      1\n",
       "3             673.0   0.000000            1      1\n",
       "4             675.0   0.003789            1      1\n",
       "...             ...        ...          ...    ...\n",
       "1033847      3992.1   0.000000          636    636\n",
       "1033848      3994.0   0.000000          636    636\n",
       "1033849      3996.0   0.000000          636    636\n",
       "1033850      3997.9   0.000000          636    636\n",
       "1033851      3999.8   0.000000          636    636\n",
       "\n",
       "[1033852 rows x 4 columns]"
      ]
     },
     "execution_count": 4,
     "metadata": {},
     "output_type": "execute_result"
    }
   ],
   "source": [
    "data.dropna(subset=[\"wavenumber\"])"
   ]
  },
  {
   "cell_type": "code",
   "execution_count": 5,
   "id": "722b2af1",
   "metadata": {},
   "outputs": [],
   "source": [
    "data = data[data[\"sample_name\"]==data[\"group\"]]"
   ]
  },
  {
   "cell_type": "code",
   "execution_count": 6,
   "id": "d04c62ef",
   "metadata": {},
   "outputs": [
    {
     "data": {
      "text/plain": [
       "1033852"
      ]
     },
     "execution_count": 6,
     "metadata": {},
     "output_type": "execute_result"
    }
   ],
   "source": [
    "len(data)"
   ]
  },
  {
   "cell_type": "code",
   "execution_count": 7,
   "id": "1f283e08",
   "metadata": {},
   "outputs": [],
   "source": [
    "data = data.drop(columns=\"group\")"
   ]
  },
  {
   "cell_type": "code",
   "execution_count": 8,
   "id": "0729b1b6",
   "metadata": {},
   "outputs": [
    {
     "data": {
      "text/html": [
       "<div>\n",
       "<style scoped>\n",
       "    .dataframe tbody tr th:only-of-type {\n",
       "        vertical-align: middle;\n",
       "    }\n",
       "\n",
       "    .dataframe tbody tr th {\n",
       "        vertical-align: top;\n",
       "    }\n",
       "\n",
       "    .dataframe thead th {\n",
       "        text-align: right;\n",
       "    }\n",
       "</style>\n",
       "<table border=\"1\" class=\"dataframe\">\n",
       "  <thead>\n",
       "    <tr style=\"text-align: right;\">\n",
       "      <th></th>\n",
       "      <th>wavenumber</th>\n",
       "      <th>intensity</th>\n",
       "      <th>sample_name</th>\n",
       "    </tr>\n",
       "  </thead>\n",
       "  <tbody>\n",
       "    <tr>\n",
       "      <th>0</th>\n",
       "      <td>667.3</td>\n",
       "      <td>0.000000</td>\n",
       "      <td>1</td>\n",
       "    </tr>\n",
       "    <tr>\n",
       "      <th>1</th>\n",
       "      <td>669.2</td>\n",
       "      <td>0.000000</td>\n",
       "      <td>1</td>\n",
       "    </tr>\n",
       "    <tr>\n",
       "      <th>2</th>\n",
       "      <td>671.1</td>\n",
       "      <td>0.000000</td>\n",
       "      <td>1</td>\n",
       "    </tr>\n",
       "    <tr>\n",
       "      <th>3</th>\n",
       "      <td>673.0</td>\n",
       "      <td>0.000000</td>\n",
       "      <td>1</td>\n",
       "    </tr>\n",
       "    <tr>\n",
       "      <th>4</th>\n",
       "      <td>675.0</td>\n",
       "      <td>0.003789</td>\n",
       "      <td>1</td>\n",
       "    </tr>\n",
       "  </tbody>\n",
       "</table>\n",
       "</div>"
      ],
      "text/plain": [
       "   wavenumber  intensity  sample_name\n",
       "0       667.3   0.000000            1\n",
       "1       669.2   0.000000            1\n",
       "2       671.1   0.000000            1\n",
       "3       673.0   0.000000            1\n",
       "4       675.0   0.003789            1"
      ]
     },
     "execution_count": 8,
     "metadata": {},
     "output_type": "execute_result"
    }
   ],
   "source": [
    "data.head()"
   ]
  },
  {
   "cell_type": "code",
   "execution_count": null,
   "id": "d086eb22",
   "metadata": {},
   "outputs": [],
   "source": []
  },
  {
   "cell_type": "code",
   "execution_count": 9,
   "id": "674aeec9",
   "metadata": {},
   "outputs": [],
   "source": [
    "separate_data = dict(tuple(data.groupby('sample_name')))\n",
    "# ftir = np.loadtxt(\"ftir_library.csv\", delimiter=\",\", dtype=np.float32, skiprows=1)"
   ]
  },
  {
   "cell_type": "code",
   "execution_count": 10,
   "id": "c8e7a10a",
   "metadata": {},
   "outputs": [
    {
     "data": {
      "text/plain": [
       "pandas.core.frame.DataFrame"
      ]
     },
     "execution_count": 10,
     "metadata": {},
     "output_type": "execute_result"
    }
   ],
   "source": [
    "type(separate_data[1])"
   ]
  },
  {
   "cell_type": "code",
   "execution_count": 11,
   "id": "3c84594f",
   "metadata": {},
   "outputs": [
    {
     "data": {
      "text/plain": [
       "636"
      ]
     },
     "execution_count": 11,
     "metadata": {},
     "output_type": "execute_result"
    }
   ],
   "source": [
    "len(separate_data)"
   ]
  },
  {
   "cell_type": "code",
   "execution_count": null,
   "id": "f362ea88",
   "metadata": {},
   "outputs": [],
   "source": []
  },
  {
   "cell_type": "code",
   "execution_count": 12,
   "id": "35e2d9d9",
   "metadata": {},
   "outputs": [
    {
     "data": {
      "text/html": [
       "<div>\n",
       "<style scoped>\n",
       "    .dataframe tbody tr th:only-of-type {\n",
       "        vertical-align: middle;\n",
       "    }\n",
       "\n",
       "    .dataframe tbody tr th {\n",
       "        vertical-align: top;\n",
       "    }\n",
       "\n",
       "    .dataframe thead th {\n",
       "        text-align: right;\n",
       "    }\n",
       "</style>\n",
       "<table border=\"1\" class=\"dataframe\">\n",
       "  <thead>\n",
       "    <tr style=\"text-align: right;\">\n",
       "      <th></th>\n",
       "      <th>wavenumber</th>\n",
       "      <th>intensity</th>\n",
       "      <th>sample_name</th>\n",
       "    </tr>\n",
       "  </thead>\n",
       "  <tbody>\n",
       "    <tr>\n",
       "      <th>128700</th>\n",
       "      <td>667.3</td>\n",
       "      <td>0.065816</td>\n",
       "      <td>100</td>\n",
       "    </tr>\n",
       "    <tr>\n",
       "      <th>128701</th>\n",
       "      <td>669.2</td>\n",
       "      <td>0.058896</td>\n",
       "      <td>100</td>\n",
       "    </tr>\n",
       "    <tr>\n",
       "      <th>128702</th>\n",
       "      <td>671.1</td>\n",
       "      <td>0.063788</td>\n",
       "      <td>100</td>\n",
       "    </tr>\n",
       "    <tr>\n",
       "      <th>128703</th>\n",
       "      <td>673.0</td>\n",
       "      <td>0.071869</td>\n",
       "      <td>100</td>\n",
       "    </tr>\n",
       "    <tr>\n",
       "      <th>128704</th>\n",
       "      <td>675.0</td>\n",
       "      <td>0.053257</td>\n",
       "      <td>100</td>\n",
       "    </tr>\n",
       "    <tr>\n",
       "      <th>...</th>\n",
       "      <td>...</td>\n",
       "      <td>...</td>\n",
       "      <td>...</td>\n",
       "    </tr>\n",
       "    <tr>\n",
       "      <th>129995</th>\n",
       "      <td>3164.7</td>\n",
       "      <td>0.020407</td>\n",
       "      <td>100</td>\n",
       "    </tr>\n",
       "    <tr>\n",
       "      <th>129996</th>\n",
       "      <td>3166.6</td>\n",
       "      <td>0.024659</td>\n",
       "      <td>100</td>\n",
       "    </tr>\n",
       "    <tr>\n",
       "      <th>129997</th>\n",
       "      <td>3168.5</td>\n",
       "      <td>0.027168</td>\n",
       "      <td>100</td>\n",
       "    </tr>\n",
       "    <tr>\n",
       "      <th>129998</th>\n",
       "      <td>3170.5</td>\n",
       "      <td>0.035433</td>\n",
       "      <td>100</td>\n",
       "    </tr>\n",
       "    <tr>\n",
       "      <th>129999</th>\n",
       "      <td>3172.4</td>\n",
       "      <td>0.048428</td>\n",
       "      <td>100</td>\n",
       "    </tr>\n",
       "  </tbody>\n",
       "</table>\n",
       "<p>1300 rows × 3 columns</p>\n",
       "</div>"
      ],
      "text/plain": [
       "        wavenumber  intensity  sample_name\n",
       "128700       667.3   0.065816          100\n",
       "128701       669.2   0.058896          100\n",
       "128702       671.1   0.063788          100\n",
       "128703       673.0   0.071869          100\n",
       "128704       675.0   0.053257          100\n",
       "...            ...        ...          ...\n",
       "129995      3164.7   0.020407          100\n",
       "129996      3166.6   0.024659          100\n",
       "129997      3168.5   0.027168          100\n",
       "129998      3170.5   0.035433          100\n",
       "129999      3172.4   0.048428          100\n",
       "\n",
       "[1300 rows x 3 columns]"
      ]
     },
     "execution_count": 12,
     "metadata": {},
     "output_type": "execute_result"
    }
   ],
   "source": [
    "separate_data[100]"
   ]
  },
  {
   "cell_type": "code",
   "execution_count": 13,
   "id": "46775da5",
   "metadata": {},
   "outputs": [
    {
     "data": {
      "text/plain": [
       "(4000, 1)"
      ]
     },
     "execution_count": 13,
     "metadata": {},
     "output_type": "execute_result"
    }
   ],
   "source": [
    "array1 = np.zeros((4000,1), dtype=float)\n",
    "array1.shape"
   ]
  },
  {
   "cell_type": "code",
   "execution_count": 14,
   "id": "b3ef8d22",
   "metadata": {},
   "outputs": [],
   "source": [
    "data_check1 = separate_data[1]"
   ]
  },
  {
   "cell_type": "code",
   "execution_count": 15,
   "id": "a35a1676",
   "metadata": {},
   "outputs": [
    {
     "data": {
      "text/plain": [
       "pandas.core.frame.DataFrame"
      ]
     },
     "execution_count": 15,
     "metadata": {},
     "output_type": "execute_result"
    }
   ],
   "source": [
    "type(data_check1)"
   ]
  },
  {
   "cell_type": "code",
   "execution_count": 16,
   "id": "4fc235d2",
   "metadata": {},
   "outputs": [
    {
     "data": {
      "text/html": [
       "<div>\n",
       "<style scoped>\n",
       "    .dataframe tbody tr th:only-of-type {\n",
       "        vertical-align: middle;\n",
       "    }\n",
       "\n",
       "    .dataframe tbody tr th {\n",
       "        vertical-align: top;\n",
       "    }\n",
       "\n",
       "    .dataframe thead th {\n",
       "        text-align: right;\n",
       "    }\n",
       "</style>\n",
       "<table border=\"1\" class=\"dataframe\">\n",
       "  <thead>\n",
       "    <tr style=\"text-align: right;\">\n",
       "      <th></th>\n",
       "      <th>wavenumber</th>\n",
       "      <th>intensity</th>\n",
       "      <th>sample_name</th>\n",
       "    </tr>\n",
       "  </thead>\n",
       "  <tbody>\n",
       "    <tr>\n",
       "      <th>0</th>\n",
       "      <td>667.3</td>\n",
       "      <td>0.000000</td>\n",
       "      <td>1</td>\n",
       "    </tr>\n",
       "    <tr>\n",
       "      <th>1</th>\n",
       "      <td>669.2</td>\n",
       "      <td>0.000000</td>\n",
       "      <td>1</td>\n",
       "    </tr>\n",
       "    <tr>\n",
       "      <th>2</th>\n",
       "      <td>671.1</td>\n",
       "      <td>0.000000</td>\n",
       "      <td>1</td>\n",
       "    </tr>\n",
       "    <tr>\n",
       "      <th>3</th>\n",
       "      <td>673.0</td>\n",
       "      <td>0.000000</td>\n",
       "      <td>1</td>\n",
       "    </tr>\n",
       "    <tr>\n",
       "      <th>4</th>\n",
       "      <td>675.0</td>\n",
       "      <td>0.003789</td>\n",
       "      <td>1</td>\n",
       "    </tr>\n",
       "  </tbody>\n",
       "</table>\n",
       "</div>"
      ],
      "text/plain": [
       "   wavenumber  intensity  sample_name\n",
       "0       667.3   0.000000            1\n",
       "1       669.2   0.000000            1\n",
       "2       671.1   0.000000            1\n",
       "3       673.0   0.000000            1\n",
       "4       675.0   0.003789            1"
      ]
     },
     "execution_count": 16,
     "metadata": {},
     "output_type": "execute_result"
    }
   ],
   "source": [
    "data_check1.head()"
   ]
  },
  {
   "cell_type": "code",
   "execution_count": null,
   "id": "c1026c79",
   "metadata": {},
   "outputs": [],
   "source": []
  },
  {
   "cell_type": "code",
   "execution_count": 17,
   "id": "4b694625",
   "metadata": {},
   "outputs": [
    {
     "data": {
      "text/plain": [
       "3172"
      ]
     },
     "execution_count": 17,
     "metadata": {},
     "output_type": "execute_result"
    }
   ],
   "source": [
    "start_wave = int(data_check1[\"wavenumber\"][0])\n",
    "end_wave = int(data_check1[\"wavenumber\"][len(data_check1)-1])\n",
    "end_wave"
   ]
  },
  {
   "cell_type": "code",
   "execution_count": 18,
   "id": "714880dc",
   "metadata": {},
   "outputs": [
    {
     "data": {
      "text/plain": [
       "0.0037894102528922"
      ]
     },
     "execution_count": 18,
     "metadata": {},
     "output_type": "execute_result"
    }
   ],
   "source": [
    "data_check1[\"intensity\"][4]"
   ]
  },
  {
   "cell_type": "code",
   "execution_count": 19,
   "id": "9b5420ec",
   "metadata": {},
   "outputs": [],
   "source": [
    "def interpolate(i, x1, x2, y1, y2):\n",
    "    assert x1<=i<=x2, f\"the value of {i} is outside {x1} and {x2}\"\n",
    "    val = y1 + (i-x1)*(y2-y1)/(x2-x1)\n",
    "    return val"
   ]
  },
  {
   "cell_type": "code",
   "execution_count": 39,
   "id": "5b69fbce",
   "metadata": {},
   "outputs": [],
   "source": [
    "for i in range(start_wave+1, end_wave):\n",
    "    df_sort = data_check1.iloc[(data_check1['wavenumber']-i).abs().argsort()[:2]]\n",
    "    idx_list = df_sort.index.tolist()\n",
    "    prev_wave = float(data_check1[\"wavenumber\"][idx_list[0]])\n",
    "    next_wave = float(data_check1[\"wavenumber\"][idx_list[0]+1])\n",
    "\n",
    "    prev_intensity = float(data_check1[\"intensity\"][idx_list[0]])\n",
    "    next_intensity = float(data_check1[\"intensity\"][idx_list[0]+1])\n",
    "    if prev_wave>i:\n",
    "        prev_wave = float(data_check1[\"wavenumber\"][idx_list[0]-1])\n",
    "        next_wave = float(data_check1[\"wavenumber\"][idx_list[0]])\n",
    "        prev_intensity = float(data_check1[\"intensity\"][idx_list[0]-1])\n",
    "        next_intensity = float(data_check1[\"intensity\"][idx_list[0]])\n",
    "    array1[i] = interpolate(i,prev_wave, next_wave, prev_intensity, next_intensity)\n",
    "\n",
    "if next_wave>end_wave:\n",
    "    array1[end_wave] = interpolate(end_wave, prev_wave, next_wave, prev_intensity, 0)\n"
   ]
  },
  {
   "cell_type": "code",
   "execution_count": 42,
   "id": "5f841074",
   "metadata": {},
   "outputs": [
    {
     "data": {
      "text/plain": [
       "array([0.08082838])"
      ]
     },
     "execution_count": 42,
     "metadata": {},
     "output_type": "execute_result"
    }
   ],
   "source": [
    "array1[3171]"
   ]
  },
  {
   "cell_type": "code",
   "execution_count": null,
   "id": "b3c1dd0c",
   "metadata": {},
   "outputs": [],
   "source": []
  },
  {
   "cell_type": "code",
   "execution_count": 44,
   "id": "9a21b014",
   "metadata": {},
   "outputs": [
    {
     "name": "stdout",
     "output_type": "stream",
     "text": [
      "1\n",
      "2\n",
      "3\n",
      "4\n",
      "5\n",
      "6\n",
      "7\n",
      "8\n",
      "9\n",
      "10\n",
      "11\n",
      "12\n",
      "13\n",
      "14\n",
      "15\n",
      "16\n",
      "17\n",
      "18\n",
      "19\n",
      "20\n",
      "21\n",
      "22\n",
      "23\n",
      "24\n",
      "25\n",
      "26\n",
      "27\n",
      "28\n",
      "29\n",
      "30\n",
      "31\n",
      "32\n",
      "33\n",
      "34\n",
      "35\n",
      "36\n",
      "37\n",
      "38\n",
      "39\n",
      "40\n",
      "41\n",
      "42\n",
      "43\n",
      "44\n",
      "45\n",
      "46\n",
      "47\n",
      "48\n",
      "49\n",
      "50\n",
      "51\n",
      "52\n",
      "53\n",
      "54\n",
      "55\n",
      "56\n",
      "57\n",
      "58\n",
      "59\n",
      "60\n",
      "61\n",
      "62\n",
      "63\n",
      "64\n",
      "65\n",
      "66\n",
      "67\n",
      "68\n",
      "69\n",
      "70\n",
      "71\n",
      "72\n",
      "73\n",
      "74\n",
      "75\n",
      "76\n",
      "77\n",
      "78\n",
      "79\n",
      "80\n",
      "81\n",
      "82\n",
      "83\n",
      "84\n",
      "85\n",
      "86\n",
      "87\n",
      "88\n",
      "89\n",
      "90\n",
      "91\n",
      "92\n",
      "93\n",
      "94\n",
      "95\n",
      "96\n",
      "97\n",
      "98\n",
      "99\n",
      "100\n",
      "101\n",
      "102\n",
      "103\n",
      "104\n",
      "105\n",
      "106\n",
      "107\n",
      "108\n",
      "109\n",
      "110\n",
      "111\n",
      "112\n",
      "113\n",
      "114\n",
      "115\n",
      "116\n",
      "117\n",
      "118\n",
      "119\n",
      "120\n",
      "121\n",
      "122\n",
      "123\n",
      "124\n",
      "125\n",
      "126\n",
      "127\n",
      "128\n",
      "129\n",
      "130\n",
      "131\n",
      "132\n",
      "133\n",
      "134\n",
      "135\n",
      "136\n",
      "137\n",
      "138\n",
      "139\n",
      "140\n",
      "141\n",
      "142\n",
      "143\n",
      "144\n",
      "145\n",
      "146\n",
      "147\n",
      "148\n",
      "149\n",
      "150\n",
      "151\n",
      "152\n",
      "153\n",
      "154\n",
      "155\n",
      "156\n",
      "157\n",
      "158\n",
      "159\n",
      "160\n",
      "161\n",
      "162\n",
      "163\n",
      "164\n",
      "165\n",
      "166\n",
      "167\n",
      "168\n",
      "169\n",
      "170\n",
      "171\n",
      "172\n",
      "173\n",
      "174\n",
      "175\n",
      "176\n",
      "177\n",
      "178\n",
      "179\n",
      "180\n",
      "181\n",
      "182\n",
      "183\n",
      "184\n",
      "185\n",
      "186\n",
      "187\n",
      "188\n",
      "189\n",
      "190\n",
      "191\n",
      "192\n",
      "193\n",
      "194\n",
      "195\n",
      "196\n",
      "197\n",
      "198\n",
      "199\n",
      "200\n",
      "201\n",
      "202\n",
      "203\n",
      "204\n",
      "205\n",
      "206\n",
      "207\n",
      "208\n",
      "209\n",
      "210\n",
      "211\n",
      "212\n",
      "213\n",
      "214\n",
      "215\n",
      "216\n",
      "217\n",
      "218\n",
      "219\n",
      "220\n",
      "221\n",
      "222\n",
      "223\n",
      "224\n",
      "225\n",
      "226\n",
      "227\n",
      "228\n",
      "229\n",
      "230\n",
      "231\n",
      "232\n",
      "233\n",
      "234\n",
      "235\n",
      "236\n",
      "237\n",
      "238\n",
      "239\n",
      "240\n",
      "241\n",
      "242\n",
      "243\n",
      "244\n",
      "245\n",
      "246\n",
      "247\n",
      "248\n",
      "249\n",
      "250\n",
      "251\n"
     ]
    },
    {
     "ename": "KeyboardInterrupt",
     "evalue": "",
     "output_type": "error",
     "traceback": [
      "\u001b[0;31m---------------------------------------------------------------------------\u001b[0m",
      "\u001b[0;31mKeyboardInterrupt\u001b[0m                         Traceback (most recent call last)",
      "Input \u001b[0;32mIn [44]\u001b[0m, in \u001b[0;36m<cell line: 1>\u001b[0;34m()\u001b[0m\n\u001b[1;32m      3\u001b[0m array1 \u001b[38;5;241m=\u001b[39m np\u001b[38;5;241m.\u001b[39mzeros((\u001b[38;5;241m4000\u001b[39m,\u001b[38;5;241m1\u001b[39m), dtype\u001b[38;5;241m=\u001b[39m\u001b[38;5;28mfloat\u001b[39m)\n\u001b[1;32m      5\u001b[0m \u001b[38;5;28;01mfor\u001b[39;00m i \u001b[38;5;129;01min\u001b[39;00m \u001b[38;5;28mrange\u001b[39m(start_wave\u001b[38;5;241m+\u001b[39m\u001b[38;5;241m1\u001b[39m, end_wave):\n\u001b[0;32m----> 6\u001b[0m     df_sort \u001b[38;5;241m=\u001b[39m val\u001b[38;5;241m.\u001b[39miloc[(\u001b[43mval\u001b[49m\u001b[43m[\u001b[49m\u001b[38;5;124;43m'\u001b[39;49m\u001b[38;5;124;43mwavenumber\u001b[39;49m\u001b[38;5;124;43m'\u001b[39;49m\u001b[43m]\u001b[49m\u001b[38;5;241;43m-\u001b[39;49m\u001b[43mi\u001b[49m)\u001b[38;5;241m.\u001b[39mabs()\u001b[38;5;241m.\u001b[39margsort()[:\u001b[38;5;241m2\u001b[39m]]\n\u001b[1;32m      7\u001b[0m     idx_list \u001b[38;5;241m=\u001b[39m df_sort\u001b[38;5;241m.\u001b[39mindex\u001b[38;5;241m.\u001b[39mtolist()\n\u001b[1;32m      8\u001b[0m     prev_wave \u001b[38;5;241m=\u001b[39m \u001b[38;5;28mfloat\u001b[39m(val[\u001b[38;5;124m\"\u001b[39m\u001b[38;5;124mwavenumber\u001b[39m\u001b[38;5;124m\"\u001b[39m][idx_list[\u001b[38;5;241m0\u001b[39m]])\n",
      "File \u001b[0;32m~/phd/python/CNN/lib/python3.9/site-packages/pandas/core/ops/common.py:70\u001b[0m, in \u001b[0;36m_unpack_zerodim_and_defer.<locals>.new_method\u001b[0;34m(self, other)\u001b[0m\n\u001b[1;32m     66\u001b[0m             \u001b[38;5;28;01mreturn\u001b[39;00m \u001b[38;5;28mNotImplemented\u001b[39m\n\u001b[1;32m     68\u001b[0m other \u001b[38;5;241m=\u001b[39m item_from_zerodim(other)\n\u001b[0;32m---> 70\u001b[0m \u001b[38;5;28;01mreturn\u001b[39;00m \u001b[43mmethod\u001b[49m\u001b[43m(\u001b[49m\u001b[38;5;28;43mself\u001b[39;49m\u001b[43m,\u001b[49m\u001b[43m \u001b[49m\u001b[43mother\u001b[49m\u001b[43m)\u001b[49m\n",
      "File \u001b[0;32m~/phd/python/CNN/lib/python3.9/site-packages/pandas/core/arraylike.py:108\u001b[0m, in \u001b[0;36mOpsMixin.__sub__\u001b[0;34m(self, other)\u001b[0m\n\u001b[1;32m    106\u001b[0m \u001b[38;5;129m@unpack_zerodim_and_defer\u001b[39m(\u001b[38;5;124m\"\u001b[39m\u001b[38;5;124m__sub__\u001b[39m\u001b[38;5;124m\"\u001b[39m)\n\u001b[1;32m    107\u001b[0m \u001b[38;5;28;01mdef\u001b[39;00m \u001b[38;5;21m__sub__\u001b[39m(\u001b[38;5;28mself\u001b[39m, other):\n\u001b[0;32m--> 108\u001b[0m     \u001b[38;5;28;01mreturn\u001b[39;00m \u001b[38;5;28;43mself\u001b[39;49m\u001b[38;5;241;43m.\u001b[39;49m\u001b[43m_arith_method\u001b[49m\u001b[43m(\u001b[49m\u001b[43mother\u001b[49m\u001b[43m,\u001b[49m\u001b[43m \u001b[49m\u001b[43moperator\u001b[49m\u001b[38;5;241;43m.\u001b[39;49m\u001b[43msub\u001b[49m\u001b[43m)\u001b[49m\n",
      "File \u001b[0;32m~/phd/python/CNN/lib/python3.9/site-packages/pandas/core/series.py:5639\u001b[0m, in \u001b[0;36mSeries._arith_method\u001b[0;34m(self, other, op)\u001b[0m\n\u001b[1;32m   5637\u001b[0m \u001b[38;5;28;01mdef\u001b[39;00m \u001b[38;5;21m_arith_method\u001b[39m(\u001b[38;5;28mself\u001b[39m, other, op):\n\u001b[1;32m   5638\u001b[0m     \u001b[38;5;28mself\u001b[39m, other \u001b[38;5;241m=\u001b[39m ops\u001b[38;5;241m.\u001b[39malign_method_SERIES(\u001b[38;5;28mself\u001b[39m, other)\n\u001b[0;32m-> 5639\u001b[0m     \u001b[38;5;28;01mreturn\u001b[39;00m \u001b[43mbase\u001b[49m\u001b[38;5;241;43m.\u001b[39;49m\u001b[43mIndexOpsMixin\u001b[49m\u001b[38;5;241;43m.\u001b[39;49m\u001b[43m_arith_method\u001b[49m\u001b[43m(\u001b[49m\u001b[38;5;28;43mself\u001b[39;49m\u001b[43m,\u001b[49m\u001b[43m \u001b[49m\u001b[43mother\u001b[49m\u001b[43m,\u001b[49m\u001b[43m \u001b[49m\u001b[43mop\u001b[49m\u001b[43m)\u001b[49m\n",
      "File \u001b[0;32m~/phd/python/CNN/lib/python3.9/site-packages/pandas/core/base.py:1297\u001b[0m, in \u001b[0;36mIndexOpsMixin._arith_method\u001b[0;34m(self, other, op)\u001b[0m\n\u001b[1;32m   1294\u001b[0m \u001b[38;5;28;01mwith\u001b[39;00m np\u001b[38;5;241m.\u001b[39merrstate(\u001b[38;5;28mall\u001b[39m\u001b[38;5;241m=\u001b[39m\u001b[38;5;124m\"\u001b[39m\u001b[38;5;124mignore\u001b[39m\u001b[38;5;124m\"\u001b[39m):\n\u001b[1;32m   1295\u001b[0m     result \u001b[38;5;241m=\u001b[39m ops\u001b[38;5;241m.\u001b[39marithmetic_op(lvalues, rvalues, op)\n\u001b[0;32m-> 1297\u001b[0m \u001b[38;5;28;01mreturn\u001b[39;00m \u001b[38;5;28;43mself\u001b[39;49m\u001b[38;5;241;43m.\u001b[39;49m\u001b[43m_construct_result\u001b[49m\u001b[43m(\u001b[49m\u001b[43mresult\u001b[49m\u001b[43m,\u001b[49m\u001b[43m \u001b[49m\u001b[43mname\u001b[49m\u001b[38;5;241;43m=\u001b[39;49m\u001b[43mres_name\u001b[49m\u001b[43m)\u001b[49m\n",
      "File \u001b[0;32m~/phd/python/CNN/lib/python3.9/site-packages/pandas/core/series.py:3017\u001b[0m, in \u001b[0;36mSeries._construct_result\u001b[0;34m(self, result, name)\u001b[0m\n\u001b[1;32m   3013\u001b[0m     \u001b[38;5;28;01mreturn\u001b[39;00m (res1, res2)\n\u001b[1;32m   3015\u001b[0m \u001b[38;5;66;03m# We do not pass dtype to ensure that the Series constructor\u001b[39;00m\n\u001b[1;32m   3016\u001b[0m \u001b[38;5;66;03m#  does inference in the case where `result` has object-dtype.\u001b[39;00m\n\u001b[0;32m-> 3017\u001b[0m out \u001b[38;5;241m=\u001b[39m \u001b[38;5;28;43mself\u001b[39;49m\u001b[38;5;241;43m.\u001b[39;49m\u001b[43m_constructor\u001b[49m\u001b[43m(\u001b[49m\u001b[43mresult\u001b[49m\u001b[43m,\u001b[49m\u001b[43m \u001b[49m\u001b[43mindex\u001b[49m\u001b[38;5;241;43m=\u001b[39;49m\u001b[38;5;28;43mself\u001b[39;49m\u001b[38;5;241;43m.\u001b[39;49m\u001b[43mindex\u001b[49m\u001b[43m)\u001b[49m\n\u001b[1;32m   3018\u001b[0m out \u001b[38;5;241m=\u001b[39m out\u001b[38;5;241m.\u001b[39m__finalize__(\u001b[38;5;28mself\u001b[39m)\n\u001b[1;32m   3020\u001b[0m \u001b[38;5;66;03m# Set the result's name after __finalize__ is called because __finalize__\u001b[39;00m\n\u001b[1;32m   3021\u001b[0m \u001b[38;5;66;03m#  would set it back to self.name\u001b[39;00m\n",
      "File \u001b[0;32m~/phd/python/CNN/lib/python3.9/site-packages/pandas/core/series.py:455\u001b[0m, in \u001b[0;36mSeries.__init__\u001b[0;34m(self, data, index, dtype, name, copy, fastpath)\u001b[0m\n\u001b[1;32m    453\u001b[0m manager \u001b[38;5;241m=\u001b[39m get_option(\u001b[38;5;124m\"\u001b[39m\u001b[38;5;124mmode.data_manager\u001b[39m\u001b[38;5;124m\"\u001b[39m)\n\u001b[1;32m    454\u001b[0m \u001b[38;5;28;01mif\u001b[39;00m manager \u001b[38;5;241m==\u001b[39m \u001b[38;5;124m\"\u001b[39m\u001b[38;5;124mblock\u001b[39m\u001b[38;5;124m\"\u001b[39m:\n\u001b[0;32m--> 455\u001b[0m     data \u001b[38;5;241m=\u001b[39m \u001b[43mSingleBlockManager\u001b[49m\u001b[38;5;241;43m.\u001b[39;49m\u001b[43mfrom_array\u001b[49m\u001b[43m(\u001b[49m\u001b[43mdata\u001b[49m\u001b[43m,\u001b[49m\u001b[43m \u001b[49m\u001b[43mindex\u001b[49m\u001b[43m)\u001b[49m\n\u001b[1;32m    456\u001b[0m \u001b[38;5;28;01melif\u001b[39;00m manager \u001b[38;5;241m==\u001b[39m \u001b[38;5;124m\"\u001b[39m\u001b[38;5;124marray\u001b[39m\u001b[38;5;124m\"\u001b[39m:\n\u001b[1;32m    457\u001b[0m     data \u001b[38;5;241m=\u001b[39m SingleArrayManager\u001b[38;5;241m.\u001b[39mfrom_array(data, index)\n",
      "File \u001b[0;32m~/phd/python/CNN/lib/python3.9/site-packages/pandas/core/internals/managers.py:1736\u001b[0m, in \u001b[0;36mSingleBlockManager.from_array\u001b[0;34m(cls, array, index)\u001b[0m\n\u001b[1;32m   1731\u001b[0m \u001b[38;5;129m@classmethod\u001b[39m\n\u001b[1;32m   1732\u001b[0m \u001b[38;5;28;01mdef\u001b[39;00m \u001b[38;5;21mfrom_array\u001b[39m(\u001b[38;5;28mcls\u001b[39m, array: ArrayLike, index: Index) \u001b[38;5;241m-\u001b[39m\u001b[38;5;241m>\u001b[39m SingleBlockManager:\n\u001b[1;32m   1733\u001b[0m     \u001b[38;5;124;03m\"\"\"\u001b[39;00m\n\u001b[1;32m   1734\u001b[0m \u001b[38;5;124;03m    Constructor for if we have an array that is not yet a Block.\u001b[39;00m\n\u001b[1;32m   1735\u001b[0m \u001b[38;5;124;03m    \"\"\"\u001b[39;00m\n\u001b[0;32m-> 1736\u001b[0m     block \u001b[38;5;241m=\u001b[39m \u001b[43mnew_block\u001b[49m\u001b[43m(\u001b[49m\u001b[43marray\u001b[49m\u001b[43m,\u001b[49m\u001b[43m \u001b[49m\u001b[43mplacement\u001b[49m\u001b[38;5;241;43m=\u001b[39;49m\u001b[38;5;28;43mslice\u001b[39;49m\u001b[43m(\u001b[49m\u001b[38;5;241;43m0\u001b[39;49m\u001b[43m,\u001b[49m\u001b[43m \u001b[49m\u001b[38;5;28;43mlen\u001b[39;49m\u001b[43m(\u001b[49m\u001b[43mindex\u001b[49m\u001b[43m)\u001b[49m\u001b[43m)\u001b[49m\u001b[43m,\u001b[49m\u001b[43m \u001b[49m\u001b[43mndim\u001b[49m\u001b[38;5;241;43m=\u001b[39;49m\u001b[38;5;241;43m1\u001b[39;49m\u001b[43m)\u001b[49m\n\u001b[1;32m   1737\u001b[0m     \u001b[38;5;28;01mreturn\u001b[39;00m \u001b[38;5;28mcls\u001b[39m(block, index)\n",
      "File \u001b[0;32m~/phd/python/CNN/lib/python3.9/site-packages/pandas/core/internals/blocks.py:2051\u001b[0m, in \u001b[0;36mnew_block\u001b[0;34m(values, placement, ndim)\u001b[0m\n\u001b[1;32m   2047\u001b[0m     placement \u001b[38;5;241m=\u001b[39m BlockPlacement(placement)\n\u001b[1;32m   2049\u001b[0m check_ndim(values, placement, ndim)\n\u001b[0;32m-> 2051\u001b[0m klass \u001b[38;5;241m=\u001b[39m \u001b[43mget_block_type\u001b[49m\u001b[43m(\u001b[49m\u001b[43mvalues\u001b[49m\u001b[38;5;241;43m.\u001b[39;49m\u001b[43mdtype\u001b[49m\u001b[43m)\u001b[49m\n\u001b[1;32m   2053\u001b[0m values \u001b[38;5;241m=\u001b[39m maybe_coerce_values(values)\n\u001b[1;32m   2054\u001b[0m \u001b[38;5;28;01mreturn\u001b[39;00m klass(values, ndim\u001b[38;5;241m=\u001b[39mndim, placement\u001b[38;5;241m=\u001b[39mplacement)\n",
      "File \u001b[0;32m~/phd/python/CNN/lib/python3.9/site-packages/pandas/core/internals/blocks.py:2026\u001b[0m, in \u001b[0;36mget_block_type\u001b[0;34m(dtype)\u001b[0m\n\u001b[1;32m   2024\u001b[0m     \u001b[38;5;28mcls\u001b[39m \u001b[38;5;241m=\u001b[39m DatetimeLikeBlock\n\u001b[1;32m   2025\u001b[0m \u001b[38;5;28;01melif\u001b[39;00m kind \u001b[38;5;129;01min\u001b[39;00m [\u001b[38;5;124m\"\u001b[39m\u001b[38;5;124mf\u001b[39m\u001b[38;5;124m\"\u001b[39m, \u001b[38;5;124m\"\u001b[39m\u001b[38;5;124mc\u001b[39m\u001b[38;5;124m\"\u001b[39m, \u001b[38;5;124m\"\u001b[39m\u001b[38;5;124mi\u001b[39m\u001b[38;5;124m\"\u001b[39m, \u001b[38;5;124m\"\u001b[39m\u001b[38;5;124mu\u001b[39m\u001b[38;5;124m\"\u001b[39m, \u001b[38;5;124m\"\u001b[39m\u001b[38;5;124mb\u001b[39m\u001b[38;5;124m\"\u001b[39m]:\n\u001b[0;32m-> 2026\u001b[0m     \u001b[38;5;28mcls\u001b[39m \u001b[38;5;241m=\u001b[39m \u001b[43mNumericBlock\u001b[49m\n\u001b[1;32m   2027\u001b[0m \u001b[38;5;28;01melse\u001b[39;00m:\n\u001b[1;32m   2028\u001b[0m     \u001b[38;5;28mcls\u001b[39m \u001b[38;5;241m=\u001b[39m ObjectBlock\n",
      "\u001b[0;31mKeyboardInterrupt\u001b[0m: "
     ]
    }
   ],
   "source": []
  },
  {
   "cell_type": "code",
   "execution_count": 20,
   "id": "ee310e7a",
   "metadata": {},
   "outputs": [],
   "source": [
    "metadata = pd.read_csv(\"ftir_metadata.csv\")"
   ]
  },
  {
   "cell_type": "code",
   "execution_count": 21,
   "id": "bd1ca2fb",
   "metadata": {},
   "outputs": [
    {
     "data": {
      "text/html": [
       "<div>\n",
       "<style scoped>\n",
       "    .dataframe tbody tr th:only-of-type {\n",
       "        vertical-align: middle;\n",
       "    }\n",
       "\n",
       "    .dataframe tbody tr th {\n",
       "        vertical-align: top;\n",
       "    }\n",
       "\n",
       "    .dataframe thead th {\n",
       "        text-align: right;\n",
       "    }\n",
       "</style>\n",
       "<table border=\"1\" class=\"dataframe\">\n",
       "  <thead>\n",
       "    <tr style=\"text-align: right;\">\n",
       "      <th></th>\n",
       "      <th>spectrum_identity</th>\n",
       "      <th>spectrum_id</th>\n",
       "      <th>organization</th>\n",
       "      <th>spectrum_type</th>\n",
       "      <th>instrument_used</th>\n",
       "      <th>spectral_resolution</th>\n",
       "      <th>number_of_accumulations</th>\n",
       "      <th>material_form</th>\n",
       "      <th>color</th>\n",
       "      <th>instrument_mode</th>\n",
       "      <th>...</th>\n",
       "      <th>laser_light_used</th>\n",
       "      <th>total_acquisition_time_s</th>\n",
       "      <th>data_processing_procedure</th>\n",
       "      <th>level_of_confidence_in_identification</th>\n",
       "      <th>smoother</th>\n",
       "      <th>baseline</th>\n",
       "      <th>range</th>\n",
       "      <th>time_stamp</th>\n",
       "      <th>sample_name</th>\n",
       "      <th>rsq</th>\n",
       "    </tr>\n",
       "  </thead>\n",
       "  <tbody>\n",
       "    <tr>\n",
       "      <th>0</th>\n",
       "      <td>HDPE</td>\n",
       "      <td>HDPESample 1Beauty C</td>\n",
       "      <td>Chabuka et al. 2020</td>\n",
       "      <td>FTIR</td>\n",
       "      <td>ThermalNicolet Nexus 670 FT-IR</td>\n",
       "      <td>4/cm</td>\n",
       "      <td>3.0</td>\n",
       "      <td>NaN</td>\n",
       "      <td>NaN</td>\n",
       "      <td>NaN</td>\n",
       "      <td>...</td>\n",
       "      <td>NaN</td>\n",
       "      <td>NaN</td>\n",
       "      <td>NaN</td>\n",
       "      <td>NaN</td>\n",
       "      <td>NaN</td>\n",
       "      <td>NaN</td>\n",
       "      <td>NaN</td>\n",
       "      <td>NaN</td>\n",
       "      <td>1</td>\n",
       "      <td>NaN</td>\n",
       "    </tr>\n",
       "    <tr>\n",
       "      <th>1</th>\n",
       "      <td>HDPE</td>\n",
       "      <td>HDPESample 2Beauty C</td>\n",
       "      <td>Chabuka et al. 2020</td>\n",
       "      <td>FTIR</td>\n",
       "      <td>ThermalNicolet Nexus 670 FT-IR</td>\n",
       "      <td>4/cm</td>\n",
       "      <td>3.0</td>\n",
       "      <td>NaN</td>\n",
       "      <td>NaN</td>\n",
       "      <td>NaN</td>\n",
       "      <td>...</td>\n",
       "      <td>NaN</td>\n",
       "      <td>NaN</td>\n",
       "      <td>NaN</td>\n",
       "      <td>NaN</td>\n",
       "      <td>NaN</td>\n",
       "      <td>NaN</td>\n",
       "      <td>NaN</td>\n",
       "      <td>NaN</td>\n",
       "      <td>2</td>\n",
       "      <td>NaN</td>\n",
       "    </tr>\n",
       "    <tr>\n",
       "      <th>2</th>\n",
       "      <td>HDPE</td>\n",
       "      <td>HDPESample 3Beauty C</td>\n",
       "      <td>Chabuka et al. 2020</td>\n",
       "      <td>FTIR</td>\n",
       "      <td>ThermalNicolet Nexus 670 FT-IR</td>\n",
       "      <td>4/cm</td>\n",
       "      <td>3.0</td>\n",
       "      <td>NaN</td>\n",
       "      <td>NaN</td>\n",
       "      <td>NaN</td>\n",
       "      <td>...</td>\n",
       "      <td>NaN</td>\n",
       "      <td>NaN</td>\n",
       "      <td>NaN</td>\n",
       "      <td>NaN</td>\n",
       "      <td>NaN</td>\n",
       "      <td>NaN</td>\n",
       "      <td>NaN</td>\n",
       "      <td>NaN</td>\n",
       "      <td>3</td>\n",
       "      <td>NaN</td>\n",
       "    </tr>\n",
       "    <tr>\n",
       "      <th>3</th>\n",
       "      <td>HDPE</td>\n",
       "      <td>HDPESample 4Beauty C</td>\n",
       "      <td>Chabuka et al. 2020</td>\n",
       "      <td>FTIR</td>\n",
       "      <td>ThermalNicolet Nexus 670 FT-IR</td>\n",
       "      <td>4/cm</td>\n",
       "      <td>3.0</td>\n",
       "      <td>NaN</td>\n",
       "      <td>NaN</td>\n",
       "      <td>NaN</td>\n",
       "      <td>...</td>\n",
       "      <td>NaN</td>\n",
       "      <td>NaN</td>\n",
       "      <td>NaN</td>\n",
       "      <td>NaN</td>\n",
       "      <td>NaN</td>\n",
       "      <td>NaN</td>\n",
       "      <td>NaN</td>\n",
       "      <td>NaN</td>\n",
       "      <td>4</td>\n",
       "      <td>NaN</td>\n",
       "    </tr>\n",
       "    <tr>\n",
       "      <th>4</th>\n",
       "      <td>HDPE</td>\n",
       "      <td>HDPESample 5Beauty C</td>\n",
       "      <td>Chabuka et al. 2020</td>\n",
       "      <td>FTIR</td>\n",
       "      <td>ThermalNicolet Nexus 670 FT-IR</td>\n",
       "      <td>4/cm</td>\n",
       "      <td>3.0</td>\n",
       "      <td>NaN</td>\n",
       "      <td>NaN</td>\n",
       "      <td>NaN</td>\n",
       "      <td>...</td>\n",
       "      <td>NaN</td>\n",
       "      <td>NaN</td>\n",
       "      <td>NaN</td>\n",
       "      <td>NaN</td>\n",
       "      <td>NaN</td>\n",
       "      <td>NaN</td>\n",
       "      <td>NaN</td>\n",
       "      <td>NaN</td>\n",
       "      <td>5</td>\n",
       "      <td>NaN</td>\n",
       "    </tr>\n",
       "  </tbody>\n",
       "</table>\n",
       "<p>5 rows × 28 columns</p>\n",
       "</div>"
      ],
      "text/plain": [
       "  spectrum_identity           spectrum_id         organization spectrum_type  \\\n",
       "0              HDPE  HDPESample 1Beauty C  Chabuka et al. 2020          FTIR   \n",
       "1              HDPE  HDPESample 2Beauty C  Chabuka et al. 2020          FTIR   \n",
       "2              HDPE  HDPESample 3Beauty C  Chabuka et al. 2020          FTIR   \n",
       "3              HDPE  HDPESample 4Beauty C  Chabuka et al. 2020          FTIR   \n",
       "4              HDPE  HDPESample 5Beauty C  Chabuka et al. 2020          FTIR   \n",
       "\n",
       "                  instrument_used spectral_resolution  \\\n",
       "0  ThermalNicolet Nexus 670 FT-IR                4/cm   \n",
       "1  ThermalNicolet Nexus 670 FT-IR                4/cm   \n",
       "2  ThermalNicolet Nexus 670 FT-IR                4/cm   \n",
       "3  ThermalNicolet Nexus 670 FT-IR                4/cm   \n",
       "4  ThermalNicolet Nexus 670 FT-IR                4/cm   \n",
       "\n",
       "   number_of_accumulations material_form color instrument_mode  ...  \\\n",
       "0                      3.0           NaN   NaN             NaN  ...   \n",
       "1                      3.0           NaN   NaN             NaN  ...   \n",
       "2                      3.0           NaN   NaN             NaN  ...   \n",
       "3                      3.0           NaN   NaN             NaN  ...   \n",
       "4                      3.0           NaN   NaN             NaN  ...   \n",
       "\n",
       "  laser_light_used total_acquisition_time_s  data_processing_procedure  \\\n",
       "0              NaN                      NaN                        NaN   \n",
       "1              NaN                      NaN                        NaN   \n",
       "2              NaN                      NaN                        NaN   \n",
       "3              NaN                      NaN                        NaN   \n",
       "4              NaN                      NaN                        NaN   \n",
       "\n",
       "   level_of_confidence_in_identification  smoother  baseline  range  \\\n",
       "0                                    NaN       NaN       NaN    NaN   \n",
       "1                                    NaN       NaN       NaN    NaN   \n",
       "2                                    NaN       NaN       NaN    NaN   \n",
       "3                                    NaN       NaN       NaN    NaN   \n",
       "4                                    NaN       NaN       NaN    NaN   \n",
       "\n",
       "   time_stamp  sample_name  rsq  \n",
       "0         NaN            1  NaN  \n",
       "1         NaN            2  NaN  \n",
       "2         NaN            3  NaN  \n",
       "3         NaN            4  NaN  \n",
       "4         NaN            5  NaN  \n",
       "\n",
       "[5 rows x 28 columns]"
      ]
     },
     "execution_count": 21,
     "metadata": {},
     "output_type": "execute_result"
    }
   ],
   "source": [
    "metadata.head()"
   ]
  },
  {
   "cell_type": "code",
   "execution_count": 22,
   "id": "e3b282fc",
   "metadata": {},
   "outputs": [
    {
     "data": {
      "text/plain": [
       "array(['HDPE', 'PET', '1 2 polybutadiene',\n",
       "       'acrylonitrile butadiene styrene', 'fibre acetate',\n",
       "       'acrylonitrile butadiene', 'algae desmarestia viridis',\n",
       "       'algae fucus serratus', 'algae laminaria digita and hyperborea',\n",
       "       'algae laminaria sacharina', 'alginic acid  sodium salt',\n",
       "       'fur alpaca', 'polyethylene wax oxidized', 'polyethylene wax',\n",
       "       'fur angora rabbit', 'broodcomb', 'amber', 'polyester epoxide',\n",
       "       'epoxide resin', 'polyester', 'polyhydroxybutyric acid',\n",
       "       'butyl methacrylate isobutyl methacrolate', 'fur camel',\n",
       "       'wool cashmere crossbred', 'wool cashmere kasakhstan',\n",
       "       'wool cashmere mongolia', 'fur cat european shorthair',\n",
       "       'cellulose', 'cellulose acetate', 'cellulose acetate butyrate',\n",
       "       'cellulose triacetate', 'cellulose propionate',\n",
       "       'chitin crangon antonia', 'chitin from crustacean shells',\n",
       "       'chitin cancer pagurus', 'fibre cocoanut', 'copolyamide',\n",
       "       'copolyester', 'fibre cotton combers', 'fibre cotton US pima',\n",
       "       'fibre cotton uzbekistan', 'fur cow', 'crangon  chitin exuvie',\n",
       "       'sealing ring EPDM', 'sealing ring Gardena 1124 large',\n",
       "       'sealing ring Gardena 1124 small',\n",
       "       'sealing ring Gardena 2824 large',\n",
       "       'sealing ring Gardena 2824 small',\n",
       "       'sealing ring Gardena 2824 medium', 'fur dog', 'honeycomb',\n",
       "       'polystyrene expanded', 'silicone rubber', 'ethyl cellulose',\n",
       "       'ethylene acrylic acid', 'ethylene ethyl acrylate',\n",
       "       'ethylene methacrylic acid', 'ethylene propylene',\n",
       "       'ethylene vinyl acetate', 'ethylene vinyl alcohol',\n",
       "       'polyethylene high density', 'fibre urtica dioica L conar fibra',\n",
       "       'fibre flax', 'honeycomb freshly removed with nectar',\n",
       "       'honeycomb freshly removed', 'fibre grass', 'fibre hemp fine',\n",
       "       'fibre hemp rough', 'alkyd varnish', 'wood beech', 'wood pine',\n",
       "       'wood glue', 'wood mahagoni', 'broodcomb once brooded',\n",
       "       'polytehylene terephthalate', 'hydroxyethyl cellulose',\n",
       "       'hydroxypropyl cellulose', 'hydroxypropyl methyl cellulose',\n",
       "       'fibre indian raw cotton', 'fibre jute', 'fibre kapok',\n",
       "       'polyvinylchloride', 'polypropylene', 'polyethylene foamed',\n",
       "       'silica gel lab', 'polyurethane acrylic resin', 'cellulose wipe',\n",
       "       'lahmian medium acrylic paint', 'fur lama',\n",
       "       'polyethylene low density', 'fibre linen',\n",
       "       'merino scoured wool made rough', 'methyl cellulose',\n",
       "       'methyl vinyl ether maleic acid',\n",
       "       'methyl vinyl ether maleic anhydride', 'honeycomb middle wall',\n",
       "       'fur mohair angora goat', 'polyimide', 'aramid', 'polyamide',\n",
       "       'polycarbonate', 'fibre mulberry silk', 'nitrile rubber',\n",
       "       'nylon 6 (3)  T', 'nylon 6', 'nylon 6 6', 'nylon 6 9',\n",
       "       'nylon 6 12', 'nylon 11', 'nylon 12',\n",
       "       'n vinylpyrrolidone vinyl acetate', 'honeycomb top bar',\n",
       "       'fibre polyamide 6 (not)stretched', 'fibre polyamide 6',\n",
       "       'polyamide 6', 'fibre polyamide 6 P6.6', 'polymaide 66',\n",
       "       'polybuthylene terephthalate', 'polyesterurethane',\n",
       "       'polytehylene terephthalate amorphous', 'phenoxy resin',\n",
       "       'polylactic acid', 'poly(1 butene) isotactic',\n",
       "       'poly(2 4 6 tribromostyrene)',\n",
       "       'poly(2 6 dimethyl p phenylene oxide)',\n",
       "       'poly(2 hydroxyethyl methacrylate)',\n",
       "       \"poly(4 4' dipropoxy 2 2' diphenyl propane fumarate)\",\n",
       "       'poly(4 methyl 1 pentene)', 'poly(acrylic acid)',\n",
       "       'poly(butylene terephthalate)', 'poly(diallyl isophthalate)',\n",
       "       'poly(ethylene glycol)', 'poly(ethylene oxide)',\n",
       "       'poly(ethylene terephthalate)', 'poly(ethyl methacrylate)',\n",
       "       'poly(isobutyl methacrylate)', 'poly(methyl methacrylate)',\n",
       "       'poly(n butyl methacrylate)', 'poly(phenylene sulfide)',\n",
       "       'poly(p phenylene ether sulphone)', 'poly(tetrafluoroethylene)',\n",
       "       'poly(vinyl acetate)', 'poly(vinyl alcohol)',\n",
       "       'poly(vinyl butyral)', 'poly(vinyl chloride)',\n",
       "       'poly(vinyl chloride) carboxylated', 'poly(vinyl formal)',\n",
       "       'poly(vinylidene fluoride)', 'poly(vinyl stearate)', 'polyacetal',\n",
       "       'polyacrylamide', 'polyacrylamide carboxyl modified',\n",
       "       'fibre polyactide', 'polyamide resin', 'polycaprolactone',\n",
       "       'polychloroprene', 'fibre polyester', 'fibre polyetheretherketone',\n",
       "       'polyethylene chlorinated', 'polyethylene chlorosulfonated',\n",
       "       'polyethylene oxidized', 'polyethylene terephtalate',\n",
       "       'polyisoprene chlorinated', 'fibre polypropylene',\n",
       "       'fibre polypropylene dyed', 'polypropylene isotactic',\n",
       "       'polystyrene', 'polysulfone', 'polytetrafluoroethylene',\n",
       "       'polyurethane', 'fibre polyvinyl alcohol', 'polyvinyl alcohol',\n",
       "       'fibre polyvinylidene fluoride', 'polyvinylpyrrolidone',\n",
       "       'polyoxymethylene', 'fibre poplar down', 'polyphenylsulfone',\n",
       "       'polyetherurethane', 'polyetherester',\n",
       "       'polyvinylchloride with plasticizer', 'quartz sand lab',\n",
       "       'quartz sand beach', 'wool raw cashmere afghanistan',\n",
       "       'wool raw cashmere mongolia', 'fur red deer', 'fibre roasted flax',\n",
       "       'polyethylene low density linear', 'styrene acrylonitrile',\n",
       "       'windscreen wiper rubber', 'black broodcomb',\n",
       "       'scoured wool  not made rough', 'silicone seal reactor',\n",
       "       'fibre silk slubbing', 'resin dispersion', 'styrene allyl alcohol',\n",
       "       'styrene butadiene', 'styrene butyl methacrylate',\n",
       "       'styrene ethylene butylene', 'styrene isoprene',\n",
       "       'styrene maleic anhydride',\n",
       "       'styrene maleic anhydride partial methyl ester',\n",
       "       'fibre thermoplastic elastomere', 'fibre turf',\n",
       "       'fibre tussah silk', 'vinyl chloride vinyl acetate',\n",
       "       'vinyl chloride vinyl acetate hydroxypropyl acrylate',\n",
       "       'vinyl chloride vinyl acetate maleic acid',\n",
       "       'vinylidene chloride acrylonitrile',\n",
       "       'vinylidene chloride vinyl chloride', 'fibre viscose',\n",
       "       'fibre viscose dyed', 'fur wild boar', 'wool',\n",
       "       'wool slubbing fine', 'wool slubbing rough',\n",
       "       'wool sheep supersoft', 'fur yak', 'fur yak bleached',\n",
       "       'zein purified', 'cigarette filter', 'polyamide 66',\n",
       "       'polyethylene terephthalate', 'polymethyl methacrylate', 'coal',\n",
       "       'PVA with Kaolin clay', 'Pthalate and propyl alcohol mix',\n",
       "       'Polypropylene  with silicate mix', 'Polyethylene',\n",
       "       'Polyethereamide', 'Polyester', 'papercup_cellulosic',\n",
       "       'polyethylene', 'polu butadiene acrylonitrile',\n",
       "       'Plumbers tape sealing putty', 'polyesterterpthalate',\n",
       "       'poly(ethylene terepthalate)', 'PE+silicate+bio',\n",
       "       'PE with silicate inorganic',\n",
       "       'Polyethylene with acryloid and pthalocyanine (blue)', 'PDMS',\n",
       "       'nitrocellulose', 'Nitrocellulose', 'leaf-plant-',\n",
       "       'Cardboard/cellulose', 'Teflon/PTFE', 'Acrylic', 'Cellulose',\n",
       "       'Polyether urethane with additives', 'PMMA', 'Styrofoam',\n",
       "       'silicone/PDMS'], dtype=object)"
      ]
     },
     "execution_count": 22,
     "metadata": {},
     "output_type": "execute_result"
    }
   ],
   "source": [
    "metadata[\"spectrum_identity\"].unique()"
   ]
  },
  {
   "cell_type": "code",
   "execution_count": 23,
   "id": "7105db26",
   "metadata": {},
   "outputs": [
    {
     "data": {
      "text/html": [
       "<div>\n",
       "<style scoped>\n",
       "    .dataframe tbody tr th:only-of-type {\n",
       "        vertical-align: middle;\n",
       "    }\n",
       "\n",
       "    .dataframe tbody tr th {\n",
       "        vertical-align: top;\n",
       "    }\n",
       "\n",
       "    .dataframe thead th {\n",
       "        text-align: right;\n",
       "    }\n",
       "</style>\n",
       "<table border=\"1\" class=\"dataframe\">\n",
       "  <thead>\n",
       "    <tr style=\"text-align: right;\">\n",
       "      <th></th>\n",
       "      <th>spectrum_identity</th>\n",
       "      <th>spectrum_id</th>\n",
       "      <th>organization</th>\n",
       "      <th>spectrum_type</th>\n",
       "      <th>instrument_used</th>\n",
       "      <th>spectral_resolution</th>\n",
       "      <th>number_of_accumulations</th>\n",
       "      <th>material_form</th>\n",
       "      <th>color</th>\n",
       "      <th>instrument_mode</th>\n",
       "      <th>...</th>\n",
       "      <th>laser_light_used</th>\n",
       "      <th>total_acquisition_time_s</th>\n",
       "      <th>data_processing_procedure</th>\n",
       "      <th>level_of_confidence_in_identification</th>\n",
       "      <th>smoother</th>\n",
       "      <th>baseline</th>\n",
       "      <th>range</th>\n",
       "      <th>time_stamp</th>\n",
       "      <th>sample_name</th>\n",
       "      <th>rsq</th>\n",
       "    </tr>\n",
       "  </thead>\n",
       "  <tbody>\n",
       "    <tr>\n",
       "      <th>272</th>\n",
       "      <td>1 2 polybutadiene</td>\n",
       "      <td>1Primpke</td>\n",
       "      <td>Primpke et al. 2018</td>\n",
       "      <td>FTIR</td>\n",
       "      <td>NaN</td>\n",
       "      <td>NaN</td>\n",
       "      <td>NaN</td>\n",
       "      <td>beads</td>\n",
       "      <td>transparent</td>\n",
       "      <td>ATR</td>\n",
       "      <td>...</td>\n",
       "      <td>NaN</td>\n",
       "      <td>NaN</td>\n",
       "      <td>NaN</td>\n",
       "      <td>NaN</td>\n",
       "      <td>NaN</td>\n",
       "      <td>NaN</td>\n",
       "      <td>NaN</td>\n",
       "      <td>NaN</td>\n",
       "      <td>273</td>\n",
       "      <td>NaN</td>\n",
       "    </tr>\n",
       "    <tr>\n",
       "      <th>283</th>\n",
       "      <td>polyethylene wax oxidized</td>\n",
       "      <td>12Primpke</td>\n",
       "      <td>Primpke et al. 2018</td>\n",
       "      <td>FTIR</td>\n",
       "      <td>NaN</td>\n",
       "      <td>NaN</td>\n",
       "      <td>NaN</td>\n",
       "      <td>wax powder</td>\n",
       "      <td>white</td>\n",
       "      <td>ATR</td>\n",
       "      <td>...</td>\n",
       "      <td>NaN</td>\n",
       "      <td>NaN</td>\n",
       "      <td>NaN</td>\n",
       "      <td>NaN</td>\n",
       "      <td>NaN</td>\n",
       "      <td>NaN</td>\n",
       "      <td>NaN</td>\n",
       "      <td>NaN</td>\n",
       "      <td>284</td>\n",
       "      <td>NaN</td>\n",
       "    </tr>\n",
       "    <tr>\n",
       "      <th>284</th>\n",
       "      <td>polyethylene wax</td>\n",
       "      <td>13Primpke</td>\n",
       "      <td>Primpke et al. 2018</td>\n",
       "      <td>FTIR</td>\n",
       "      <td>NaN</td>\n",
       "      <td>NaN</td>\n",
       "      <td>NaN</td>\n",
       "      <td>wax powder</td>\n",
       "      <td>white</td>\n",
       "      <td>ATR</td>\n",
       "      <td>...</td>\n",
       "      <td>NaN</td>\n",
       "      <td>NaN</td>\n",
       "      <td>NaN</td>\n",
       "      <td>NaN</td>\n",
       "      <td>NaN</td>\n",
       "      <td>NaN</td>\n",
       "      <td>NaN</td>\n",
       "      <td>NaN</td>\n",
       "      <td>285</td>\n",
       "      <td>NaN</td>\n",
       "    </tr>\n",
       "    <tr>\n",
       "      <th>285</th>\n",
       "      <td>polyethylene wax</td>\n",
       "      <td>14Primpke</td>\n",
       "      <td>Primpke et al. 2018</td>\n",
       "      <td>FTIR</td>\n",
       "      <td>NaN</td>\n",
       "      <td>NaN</td>\n",
       "      <td>NaN</td>\n",
       "      <td>wax powder</td>\n",
       "      <td>white</td>\n",
       "      <td>ATR</td>\n",
       "      <td>...</td>\n",
       "      <td>NaN</td>\n",
       "      <td>NaN</td>\n",
       "      <td>NaN</td>\n",
       "      <td>NaN</td>\n",
       "      <td>NaN</td>\n",
       "      <td>NaN</td>\n",
       "      <td>NaN</td>\n",
       "      <td>NaN</td>\n",
       "      <td>286</td>\n",
       "      <td>NaN</td>\n",
       "    </tr>\n",
       "    <tr>\n",
       "      <th>289</th>\n",
       "      <td>polyester epoxide</td>\n",
       "      <td>18Primpke</td>\n",
       "      <td>Primpke et al. 2018</td>\n",
       "      <td>FTIR</td>\n",
       "      <td>NaN</td>\n",
       "      <td>NaN</td>\n",
       "      <td>NaN</td>\n",
       "      <td>powder</td>\n",
       "      <td>white</td>\n",
       "      <td>ATR</td>\n",
       "      <td>...</td>\n",
       "      <td>NaN</td>\n",
       "      <td>NaN</td>\n",
       "      <td>NaN</td>\n",
       "      <td>NaN</td>\n",
       "      <td>NaN</td>\n",
       "      <td>NaN</td>\n",
       "      <td>NaN</td>\n",
       "      <td>NaN</td>\n",
       "      <td>290</td>\n",
       "      <td>NaN</td>\n",
       "    </tr>\n",
       "  </tbody>\n",
       "</table>\n",
       "<p>5 rows × 28 columns</p>\n",
       "</div>"
      ],
      "text/plain": [
       "             spectrum_identity spectrum_id         organization spectrum_type  \\\n",
       "272          1 2 polybutadiene    1Primpke  Primpke et al. 2018          FTIR   \n",
       "283  polyethylene wax oxidized   12Primpke  Primpke et al. 2018          FTIR   \n",
       "284           polyethylene wax   13Primpke  Primpke et al. 2018          FTIR   \n",
       "285           polyethylene wax   14Primpke  Primpke et al. 2018          FTIR   \n",
       "289          polyester epoxide   18Primpke  Primpke et al. 2018          FTIR   \n",
       "\n",
       "    instrument_used spectral_resolution  number_of_accumulations  \\\n",
       "272             NaN                 NaN                      NaN   \n",
       "283             NaN                 NaN                      NaN   \n",
       "284             NaN                 NaN                      NaN   \n",
       "285             NaN                 NaN                      NaN   \n",
       "289             NaN                 NaN                      NaN   \n",
       "\n",
       "    material_form        color instrument_mode  ... laser_light_used  \\\n",
       "272         beads  transparent             ATR  ...              NaN   \n",
       "283    wax powder        white             ATR  ...              NaN   \n",
       "284    wax powder        white             ATR  ...              NaN   \n",
       "285    wax powder        white             ATR  ...              NaN   \n",
       "289        powder        white             ATR  ...              NaN   \n",
       "\n",
       "    total_acquisition_time_s  data_processing_procedure  \\\n",
       "272                      NaN                        NaN   \n",
       "283                      NaN                        NaN   \n",
       "284                      NaN                        NaN   \n",
       "285                      NaN                        NaN   \n",
       "289                      NaN                        NaN   \n",
       "\n",
       "     level_of_confidence_in_identification  smoother  baseline  range  \\\n",
       "272                                    NaN       NaN       NaN    NaN   \n",
       "283                                    NaN       NaN       NaN    NaN   \n",
       "284                                    NaN       NaN       NaN    NaN   \n",
       "285                                    NaN       NaN       NaN    NaN   \n",
       "289                                    NaN       NaN       NaN    NaN   \n",
       "\n",
       "     time_stamp  sample_name  rsq  \n",
       "272         NaN          273  NaN  \n",
       "283         NaN          284  NaN  \n",
       "284         NaN          285  NaN  \n",
       "285         NaN          286  NaN  \n",
       "289         NaN          290  NaN  \n",
       "\n",
       "[5 rows x 28 columns]"
      ]
     },
     "execution_count": 23,
     "metadata": {},
     "output_type": "execute_result"
    }
   ],
   "source": [
    "substring0 = \"poly\"\n",
    "substring1 = \"Poly\"\n",
    "substring2 = \"low\"\n",
    "substring3 = \"ethylene\"\n",
    "LDPE_metadata = metadata[metadata[\"spectrum_identity\"].str.contains(substring0, case=False)]\n",
    "LDPE_metadata.head()"
   ]
  },
  {
   "cell_type": "code",
   "execution_count": 24,
   "id": "1a934362",
   "metadata": {},
   "outputs": [
    {
     "data": {
      "text/plain": [
       "187"
      ]
     },
     "execution_count": 24,
     "metadata": {},
     "output_type": "execute_result"
    }
   ],
   "source": [
    "len(LDPE_metadata)"
   ]
  },
  {
   "cell_type": "code",
   "execution_count": 25,
   "id": "234bf0d2",
   "metadata": {},
   "outputs": [
    {
     "data": {
      "text/plain": [
       "187"
      ]
     },
     "execution_count": 25,
     "metadata": {},
     "output_type": "execute_result"
    }
   ],
   "source": [
    "LDPE_metadata = LDPE_metadata[LDPE_metadata[\"spectrum_identity\"].str.contains(substring1, case=False)]\n",
    "len(LDPE_metadata)"
   ]
  },
  {
   "cell_type": "code",
   "execution_count": 26,
   "id": "166929ac",
   "metadata": {},
   "outputs": [
    {
     "data": {
      "text/plain": [
       "12"
      ]
     },
     "execution_count": 26,
     "metadata": {},
     "output_type": "execute_result"
    }
   ],
   "source": [
    "LDPE_metadata = LDPE_metadata[LDPE_metadata[\"spectrum_identity\"].str.contains(substring2, case=False)]\n",
    "len(LDPE_metadata)"
   ]
  },
  {
   "cell_type": "code",
   "execution_count": 27,
   "id": "594e927f",
   "metadata": {},
   "outputs": [
    {
     "data": {
      "text/plain": [
       "12"
      ]
     },
     "execution_count": 27,
     "metadata": {},
     "output_type": "execute_result"
    }
   ],
   "source": [
    "LDPE_metadata = LDPE_metadata[LDPE_metadata[\"spectrum_identity\"].str.contains(substring3, case=False)]\n",
    "len(LDPE_metadata)"
   ]
  },
  {
   "cell_type": "code",
   "execution_count": 28,
   "id": "02f5c1cb",
   "metadata": {},
   "outputs": [
    {
     "data": {
      "text/plain": [
       "13"
      ]
     },
     "execution_count": 28,
     "metadata": {},
     "output_type": "execute_result"
    }
   ],
   "source": [
    "substring0 = \"poly\"\n",
    "substring1 = \"Poly\"\n",
    "substring2 = \"tere\"\n",
    "substring3 = \"ethylene\"\n",
    "PET_metadata = metadata[metadata[\"spectrum_identity\"].str.contains(substring2, case=False)]\n",
    "len(PET_metadata)"
   ]
  },
  {
   "cell_type": "code",
   "execution_count": 29,
   "id": "1a72d96e",
   "metadata": {},
   "outputs": [
    {
     "data": {
      "text/plain": [
       "array(['polytehylene terephthalate', 'polybuthylene terephthalate',\n",
       "       'polytehylene terephthalate amorphous',\n",
       "       'poly(butylene terephthalate)', 'poly(ethylene terephthalate)',\n",
       "       'polyethylene terephtalate', 'polyethylene terephthalate',\n",
       "       'poly(ethylene terepthalate)'], dtype=object)"
      ]
     },
     "execution_count": 29,
     "metadata": {},
     "output_type": "execute_result"
    }
   ],
   "source": [
    "PET_metadata[\"spectrum_identity\"].unique()"
   ]
  },
  {
   "cell_type": "code",
   "execution_count": 30,
   "id": "d4608204",
   "metadata": {},
   "outputs": [
    {
     "data": {
      "text/plain": [
       "6"
      ]
     },
     "execution_count": 30,
     "metadata": {},
     "output_type": "execute_result"
    }
   ],
   "source": [
    "PET_metadata1 = PET_metadata[PET_metadata[\"spectrum_identity\"].str.contains(\"ehylene\", case=False)]\n",
    "len(PET_metadata1)"
   ]
  },
  {
   "cell_type": "code",
   "execution_count": 31,
   "id": "f7a32f11",
   "metadata": {},
   "outputs": [
    {
     "data": {
      "text/plain": [
       "4"
      ]
     },
     "execution_count": 31,
     "metadata": {},
     "output_type": "execute_result"
    }
   ],
   "source": [
    "PET_metadata2 = PET_metadata[PET_metadata[\"spectrum_identity\"].str.contains(\"ethylene\", case=False)]\n",
    "len(PET_metadata2)"
   ]
  },
  {
   "cell_type": "code",
   "execution_count": null,
   "id": "a34c318e",
   "metadata": {},
   "outputs": [],
   "source": []
  },
  {
   "cell_type": "code",
   "execution_count": 32,
   "id": "64e915d7",
   "metadata": {},
   "outputs": [
    {
     "data": {
      "text/plain": [
       "136"
      ]
     },
     "execution_count": 32,
     "metadata": {},
     "output_type": "execute_result"
    }
   ],
   "source": [
    "PET_metadata3 = metadata[metadata[\"spectrum_identity\"].str.contains(\"PET\", case=False)]\n",
    "len(PET_metadata3)"
   ]
  },
  {
   "cell_type": "code",
   "execution_count": 33,
   "id": "8703712a",
   "metadata": {},
   "outputs": [
    {
     "data": {
      "text/plain": [
       "array(['polytehylene terephthalate',\n",
       "       'polytehylene terephthalate amorphous'], dtype=object)"
      ]
     },
     "execution_count": 33,
     "metadata": {},
     "output_type": "execute_result"
    }
   ],
   "source": [
    "PET_metadata1[\"spectrum_identity\"].unique()"
   ]
  },
  {
   "cell_type": "code",
   "execution_count": 34,
   "id": "37f65017",
   "metadata": {},
   "outputs": [
    {
     "data": {
      "text/plain": [
       "146"
      ]
     },
     "execution_count": 34,
     "metadata": {},
     "output_type": "execute_result"
    }
   ],
   "source": [
    "PET_metadata = pd.concat([PET_metadata1, PET_metadata2, PET_metadata3], ignore_index=True)\n",
    "len(PET_metadata)"
   ]
  },
  {
   "cell_type": "code",
   "execution_count": null,
   "id": "9dc6f3ff",
   "metadata": {},
   "outputs": [],
   "source": []
  },
  {
   "cell_type": "code",
   "execution_count": null,
   "id": "f593f69c",
   "metadata": {},
   "outputs": [],
   "source": []
  },
  {
   "cell_type": "code",
   "execution_count": null,
   "id": "3e5d727e",
   "metadata": {},
   "outputs": [],
   "source": []
  },
  {
   "cell_type": "code",
   "execution_count": 35,
   "id": "073feb78",
   "metadata": {},
   "outputs": [],
   "source": [
    "substring0 = \"prop\"\n",
    "PP_metadata = metadata[metadata[\"spectrum_identity\"].str.contains(substring0, case=False)]"
   ]
  },
  {
   "cell_type": "code",
   "execution_count": 36,
   "id": "12e3c154",
   "metadata": {},
   "outputs": [
    {
     "data": {
      "text/plain": [
       "20"
      ]
     },
     "execution_count": 36,
     "metadata": {},
     "output_type": "execute_result"
    }
   ],
   "source": [
    "len(PP_metadata)"
   ]
  },
  {
   "cell_type": "code",
   "execution_count": 37,
   "id": "f4ba7be7",
   "metadata": {},
   "outputs": [
    {
     "data": {
      "text/plain": [
       "array(['cellulose propionate', 'ethylene propylene',\n",
       "       'hydroxypropyl cellulose', 'hydroxypropyl methyl cellulose',\n",
       "       'polypropylene',\n",
       "       \"poly(4 4' dipropoxy 2 2' diphenyl propane fumarate)\",\n",
       "       'fibre polypropylene', 'fibre polypropylene dyed',\n",
       "       'polypropylene isotactic',\n",
       "       'vinyl chloride vinyl acetate hydroxypropyl acrylate',\n",
       "       'Pthalate and propyl alcohol mix',\n",
       "       'Polypropylene  with silicate mix'], dtype=object)"
      ]
     },
     "execution_count": 37,
     "metadata": {},
     "output_type": "execute_result"
    }
   ],
   "source": [
    "PP_metadata[\"spectrum_identity\"].unique()"
   ]
  },
  {
   "cell_type": "code",
   "execution_count": 38,
   "id": "c2a1da66",
   "metadata": {},
   "outputs": [
    {
     "data": {
      "text/plain": [
       "14"
      ]
     },
     "execution_count": 38,
     "metadata": {},
     "output_type": "execute_result"
    }
   ],
   "source": [
    "PP_metadata = PP_metadata[PP_metadata[\"spectrum_identity\"].str.contains(\"poly\", case=False)]\n",
    "len(PP_metadata)"
   ]
  },
  {
   "cell_type": "code",
   "execution_count": 39,
   "id": "3b380a25",
   "metadata": {},
   "outputs": [
    {
     "data": {
      "text/plain": [
       "array(['polypropylene',\n",
       "       \"poly(4 4' dipropoxy 2 2' diphenyl propane fumarate)\",\n",
       "       'fibre polypropylene', 'fibre polypropylene dyed',\n",
       "       'polypropylene isotactic', 'Polypropylene  with silicate mix'],\n",
       "      dtype=object)"
      ]
     },
     "execution_count": 39,
     "metadata": {},
     "output_type": "execute_result"
    }
   ],
   "source": [
    "PP_metadata[\"spectrum_identity\"].unique()"
   ]
  },
  {
   "cell_type": "code",
   "execution_count": 40,
   "id": "09b865c2",
   "metadata": {},
   "outputs": [
    {
     "data": {
      "text/plain": [
       "13"
      ]
     },
     "execution_count": 40,
     "metadata": {},
     "output_type": "execute_result"
    }
   ],
   "source": [
    "PP_metadata = metadata[metadata[\"spectrum_identity\"].str.contains(\"polypropylene\", case=False)]\n",
    "len(PP_metadata)"
   ]
  },
  {
   "cell_type": "code",
   "execution_count": 41,
   "id": "f041c054",
   "metadata": {},
   "outputs": [
    {
     "data": {
      "text/plain": [
       "11"
      ]
     },
     "execution_count": 41,
     "metadata": {},
     "output_type": "execute_result"
    }
   ],
   "source": [
    "PP_metadata = PP_metadata[PP_metadata[\"spectrum_identity\"].str.contains(\"fibre\", case=False)==False]\n",
    "len(PP_metadata)"
   ]
  },
  {
   "cell_type": "code",
   "execution_count": 42,
   "id": "a6494bec",
   "metadata": {},
   "outputs": [
    {
     "data": {
      "text/plain": [
       "10"
      ]
     },
     "execution_count": 42,
     "metadata": {},
     "output_type": "execute_result"
    }
   ],
   "source": [
    "PP_metadata = PP_metadata[PP_metadata[\"spectrum_identity\"].str.contains(\"mix\", case=False)==False]\n",
    "len(PP_metadata)"
   ]
  },
  {
   "cell_type": "code",
   "execution_count": 43,
   "id": "41e70f36",
   "metadata": {},
   "outputs": [],
   "source": [
    "HDPE_metadata1 = metadata[metadata[\"spectrum_identity\"].str.contains(\"HDPE\", case=False)]"
   ]
  },
  {
   "cell_type": "code",
   "execution_count": 44,
   "id": "ea858b92",
   "metadata": {},
   "outputs": [
    {
     "data": {
      "text/plain": [
       "137"
      ]
     },
     "execution_count": 44,
     "metadata": {},
     "output_type": "execute_result"
    }
   ],
   "source": [
    "len(HDPE_metadata1)"
   ]
  },
  {
   "cell_type": "code",
   "execution_count": 45,
   "id": "5dfd366f",
   "metadata": {},
   "outputs": [
    {
     "data": {
      "text/plain": [
       "10"
      ]
     },
     "execution_count": 45,
     "metadata": {},
     "output_type": "execute_result"
    }
   ],
   "source": [
    "poly_metadata = metadata[metadata[\"spectrum_identity\"].str.contains(\"poly\", case=False)]\n",
    "HDPE_metadata2 = poly_metadata[poly_metadata[\"spectrum_identity\"].str.contains(\"high\", case=False)]\n",
    "len(HDPE_metadata2)"
   ]
  },
  {
   "cell_type": "code",
   "execution_count": 46,
   "id": "b576ccf5",
   "metadata": {},
   "outputs": [],
   "source": [
    "HDPE_metadata = pd.concat([HDPE_metadata1, HDPE_metadata2], ignore_index=True)"
   ]
  },
  {
   "cell_type": "code",
   "execution_count": 47,
   "id": "61be817d",
   "metadata": {},
   "outputs": [
    {
     "data": {
      "text/plain": [
       "147"
      ]
     },
     "execution_count": 47,
     "metadata": {},
     "output_type": "execute_result"
    }
   ],
   "source": [
    "len(HDPE_metadata)"
   ]
  },
  {
   "cell_type": "code",
   "execution_count": 48,
   "id": "4ebffcb9",
   "metadata": {},
   "outputs": [
    {
     "data": {
      "text/plain": [
       "636"
      ]
     },
     "execution_count": 48,
     "metadata": {},
     "output_type": "execute_result"
    }
   ],
   "source": [
    "len(metadata)"
   ]
  },
  {
   "cell_type": "code",
   "execution_count": 49,
   "id": "cc32a8a0",
   "metadata": {},
   "outputs": [
    {
     "name": "stdout",
     "output_type": "stream",
     "text": [
      "489\n",
      "477\n",
      "331\n",
      "321\n"
     ]
    }
   ],
   "source": [
    "other_metadata = metadata.merge(HDPE_metadata, how=\"left\", indicator=True)\n",
    "other_metadata = other_metadata[other_metadata[\"_merge\"]==\"left_only\"]\n",
    "print(len(other_metadata))\n",
    "other_metadata = other_metadata.drop(columns=\"_merge\")\n",
    "\n",
    "other_metadata = other_metadata.merge(LDPE_metadata, how=\"left\", indicator=True)\n",
    "other_metadata = other_metadata[other_metadata[\"_merge\"]==\"left_only\"]\n",
    "print(len(other_metadata))\n",
    "other_metadata = other_metadata.drop(columns=\"_merge\")\n",
    "\n",
    "other_metadata = other_metadata.merge(PET_metadata, how=\"left\", indicator=True)\n",
    "other_metadata = other_metadata[other_metadata[\"_merge\"]==\"left_only\"]\n",
    "print(len(other_metadata))\n",
    "other_metadata = other_metadata.drop(columns=\"_merge\")\n",
    "\n",
    "other_metadata = other_metadata.merge(PP_metadata, how=\"left\", indicator=True)\n",
    "other_metadata = other_metadata[other_metadata[\"_merge\"]==\"left_only\"]\n",
    "print(len(other_metadata))\n",
    "other_metadata = other_metadata.drop(columns=\"_merge\")\n",
    "\n"
   ]
  },
  {
   "cell_type": "code",
   "execution_count": 50,
   "id": "d977f7da",
   "metadata": {},
   "outputs": [
    {
     "data": {
      "text/html": [
       "<div>\n",
       "<style scoped>\n",
       "    .dataframe tbody tr th:only-of-type {\n",
       "        vertical-align: middle;\n",
       "    }\n",
       "\n",
       "    .dataframe tbody tr th {\n",
       "        vertical-align: top;\n",
       "    }\n",
       "\n",
       "    .dataframe thead th {\n",
       "        text-align: right;\n",
       "    }\n",
       "</style>\n",
       "<table border=\"1\" class=\"dataframe\">\n",
       "  <thead>\n",
       "    <tr style=\"text-align: right;\">\n",
       "      <th></th>\n",
       "      <th>spectrum_identity</th>\n",
       "      <th>spectrum_id</th>\n",
       "      <th>organization</th>\n",
       "      <th>spectrum_type</th>\n",
       "      <th>instrument_used</th>\n",
       "      <th>spectral_resolution</th>\n",
       "      <th>number_of_accumulations</th>\n",
       "      <th>material_form</th>\n",
       "      <th>color</th>\n",
       "      <th>instrument_mode</th>\n",
       "      <th>...</th>\n",
       "      <th>laser_light_used</th>\n",
       "      <th>total_acquisition_time_s</th>\n",
       "      <th>data_processing_procedure</th>\n",
       "      <th>level_of_confidence_in_identification</th>\n",
       "      <th>smoother</th>\n",
       "      <th>baseline</th>\n",
       "      <th>range</th>\n",
       "      <th>time_stamp</th>\n",
       "      <th>sample_name</th>\n",
       "      <th>rsq</th>\n",
       "    </tr>\n",
       "  </thead>\n",
       "  <tbody>\n",
       "    <tr>\n",
       "      <th>326</th>\n",
       "      <td>Polyether urethane with additives</td>\n",
       "      <td>47</td>\n",
       "      <td>Suja Sukumaran, Thermo Fisher Scientific</td>\n",
       "      <td>FTIR</td>\n",
       "      <td>NaN</td>\n",
       "      <td>NaN</td>\n",
       "      <td>NaN</td>\n",
       "      <td>particle</td>\n",
       "      <td>grey</td>\n",
       "      <td>NaN</td>\n",
       "      <td>...</td>\n",
       "      <td>NaN</td>\n",
       "      <td>NaN</td>\n",
       "      <td>NaN</td>\n",
       "      <td>NaN</td>\n",
       "      <td>NaN</td>\n",
       "      <td>NaN</td>\n",
       "      <td>NaN</td>\n",
       "      <td>NaN</td>\n",
       "      <td>632</td>\n",
       "      <td>NaN</td>\n",
       "    </tr>\n",
       "    <tr>\n",
       "      <th>327</th>\n",
       "      <td>PMMA</td>\n",
       "      <td>48</td>\n",
       "      <td>Suja Sukumaran, Thermo Fisher Scientific</td>\n",
       "      <td>FTIR</td>\n",
       "      <td>NaN</td>\n",
       "      <td>NaN</td>\n",
       "      <td>NaN</td>\n",
       "      <td>particle</td>\n",
       "      <td>white</td>\n",
       "      <td>NaN</td>\n",
       "      <td>...</td>\n",
       "      <td>NaN</td>\n",
       "      <td>NaN</td>\n",
       "      <td>NaN</td>\n",
       "      <td>NaN</td>\n",
       "      <td>NaN</td>\n",
       "      <td>NaN</td>\n",
       "      <td>NaN</td>\n",
       "      <td>NaN</td>\n",
       "      <td>633</td>\n",
       "      <td>NaN</td>\n",
       "    </tr>\n",
       "    <tr>\n",
       "      <th>328</th>\n",
       "      <td>Teflon/PTFE</td>\n",
       "      <td>5</td>\n",
       "      <td>Suja Sukumaran, Thermo Fisher Scientific</td>\n",
       "      <td>FTIR</td>\n",
       "      <td>NaN</td>\n",
       "      <td>NaN</td>\n",
       "      <td>NaN</td>\n",
       "      <td>particle</td>\n",
       "      <td>clear/transparent</td>\n",
       "      <td>NaN</td>\n",
       "      <td>...</td>\n",
       "      <td>NaN</td>\n",
       "      <td>NaN</td>\n",
       "      <td>NaN</td>\n",
       "      <td>NaN</td>\n",
       "      <td>NaN</td>\n",
       "      <td>NaN</td>\n",
       "      <td>NaN</td>\n",
       "      <td>NaN</td>\n",
       "      <td>634</td>\n",
       "      <td>NaN</td>\n",
       "    </tr>\n",
       "    <tr>\n",
       "      <th>329</th>\n",
       "      <td>Styrofoam</td>\n",
       "      <td>6</td>\n",
       "      <td>Suja Sukumaran, Thermo Fisher Scientific</td>\n",
       "      <td>FTIR</td>\n",
       "      <td>NaN</td>\n",
       "      <td>NaN</td>\n",
       "      <td>NaN</td>\n",
       "      <td>particle</td>\n",
       "      <td>white</td>\n",
       "      <td>NaN</td>\n",
       "      <td>...</td>\n",
       "      <td>NaN</td>\n",
       "      <td>NaN</td>\n",
       "      <td>NaN</td>\n",
       "      <td>NaN</td>\n",
       "      <td>NaN</td>\n",
       "      <td>NaN</td>\n",
       "      <td>NaN</td>\n",
       "      <td>NaN</td>\n",
       "      <td>635</td>\n",
       "      <td>NaN</td>\n",
       "    </tr>\n",
       "    <tr>\n",
       "      <th>330</th>\n",
       "      <td>silicone/PDMS</td>\n",
       "      <td>7</td>\n",
       "      <td>Suja Sukumaran, Thermo Fisher Scientific</td>\n",
       "      <td>FTIR</td>\n",
       "      <td>NaN</td>\n",
       "      <td>NaN</td>\n",
       "      <td>NaN</td>\n",
       "      <td>particle</td>\n",
       "      <td>red</td>\n",
       "      <td>NaN</td>\n",
       "      <td>...</td>\n",
       "      <td>NaN</td>\n",
       "      <td>NaN</td>\n",
       "      <td>NaN</td>\n",
       "      <td>NaN</td>\n",
       "      <td>NaN</td>\n",
       "      <td>NaN</td>\n",
       "      <td>NaN</td>\n",
       "      <td>NaN</td>\n",
       "      <td>636</td>\n",
       "      <td>NaN</td>\n",
       "    </tr>\n",
       "  </tbody>\n",
       "</table>\n",
       "<p>5 rows × 28 columns</p>\n",
       "</div>"
      ],
      "text/plain": [
       "                     spectrum_identity spectrum_id  \\\n",
       "326  Polyether urethane with additives          47   \n",
       "327                               PMMA          48   \n",
       "328                        Teflon/PTFE           5   \n",
       "329                          Styrofoam           6   \n",
       "330                      silicone/PDMS           7   \n",
       "\n",
       "                                 organization spectrum_type instrument_used  \\\n",
       "326  Suja Sukumaran, Thermo Fisher Scientific          FTIR             NaN   \n",
       "327  Suja Sukumaran, Thermo Fisher Scientific          FTIR             NaN   \n",
       "328  Suja Sukumaran, Thermo Fisher Scientific          FTIR             NaN   \n",
       "329  Suja Sukumaran, Thermo Fisher Scientific          FTIR             NaN   \n",
       "330  Suja Sukumaran, Thermo Fisher Scientific          FTIR             NaN   \n",
       "\n",
       "    spectral_resolution  number_of_accumulations material_form  \\\n",
       "326                 NaN                      NaN      particle   \n",
       "327                 NaN                      NaN      particle   \n",
       "328                 NaN                      NaN      particle   \n",
       "329                 NaN                      NaN      particle   \n",
       "330                 NaN                      NaN      particle   \n",
       "\n",
       "                 color instrument_mode  ... laser_light_used  \\\n",
       "326               grey             NaN  ...              NaN   \n",
       "327              white             NaN  ...              NaN   \n",
       "328  clear/transparent             NaN  ...              NaN   \n",
       "329              white             NaN  ...              NaN   \n",
       "330                red             NaN  ...              NaN   \n",
       "\n",
       "    total_acquisition_time_s  data_processing_procedure  \\\n",
       "326                      NaN                        NaN   \n",
       "327                      NaN                        NaN   \n",
       "328                      NaN                        NaN   \n",
       "329                      NaN                        NaN   \n",
       "330                      NaN                        NaN   \n",
       "\n",
       "     level_of_confidence_in_identification  smoother  baseline  range  \\\n",
       "326                                    NaN       NaN       NaN    NaN   \n",
       "327                                    NaN       NaN       NaN    NaN   \n",
       "328                                    NaN       NaN       NaN    NaN   \n",
       "329                                    NaN       NaN       NaN    NaN   \n",
       "330                                    NaN       NaN       NaN    NaN   \n",
       "\n",
       "     time_stamp  sample_name  rsq  \n",
       "326         NaN          632  NaN  \n",
       "327         NaN          633  NaN  \n",
       "328         NaN          634  NaN  \n",
       "329         NaN          635  NaN  \n",
       "330         NaN          636  NaN  \n",
       "\n",
       "[5 rows x 28 columns]"
      ]
     },
     "execution_count": 50,
     "metadata": {},
     "output_type": "execute_result"
    }
   ],
   "source": [
    "other_metadata.tail()"
   ]
  },
  {
   "cell_type": "code",
   "execution_count": 51,
   "id": "1279a72a",
   "metadata": {},
   "outputs": [
    {
     "data": {
      "text/plain": [
       "0    273\n",
       "1    274\n",
       "2    275\n",
       "3    276\n",
       "4    277\n",
       "Name: sample_name, dtype: int64"
      ]
     },
     "execution_count": 51,
     "metadata": {},
     "output_type": "execute_result"
    }
   ],
   "source": [
    "other_metadata = other_metadata[\"sample_name\"]\n",
    "other_metadata.head()"
   ]
  },
  {
   "cell_type": "code",
   "execution_count": 52,
   "id": "1003642c",
   "metadata": {},
   "outputs": [
    {
     "data": {
      "text/plain": [
       "321"
      ]
     },
     "execution_count": 52,
     "metadata": {},
     "output_type": "execute_result"
    }
   ],
   "source": [
    "len(other_metadata)"
   ]
  },
  {
   "cell_type": "code",
   "execution_count": 53,
   "id": "cf9d3af7",
   "metadata": {},
   "outputs": [
    {
     "data": {
      "text/plain": [
       "0      273\n",
       "1      274\n",
       "2      275\n",
       "3      276\n",
       "4      277\n",
       "      ... \n",
       "326    632\n",
       "327    633\n",
       "328    634\n",
       "329    635\n",
       "330    636\n",
       "Name: sample_name, Length: 321, dtype: int64"
      ]
     },
     "execution_count": 53,
     "metadata": {},
     "output_type": "execute_result"
    }
   ],
   "source": [
    "other_metadata.dropna()"
   ]
  },
  {
   "cell_type": "code",
   "execution_count": 54,
   "id": "82f3bcbb",
   "metadata": {},
   "outputs": [
    {
     "data": {
      "text/plain": [
       "321"
      ]
     },
     "execution_count": 54,
     "metadata": {},
     "output_type": "execute_result"
    }
   ],
   "source": [
    "len(other_metadata)"
   ]
  },
  {
   "cell_type": "code",
   "execution_count": 55,
   "id": "810393de",
   "metadata": {},
   "outputs": [],
   "source": [
    "HDPE_metadata = HDPE_metadata[\"sample_name\"]\n",
    "LDPE_metadata = LDPE_metadata[\"sample_name\"]\n",
    "PET_metadata = PET_metadata[\"sample_name\"]\n",
    "PP_metadata = PP_metadata[\"sample_name\"]"
   ]
  },
  {
   "cell_type": "code",
   "execution_count": 56,
   "id": "e8be1eb0",
   "metadata": {},
   "outputs": [
    {
     "data": {
      "text/plain": [
       "0    1\n",
       "1    2\n",
       "2    3\n",
       "3    4\n",
       "4    5\n",
       "Name: sample_name, dtype: int64"
      ]
     },
     "execution_count": 56,
     "metadata": {},
     "output_type": "execute_result"
    }
   ],
   "source": [
    "HDPE_metadata.head()"
   ]
  },
  {
   "cell_type": "code",
   "execution_count": 57,
   "id": "410bf09b",
   "metadata": {},
   "outputs": [
    {
     "data": {
      "text/plain": [
       "0    367\n",
       "1    368\n",
       "2    404\n",
       "3    437\n",
       "4    438\n",
       "Name: sample_name, dtype: int64"
      ]
     },
     "execution_count": 57,
     "metadata": {},
     "output_type": "execute_result"
    }
   ],
   "source": [
    "PET_metadata.head()"
   ]
  },
  {
   "cell_type": "code",
   "execution_count": 58,
   "id": "15414ad0",
   "metadata": {},
   "outputs": [],
   "source": [
    "import os\n",
    "save_path = \"/home/aru/phd/side_work/edward/data\"\n"
   ]
  },
  {
   "cell_type": "code",
   "execution_count": 59,
   "id": "8c0d14ba",
   "metadata": {},
   "outputs": [
    {
     "name": "stdout",
     "output_type": "stream",
     "text": [
      "1\n"
     ]
    }
   ],
   "source": [
    "i = 1\n",
    "if i in HDPE_metadata:\n",
    "    print(i)"
   ]
  },
  {
   "cell_type": "code",
   "execution_count": 66,
   "id": "59e99ff1",
   "metadata": {},
   "outputs": [
    {
     "data": {
      "text/html": [
       "<div>\n",
       "<style scoped>\n",
       "    .dataframe tbody tr th:only-of-type {\n",
       "        vertical-align: middle;\n",
       "    }\n",
       "\n",
       "    .dataframe tbody tr th {\n",
       "        vertical-align: top;\n",
       "    }\n",
       "\n",
       "    .dataframe thead th {\n",
       "        text-align: right;\n",
       "    }\n",
       "</style>\n",
       "<table border=\"1\" class=\"dataframe\">\n",
       "  <thead>\n",
       "    <tr style=\"text-align: right;\">\n",
       "      <th></th>\n",
       "      <th>wavenumber</th>\n",
       "      <th>intensity</th>\n",
       "      <th>sample_name</th>\n",
       "    </tr>\n",
       "  </thead>\n",
       "  <tbody>\n",
       "    <tr>\n",
       "      <th>0</th>\n",
       "      <td>667.3</td>\n",
       "      <td>0.000000</td>\n",
       "      <td>1</td>\n",
       "    </tr>\n",
       "    <tr>\n",
       "      <th>1</th>\n",
       "      <td>669.2</td>\n",
       "      <td>0.000000</td>\n",
       "      <td>1</td>\n",
       "    </tr>\n",
       "    <tr>\n",
       "      <th>2</th>\n",
       "      <td>671.1</td>\n",
       "      <td>0.000000</td>\n",
       "      <td>1</td>\n",
       "    </tr>\n",
       "    <tr>\n",
       "      <th>3</th>\n",
       "      <td>673.0</td>\n",
       "      <td>0.000000</td>\n",
       "      <td>1</td>\n",
       "    </tr>\n",
       "    <tr>\n",
       "      <th>4</th>\n",
       "      <td>675.0</td>\n",
       "      <td>0.003789</td>\n",
       "      <td>1</td>\n",
       "    </tr>\n",
       "    <tr>\n",
       "      <th>...</th>\n",
       "      <td>...</td>\n",
       "      <td>...</td>\n",
       "      <td>...</td>\n",
       "    </tr>\n",
       "    <tr>\n",
       "      <th>1295</th>\n",
       "      <td>3164.7</td>\n",
       "      <td>0.055735</td>\n",
       "      <td>1</td>\n",
       "    </tr>\n",
       "    <tr>\n",
       "      <th>1296</th>\n",
       "      <td>3166.6</td>\n",
       "      <td>0.062766</td>\n",
       "      <td>1</td>\n",
       "    </tr>\n",
       "    <tr>\n",
       "      <th>1297</th>\n",
       "      <td>3168.5</td>\n",
       "      <td>0.080317</td>\n",
       "      <td>1</td>\n",
       "    </tr>\n",
       "    <tr>\n",
       "      <th>1298</th>\n",
       "      <td>3170.5</td>\n",
       "      <td>0.080732</td>\n",
       "      <td>1</td>\n",
       "    </tr>\n",
       "    <tr>\n",
       "      <th>1299</th>\n",
       "      <td>3172.4</td>\n",
       "      <td>0.081099</td>\n",
       "      <td>1</td>\n",
       "    </tr>\n",
       "  </tbody>\n",
       "</table>\n",
       "<p>1300 rows × 3 columns</p>\n",
       "</div>"
      ],
      "text/plain": [
       "      wavenumber  intensity  sample_name\n",
       "0          667.3   0.000000            1\n",
       "1          669.2   0.000000            1\n",
       "2          671.1   0.000000            1\n",
       "3          673.0   0.000000            1\n",
       "4          675.0   0.003789            1\n",
       "...          ...        ...          ...\n",
       "1295      3164.7   0.055735            1\n",
       "1296      3166.6   0.062766            1\n",
       "1297      3168.5   0.080317            1\n",
       "1298      3170.5   0.080732            1\n",
       "1299      3172.4   0.081099            1\n",
       "\n",
       "[1300 rows x 3 columns]"
      ]
     },
     "execution_count": 66,
     "metadata": {},
     "output_type": "execute_result"
    }
   ],
   "source": [
    "separate_data[1]"
   ]
  },
  {
   "cell_type": "code",
   "execution_count": 64,
   "id": "12c2551a",
   "metadata": {},
   "outputs": [
    {
     "data": {
      "text/plain": [
       "1300     667.3\n",
       "1301     669.2\n",
       "1302     671.1\n",
       "1303     673.0\n",
       "1304     675.0\n",
       "         ...  \n",
       "2595    3164.7\n",
       "2596    3166.6\n",
       "2597    3168.5\n",
       "2598    3170.5\n",
       "2599    3172.4\n",
       "Name: wavenumber, Length: 1300, dtype: float64"
      ]
     },
     "execution_count": 64,
     "metadata": {},
     "output_type": "execute_result"
    }
   ],
   "source": [
    "separate_data[2][\"wavenumber\"]"
   ]
  },
  {
   "cell_type": "code",
   "execution_count": null,
   "id": "900113fb",
   "metadata": {},
   "outputs": [],
   "source": []
  },
  {
   "cell_type": "markdown",
   "id": "b92ee468",
   "metadata": {},
   "source": []
  },
  {
   "cell_type": "code",
   "execution_count": 61,
   "id": "c4f55b69",
   "metadata": {},
   "outputs": [
    {
     "name": "stdout",
     "output_type": "stream",
     "text": [
      "1\n",
      "2\n"
     ]
    },
    {
     "ename": "KeyError",
     "evalue": "0",
     "output_type": "error",
     "traceback": [
      "\u001b[0;31m---------------------------------------------------------------------------\u001b[0m",
      "\u001b[0;31mKeyError\u001b[0m                                  Traceback (most recent call last)",
      "File \u001b[0;32m~/phd/python/CNN/lib/python3.9/site-packages/pandas/core/indexes/base.py:3621\u001b[0m, in \u001b[0;36mIndex.get_loc\u001b[0;34m(self, key, method, tolerance)\u001b[0m\n\u001b[1;32m   3620\u001b[0m \u001b[38;5;28;01mtry\u001b[39;00m:\n\u001b[0;32m-> 3621\u001b[0m     \u001b[38;5;28;01mreturn\u001b[39;00m \u001b[38;5;28;43mself\u001b[39;49m\u001b[38;5;241;43m.\u001b[39;49m\u001b[43m_engine\u001b[49m\u001b[38;5;241;43m.\u001b[39;49m\u001b[43mget_loc\u001b[49m\u001b[43m(\u001b[49m\u001b[43mcasted_key\u001b[49m\u001b[43m)\u001b[49m\n\u001b[1;32m   3622\u001b[0m \u001b[38;5;28;01mexcept\u001b[39;00m \u001b[38;5;167;01mKeyError\u001b[39;00m \u001b[38;5;28;01mas\u001b[39;00m err:\n",
      "File \u001b[0;32m~/phd/python/CNN/lib/python3.9/site-packages/pandas/_libs/index.pyx:136\u001b[0m, in \u001b[0;36mpandas._libs.index.IndexEngine.get_loc\u001b[0;34m()\u001b[0m\n",
      "File \u001b[0;32m~/phd/python/CNN/lib/python3.9/site-packages/pandas/_libs/index.pyx:163\u001b[0m, in \u001b[0;36mpandas._libs.index.IndexEngine.get_loc\u001b[0;34m()\u001b[0m\n",
      "File \u001b[0;32mpandas/_libs/hashtable_class_helper.pxi:2131\u001b[0m, in \u001b[0;36mpandas._libs.hashtable.Int64HashTable.get_item\u001b[0;34m()\u001b[0m\n",
      "File \u001b[0;32mpandas/_libs/hashtable_class_helper.pxi:2140\u001b[0m, in \u001b[0;36mpandas._libs.hashtable.Int64HashTable.get_item\u001b[0;34m()\u001b[0m\n",
      "\u001b[0;31mKeyError\u001b[0m: 0",
      "\nThe above exception was the direct cause of the following exception:\n",
      "\u001b[0;31mKeyError\u001b[0m                                  Traceback (most recent call last)",
      "Input \u001b[0;32mIn [61]\u001b[0m, in \u001b[0;36m<cell line: 1>\u001b[0;34m()\u001b[0m\n\u001b[1;32m     11\u001b[0m \u001b[38;5;28;01melse\u001b[39;00m:\n\u001b[1;32m     12\u001b[0m     save_path_curr \u001b[38;5;241m=\u001b[39m os\u001b[38;5;241m.\u001b[39mpath\u001b[38;5;241m.\u001b[39mjoin(save_path, \u001b[38;5;124m\"\u001b[39m\u001b[38;5;124mother\u001b[39m\u001b[38;5;124m\"\u001b[39m)\n\u001b[0;32m---> 14\u001b[0m start_wave \u001b[38;5;241m=\u001b[39m \u001b[38;5;28mint\u001b[39m(\u001b[43mval\u001b[49m\u001b[43m[\u001b[49m\u001b[38;5;124;43m\"\u001b[39;49m\u001b[38;5;124;43mwavenumber\u001b[39;49m\u001b[38;5;124;43m\"\u001b[39;49m\u001b[43m]\u001b[49m\u001b[43m[\u001b[49m\u001b[38;5;241;43m0\u001b[39;49m\u001b[43m]\u001b[49m)\n\u001b[1;32m     15\u001b[0m end_wave \u001b[38;5;241m=\u001b[39m \u001b[38;5;28mint\u001b[39m(val[\u001b[38;5;124m\"\u001b[39m\u001b[38;5;124mwavenumber\u001b[39m\u001b[38;5;124m\"\u001b[39m][\u001b[38;5;28mlen\u001b[39m(val)\u001b[38;5;241m-\u001b[39m\u001b[38;5;241m1\u001b[39m])\n\u001b[1;32m     16\u001b[0m array1 \u001b[38;5;241m=\u001b[39m np\u001b[38;5;241m.\u001b[39mzeros((\u001b[38;5;241m1\u001b[39m,\u001b[38;5;241m4000\u001b[39m), dtype\u001b[38;5;241m=\u001b[39m\u001b[38;5;28mfloat\u001b[39m)\n",
      "File \u001b[0;32m~/phd/python/CNN/lib/python3.9/site-packages/pandas/core/series.py:958\u001b[0m, in \u001b[0;36mSeries.__getitem__\u001b[0;34m(self, key)\u001b[0m\n\u001b[1;32m    955\u001b[0m     \u001b[38;5;28;01mreturn\u001b[39;00m \u001b[38;5;28mself\u001b[39m\u001b[38;5;241m.\u001b[39m_values[key]\n\u001b[1;32m    957\u001b[0m \u001b[38;5;28;01melif\u001b[39;00m key_is_scalar:\n\u001b[0;32m--> 958\u001b[0m     \u001b[38;5;28;01mreturn\u001b[39;00m \u001b[38;5;28;43mself\u001b[39;49m\u001b[38;5;241;43m.\u001b[39;49m\u001b[43m_get_value\u001b[49m\u001b[43m(\u001b[49m\u001b[43mkey\u001b[49m\u001b[43m)\u001b[49m\n\u001b[1;32m    960\u001b[0m \u001b[38;5;28;01mif\u001b[39;00m is_hashable(key):\n\u001b[1;32m    961\u001b[0m     \u001b[38;5;66;03m# Otherwise index.get_value will raise InvalidIndexError\u001b[39;00m\n\u001b[1;32m    962\u001b[0m     \u001b[38;5;28;01mtry\u001b[39;00m:\n\u001b[1;32m    963\u001b[0m         \u001b[38;5;66;03m# For labels that don't resolve as scalars like tuples and frozensets\u001b[39;00m\n",
      "File \u001b[0;32m~/phd/python/CNN/lib/python3.9/site-packages/pandas/core/series.py:1069\u001b[0m, in \u001b[0;36mSeries._get_value\u001b[0;34m(self, label, takeable)\u001b[0m\n\u001b[1;32m   1066\u001b[0m     \u001b[38;5;28;01mreturn\u001b[39;00m \u001b[38;5;28mself\u001b[39m\u001b[38;5;241m.\u001b[39m_values[label]\n\u001b[1;32m   1068\u001b[0m \u001b[38;5;66;03m# Similar to Index.get_value, but we do not fall back to positional\u001b[39;00m\n\u001b[0;32m-> 1069\u001b[0m loc \u001b[38;5;241m=\u001b[39m \u001b[38;5;28;43mself\u001b[39;49m\u001b[38;5;241;43m.\u001b[39;49m\u001b[43mindex\u001b[49m\u001b[38;5;241;43m.\u001b[39;49m\u001b[43mget_loc\u001b[49m\u001b[43m(\u001b[49m\u001b[43mlabel\u001b[49m\u001b[43m)\u001b[49m\n\u001b[1;32m   1070\u001b[0m \u001b[38;5;28;01mreturn\u001b[39;00m \u001b[38;5;28mself\u001b[39m\u001b[38;5;241m.\u001b[39mindex\u001b[38;5;241m.\u001b[39m_get_values_for_loc(\u001b[38;5;28mself\u001b[39m, loc, label)\n",
      "File \u001b[0;32m~/phd/python/CNN/lib/python3.9/site-packages/pandas/core/indexes/base.py:3623\u001b[0m, in \u001b[0;36mIndex.get_loc\u001b[0;34m(self, key, method, tolerance)\u001b[0m\n\u001b[1;32m   3621\u001b[0m     \u001b[38;5;28;01mreturn\u001b[39;00m \u001b[38;5;28mself\u001b[39m\u001b[38;5;241m.\u001b[39m_engine\u001b[38;5;241m.\u001b[39mget_loc(casted_key)\n\u001b[1;32m   3622\u001b[0m \u001b[38;5;28;01mexcept\u001b[39;00m \u001b[38;5;167;01mKeyError\u001b[39;00m \u001b[38;5;28;01mas\u001b[39;00m err:\n\u001b[0;32m-> 3623\u001b[0m     \u001b[38;5;28;01mraise\u001b[39;00m \u001b[38;5;167;01mKeyError\u001b[39;00m(key) \u001b[38;5;28;01mfrom\u001b[39;00m \u001b[38;5;21;01merr\u001b[39;00m\n\u001b[1;32m   3624\u001b[0m \u001b[38;5;28;01mexcept\u001b[39;00m \u001b[38;5;167;01mTypeError\u001b[39;00m:\n\u001b[1;32m   3625\u001b[0m     \u001b[38;5;66;03m# If we have a listlike key, _check_indexing_error will raise\u001b[39;00m\n\u001b[1;32m   3626\u001b[0m     \u001b[38;5;66;03m#  InvalidIndexError. Otherwise we fall through and re-raise\u001b[39;00m\n\u001b[1;32m   3627\u001b[0m     \u001b[38;5;66;03m#  the TypeError.\u001b[39;00m\n\u001b[1;32m   3628\u001b[0m     \u001b[38;5;28mself\u001b[39m\u001b[38;5;241m.\u001b[39m_check_indexing_error(key)\n",
      "\u001b[0;31mKeyError\u001b[0m: 0"
     ]
    }
   ],
   "source": [
    "for key, val in separate_data.items():\n",
    "    print(key)\n",
    "    if key in HDPE_metadata:\n",
    "        save_path_curr = os.path.join(save_path, \"HDPE\")\n",
    "    elif key in LDPE_metadata:\n",
    "        save_path_curr = os.path.join(save_path, \"LDPE\")\n",
    "    elif key in PET_metadata:\n",
    "        save_path_curr = os.path.join(save_path, \"PET\")\n",
    "    elif key in PP_metadata:\n",
    "        save_path_curr = os.path.join(save_path, \"PP\")\n",
    "    else:\n",
    "        save_path_curr = os.path.join(save_path, \"other\")\n",
    "        \n",
    "    start_wave = int(val[\"wavenumber\"].iloc[0])\n",
    "    end_wave = int(val[\"wavenumber\"].iloc[len(val)-1])\n",
    "    array1 = np.zeros((1,4000), dtype=float)\n",
    "    \n",
    "    for i in range(start_wave+1, end_wave):\n",
    "        df_sort = val.iloc[(val['wavenumber']-i).abs().argsort()[:2]]\n",
    "        idx_list = df_sort.index.tolist()\n",
    "        prev_wave = float(val[\"wavenumber\"].iloc[idx_list[0]])\n",
    "        next_wave = float(val[\"wavenumber\"].iloc[idx_list[0]+1])\n",
    "\n",
    "        prev_intensity = float(val[\"intensity\"].iloc[idx_list[0]])\n",
    "        next_intensity = float(val[\"intensity\"].iloc[idx_list[0]+1])\n",
    "        if prev_wave>i:\n",
    "            prev_wave = float(val[\"wavenumber\"].iloc[idx_list[0]-1])\n",
    "            next_wave = float(val[\"wavenumber\"].iloc[idx_list[0]])\n",
    "            prev_intensity = float(val[\"intensity\"].iloc[idx_list[0]-1])\n",
    "            next_intensity = float(val[\"intensity\"].iloc[idx_list[0]])\n",
    "        array1[0,i] = interpolate(i,prev_wave, next_wave, prev_intensity, next_intensity)\n",
    "\n",
    "    if next_wave>end_wave:\n",
    "        array1[0,end_wave] = interpolate(end_wave, prev_wave, next_wave, prev_intensity, 0)"
   ]
  },
  {
   "cell_type": "code",
   "execution_count": 60,
   "id": "1d90268f",
   "metadata": {},
   "outputs": [
    {
     "data": {
      "text/plain": [
       "(4000, 1)"
      ]
     },
     "execution_count": 60,
     "metadata": {},
     "output_type": "execute_result"
    }
   ],
   "source": [
    "array1.shape"
   ]
  },
  {
   "cell_type": "code",
   "execution_count": 63,
   "id": "044f7d83",
   "metadata": {},
   "outputs": [],
   "source": [
    "array1 = np.zeros((1,4000), dtype=float)"
   ]
  },
  {
   "cell_type": "code",
   "execution_count": 64,
   "id": "18828a86",
   "metadata": {},
   "outputs": [
    {
     "data": {
      "text/plain": [
       "(1, 4000)"
      ]
     },
     "execution_count": 64,
     "metadata": {},
     "output_type": "execute_result"
    }
   ],
   "source": [
    "array1.shape"
   ]
  },
  {
   "cell_type": "code",
   "execution_count": 65,
   "id": "31db52fa",
   "metadata": {},
   "outputs": [],
   "source": [
    "array1[0]=3"
   ]
  },
  {
   "cell_type": "code",
   "execution_count": 66,
   "id": "ec9be934",
   "metadata": {},
   "outputs": [
    {
     "data": {
      "text/plain": [
       "array([[3., 3., 3., ..., 3., 3., 3.]])"
      ]
     },
     "execution_count": 66,
     "metadata": {},
     "output_type": "execute_result"
    }
   ],
   "source": [
    "array1"
   ]
  },
  {
   "cell_type": "code",
   "execution_count": null,
   "id": "3be6c266",
   "metadata": {},
   "outputs": [],
   "source": []
  }
 ],
 "metadata": {
  "kernelspec": {
   "display_name": "CNN",
   "language": "python",
   "name": "cnn"
  },
  "language_info": {
   "codemirror_mode": {
    "name": "ipython",
    "version": 3
   },
   "file_extension": ".py",
   "mimetype": "text/x-python",
   "name": "python",
   "nbconvert_exporter": "python",
   "pygments_lexer": "ipython3",
   "version": "3.9.12"
  }
 },
 "nbformat": 4,
 "nbformat_minor": 5
}
