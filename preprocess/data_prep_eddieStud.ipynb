{
 "cells": [
  {
   "cell_type": "code",
   "execution_count": 1,
   "metadata": {},
   "outputs": [],
   "source": [
    "import pandas as pd\n",
    "import numpy as np\n",
    "import csv"
   ]
  },
  {
   "cell_type": "code",
   "execution_count": 2,
   "metadata": {},
   "outputs": [
    {
     "data": {
      "text/plain": [
       "(26, 4000)"
      ]
     },
     "execution_count": 2,
     "metadata": {},
     "output_type": "execute_result"
    }
   ],
   "source": [
    "hdpe_array = np.load(\"data/Data_Edward/Data/FTIR/data_Eddie/HDPE.npy\")\n",
    "hdpe_array.shape"
   ]
  },
  {
   "cell_type": "code",
   "execution_count": 3,
   "metadata": {},
   "outputs": [
    {
     "data": {
      "text/plain": [
       "array(['HDPE05.CSV', 'HDPE15.CSV', 'HDPE24.CSV', 'HDPE18.CSV',\n",
       "       'HDPE06.CSV', 'HDPE14.CSV', 'HDPE26.CSV', 'HDPE11.CSV',\n",
       "       'HDPE04.CSV', 'HDPE01.CSV', 'HDPE25.CSV', 'HDPE08.CSV',\n",
       "       'HDPE09.CSV', 'HDPE17.CSV', 'HDPE03.CSV', 'HDPE20.CSV',\n",
       "       'HDPE23.CSV', 'HDPE07.CSV', 'HDPE22.CSV', 'HDPE02.CSV',\n",
       "       'HDPE19.CSV', 'HDPE10.CSV', 'HDPE12.CSV', 'HDPE21.CSV',\n",
       "       'HDPE16.CSV', 'HDPE13.CSV'], dtype='<U10')"
      ]
     },
     "execution_count": 3,
     "metadata": {},
     "output_type": "execute_result"
    }
   ],
   "source": [
    "name_HDPE = np.load(\"data/Data_Edward/Data/FTIR/data_Eddie/HDPE_name.npy\")\n",
    "name_HDPE"
   ]
  },
  {
   "cell_type": "code",
   "execution_count": 4,
   "metadata": {},
   "outputs": [],
   "source": [
    "stu_data_path = \"/home/singh_a_WMGDS.WMG.WARWICK.AC.UK/wmg/polymer_sort/classification/data/Data_Edward/student/Data/FTIR/*.dpt\""
   ]
  },
  {
   "cell_type": "code",
   "execution_count": 15,
   "metadata": {},
   "outputs": [
    {
     "name": "stdout",
     "output_type": "stream",
     "text": [
      "1867\n"
     ]
    }
   ],
   "source": [
    "data = np.genfromtxt(\"/home/singh_a_WMGDS.WMG.WARWICK.AC.UK/wmg/polymer_sort/classification/data/Data_Edward/student/Data/FTIR/ABS01.dpt\", dtype=float, delimiter=\",\")\n",
    "data[data[:,0].argsort()]\n",
    "print(len(data))"
   ]
  },
  {
   "cell_type": "code",
   "execution_count": 6,
   "metadata": {},
   "outputs": [
    {
     "name": "stdout",
     "output_type": "stream",
     "text": [
      "(1867,)\n"
     ]
    }
   ],
   "source": [
    "import glob\n",
    "for p in glob.glob(stu_data_path):\n",
    "    data = np.genfromtxt(p, dtype=float, delimiter=\",\")\n",
    "    data = data[data[:,0].argsort()]\n",
    "    df_sort = val.sort_values(by=[\"wavenumber\"])   \n",
    "    start_wave = int(data[0])\n",
    "    end_wave = int(data[len(data)-1])\n",
    "    array1 = np.zeros((1,4000), dtype=float)\n",
    "    for i in range(start_wave+1, end_wave):\n",
    "        two_df_sort = df_sort.iloc[(df_sort['wavenumber']-i).abs().argsort()[:6]]\n",
    "        two_df_sort = two_df_sort.sort_values(by=['wavenumber'])\n",
    "        two_idx_list = two_df_sort.index.tolist()\n",
    "        bo = False\n",
    "        for j, idx in enumerate(two_idx_list):\n",
    "            prev_wave_tem = float(df_sort[\"wavenumber\"][idx])\n",
    "            if prev_wave_tem<i:\n",
    "                prev_wave = prev_wave_tem\n",
    "                prev_intensity = float(df_sort[\"intensity\"][idx])\n",
    "                bo=True\n",
    "                continue\n",
    "            else:\n",
    "                next_wave = prev_wave_tem\n",
    "                next_intensity = float(df_sort[\"intensity\"][idx])\n",
    "                break\n",
    "            \n",
    "        if bo:\n",
    "            pass\n",
    "        else:\n",
    "            print(f\"sample {key} skipped because four closest is not below prev_wave\")\n",
    "            continue\n",
    "\n",
    "        array1[0,i] = interpolate(i,prev_wave, next_wave, prev_intensity, next_intensity)\n",
    "\n",
    "    if next_wave>end_wave:\n",
    "        array1[0,end_wave] = interpolate(end_wave, prev_wave, next_wave, prev_intensity, 0)\n",
    "    \n",
    "    np.savetxt(os.path.join(save_path_curr, save_name), array1, delimiter=\",\")\n"
   ]
  },
  {
   "cell_type": "code",
   "execution_count": 2,
   "metadata": {},
   "outputs": [],
   "source": [
    "import csv\n",
    "import os\n",
    "import glob\n",
    "\n",
    "dpt_files = '/home/singh_a_WMGDS.WMG.WARWICK.AC.UK/wmg/polymer_sort/classification/data/Data_Edward/student/Data/FTIR/*.dpt'\n",
    "\n",
    "for dpt_file in glob.glob(dpt_files):\n",
    "    # Extract the filename without the extension\n",
    "    filename = os.path.splitext(dpt_file)[0]\n",
    "\n",
    "    # Create the output CSV file\n",
    "    csv_file = f'{filename}.csv'\n",
    "\n",
    "    # Read the .dpt file and extract the data\n",
    "    data = []\n",
    "    with open(dpt_file, 'r') as file:\n",
    "        for line in file:\n",
    "            # Split the line by comma to separate wavelength and spectroscopy values\n",
    "            values = line.strip().split(',')\n",
    "            data.append(values)\n",
    "    reversed_data = data[::-1]\n",
    "\n",
    "    # Write the extracted data to the CSV file\n",
    "    with open(csv_file, 'w', newline='') as file:\n",
    "        writer = csv.writer(file)\n",
    "        # writer.writerow(['Wavelength', 'Spectroscopy'])  # Write the header row\n",
    "        writer.writerows(reversed_data)  # Write the data rows"
   ]
  },
  {
   "cell_type": "code",
   "execution_count": 6,
   "metadata": {},
   "outputs": [
    {
     "name": "stdout",
     "output_type": "stream",
     "text": [
      "          c1   c2\n",
      "0  399.21156  0.0\n",
      "1  401.14012  0.0\n",
      "2  403.06868  0.0\n",
      "3  404.99724  0.0\n",
      "4  406.92580  0.0               c1       c2\n",
      "1862  3990.18709  0.01369\n",
      "1863  3992.11564  0.01367\n",
      "1864  3994.04420  0.01364\n",
      "1865  3995.97276  0.01362\n",
      "1866  3997.90132  0.01361\n"
     ]
    }
   ],
   "source": [
    "import pandas as pd\n",
    "csv_files = '/home/singh_a_WMGDS.WMG.WARWICK.AC.UK/wmg/polymer_sort/classification/data/Data_Edward/student/Data/FTIR/400/ABS01.csv'\n",
    "c_name = [\"c1\", \"c2\"]\n",
    "data = pd.read_csv(csv_files, names=c_name)\n",
    "data.loc[data['c1'] < 672, 'c2'] = 0\n",
    "print(data.head(), data.tail())\n"
   ]
  },
  {
   "cell_type": "code",
   "execution_count": 8,
   "metadata": {},
   "outputs": [],
   "source": [
    "csv_files = '/home/singh_a_WMGDS.WMG.WARWICK.AC.UK/wmg/polymer_sort/classification/data/Data_Edward/student/Data/FTIR/400/*.csv'\n",
    "import glob\n",
    "import os\n",
    "save_dir = '/home/singh_a_WMGDS.WMG.WARWICK.AC.UK/wmg/polymer_sort/classification/data/Data_Edward/student/Data/FTIR/'\n",
    "for csv_file in glob.glob(csv_files):\n",
    "    csv_name = os.path.basename(csv_file)\n",
    "    data = pd.read_csv(csv_file, names=[\"c1\", \"c2\"])\n",
    "    data.loc[data['c1'] < 672, 'c2'] = 0\n",
    "    data.to_csv(os.path.join(save_dir, csv_name), header=False, index=False)\n",
    "\n"
   ]
  },
  {
   "cell_type": "code",
   "execution_count": null,
   "metadata": {},
   "outputs": [],
   "source": []
  }
 ],
 "metadata": {
  "kernelspec": {
   "display_name": "polymer",
   "language": "python",
   "name": "python3"
  },
  "language_info": {
   "codemirror_mode": {
    "name": "ipython",
    "version": 3
   },
   "file_extension": ".py",
   "mimetype": "text/x-python",
   "name": "python",
   "nbconvert_exporter": "python",
   "pygments_lexer": "ipython3",
   "version": "3.10.12"
  },
  "orig_nbformat": 4
 },
 "nbformat": 4,
 "nbformat_minor": 2
}
