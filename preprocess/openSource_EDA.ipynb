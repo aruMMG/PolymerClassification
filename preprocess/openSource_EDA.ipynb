{
 "cells": [
  {
   "cell_type": "code",
   "execution_count": 2,
   "metadata": {},
   "outputs": [],
   "source": [
    "import numpy as np"
   ]
  },
  {
   "cell_type": "code",
   "execution_count": 3,
   "metadata": {},
   "outputs": [
    {
     "data": {
      "text/plain": [
       "(722, 4000)"
      ]
     },
     "execution_count": 3,
     "metadata": {},
     "output_type": "execute_result"
    }
   ],
   "source": [
    "data = np.load(\"data/open_specy/Open_Sourced_FTIR_Data.npy\")\n",
    "data.shape"
   ]
  },
  {
   "cell_type": "code",
   "execution_count": 6,
   "metadata": {},
   "outputs": [
    {
     "data": {
      "text/plain": [
       "(722, 5)"
      ]
     },
     "execution_count": 6,
     "metadata": {},
     "output_type": "execute_result"
    }
   ],
   "source": [
    "data2y = np.load(\"data/open_specy/Open_Sourced_FTIR_data2y.npy\")\n",
    "data2y.shape"
   ]
  },
  {
   "cell_type": "code",
   "execution_count": 8,
   "metadata": {},
   "outputs": [
    {
     "name": "stdout",
     "output_type": "stream",
     "text": [
      "<class 'numpy.ndarray'>\n"
     ]
    }
   ],
   "source": [
    "print(type(data2y[0]))"
   ]
  },
  {
   "cell_type": "code",
   "execution_count": 13,
   "metadata": {},
   "outputs": [],
   "source": [
    "HDPE, LDPE, PET, PP, Others = None, None, None, None, None\n",
    "\n",
    "if label[147][0]==1:\n",
    "    pass\n",
    "elif label[i][1]==1:\n",
    "    pass\n",
    "elif label[i][2]==1:\n",
    "    pass\n",
    "elif label[i][3]==1:\n",
    "    pass\n",
    "elif label[i][4]==1:\n",
    "    if Others is None:\n",
    "        Others = data[i]"
   ]
  },
  {
   "cell_type": "code",
   "execution_count": null,
   "metadata": {},
   "outputs": [],
   "source": []
  },
  {
   "attachments": {},
   "cell_type": "markdown",
   "metadata": {},
   "source": [
    "The preprocessing was done by Eddie, I just divided into separate class so my model can use it."
   ]
  },
  {
   "attachments": {},
   "cell_type": "markdown",
   "metadata": {},
   "source": [
    "# From here I preprocess the meta data"
   ]
  },
  {
   "cell_type": "code",
   "execution_count": 1,
   "metadata": {},
   "outputs": [
    {
     "ename": "PyreadrError",
     "evalue": "File b'data/open_specy/web/fitr_metadata.RData' does not exist!",
     "output_type": "error",
     "traceback": [
      "\u001b[0;31m---------------------------------------------------------------------------\u001b[0m",
      "\u001b[0;31mPyreadrError\u001b[0m                              Traceback (most recent call last)",
      "Cell \u001b[0;32mIn[1], line 2\u001b[0m\n\u001b[1;32m      1\u001b[0m \u001b[39mimport\u001b[39;00m \u001b[39mpyreadr\u001b[39;00m\n\u001b[0;32m----> 2\u001b[0m metadata \u001b[39m=\u001b[39m pyreadr\u001b[39m.\u001b[39;49mread_r(\u001b[39m\"\u001b[39;49m\u001b[39mdata/open_specy/web/fitr_metadata.RData\u001b[39;49m\u001b[39m\"\u001b[39;49m)\n\u001b[1;32m      3\u001b[0m \u001b[39mtype\u001b[39m(metadata)\n",
      "File \u001b[0;32m~/py_env/polymer/lib/python3.10/site-packages/pyreadr/pyreadr.py:65\u001b[0m, in \u001b[0;36mread_r\u001b[0;34m(path, use_objects, timezone)\u001b[0m\n\u001b[1;32m     63\u001b[0m filename_bytes \u001b[39m=\u001b[39m os\u001b[39m.\u001b[39mpath\u001b[39m.\u001b[39mexpanduser(filename_bytes)\n\u001b[1;32m     64\u001b[0m \u001b[39mif\u001b[39;00m \u001b[39mnot\u001b[39;00m os\u001b[39m.\u001b[39mpath\u001b[39m.\u001b[39misfile(filename_bytes):\n\u001b[0;32m---> 65\u001b[0m     \u001b[39mraise\u001b[39;00m PyreadrError(\u001b[39m\"\u001b[39m\u001b[39mFile \u001b[39m\u001b[39m{0}\u001b[39;00m\u001b[39m does not exist!\u001b[39m\u001b[39m\"\u001b[39m\u001b[39m.\u001b[39mformat(filename_bytes))\n\u001b[1;32m     66\u001b[0m parser\u001b[39m.\u001b[39mparse(filename_bytes)\n\u001b[1;32m     68\u001b[0m result \u001b[39m=\u001b[39m OrderedDict()\n",
      "\u001b[0;31mPyreadrError\u001b[0m: File b'data/open_specy/web/fitr_metadata.RData' does not exist!"
     ]
    }
   ],
   "source": [
    "import pyreadr\n",
    "metadata = pyreadr.read_r(\"data/open_specy/web/fitr_metadata.RData\")\n",
    "type(metadata)"
   ]
  },
  {
   "cell_type": "code",
   "execution_count": 2,
   "metadata": {},
   "outputs": [
    {
     "ename": "NameError",
     "evalue": "name 'metadata' is not defined",
     "output_type": "error",
     "traceback": [
      "\u001b[0;31m---------------------------------------------------------------------------\u001b[0m",
      "\u001b[0;31mNameError\u001b[0m                                 Traceback (most recent call last)",
      "Cell \u001b[0;32mIn[2], line 1\u001b[0m\n\u001b[0;32m----> 1\u001b[0m metadata\u001b[39m.\u001b[39mkeys()\n",
      "\u001b[0;31mNameError\u001b[0m: name 'metadata' is not defined"
     ]
    }
   ],
   "source": [
    "metadata.keys()"
   ]
  },
  {
   "cell_type": "code",
   "execution_count": 3,
   "metadata": {},
   "outputs": [],
   "source": [
    "metadata = metadata['FTIRLibraryMetadata']"
   ]
  },
  {
   "cell_type": "code",
   "execution_count": 4,
   "metadata": {},
   "outputs": [
    {
     "data": {
      "text/plain": [
       "pandas.core.frame.DataFrame"
      ]
     },
     "execution_count": 4,
     "metadata": {},
     "output_type": "execute_result"
    }
   ],
   "source": [
    "type(metadata)"
   ]
  },
  {
   "cell_type": "code",
   "execution_count": 5,
   "metadata": {},
   "outputs": [
    {
     "data": {
      "text/plain": [
       "<bound method NDFrame.head of                       SpectrumIdentity            SpectrumID  \\\n",
       "0                                 HDPE  HDPESample 1Beauty C   \n",
       "1                                 HDPE  HDPESample 2Beauty C   \n",
       "2                                 HDPE  HDPESample 3Beauty C   \n",
       "3                                 HDPE  HDPESample 4Beauty C   \n",
       "4                                 HDPE  HDPESample 5Beauty C   \n",
       "..                                 ...                   ...   \n",
       "631  Polyether urethane with additives                    47   \n",
       "632                               PMMA                    48   \n",
       "633                        Teflon/PTFE                     5   \n",
       "634                          Styrofoam                     6   \n",
       "635                      silicone/PDMS                     7   \n",
       "\n",
       "                                 Organization SpectrumType  \\\n",
       "0                         Chabuka et al. 2020         FTIR   \n",
       "1                         Chabuka et al. 2020         FTIR   \n",
       "2                         Chabuka et al. 2020         FTIR   \n",
       "3                         Chabuka et al. 2020         FTIR   \n",
       "4                         Chabuka et al. 2020         FTIR   \n",
       "..                                        ...          ...   \n",
       "631  Suja Sukumaran, Thermo Fisher Scientific         FTIR   \n",
       "632  Suja Sukumaran, Thermo Fisher Scientific         FTIR   \n",
       "633  Suja Sukumaran, Thermo Fisher Scientific         FTIR   \n",
       "634  Suja Sukumaran, Thermo Fisher Scientific         FTIR   \n",
       "635  Suja Sukumaran, Thermo Fisher Scientific         FTIR   \n",
       "\n",
       "                     InstrumentUsed SpectralResolution NumberofAccumulations  \\\n",
       "0    ThermalNicolet Nexus 670 FT-IR               4/cm                     3   \n",
       "1    ThermalNicolet Nexus 670 FT-IR               4/cm                     3   \n",
       "2    ThermalNicolet Nexus 670 FT-IR               4/cm                     3   \n",
       "3    ThermalNicolet Nexus 670 FT-IR               4/cm                     3   \n",
       "4    ThermalNicolet Nexus 670 FT-IR               4/cm                     3   \n",
       "..                              ...                ...                   ...   \n",
       "631                                                                      NaN   \n",
       "632                                                                      NaN   \n",
       "633                                                                      NaN   \n",
       "634                                                                      NaN   \n",
       "635                                                                      NaN   \n",
       "\n",
       "    MaterialForm              Color InstrumentMode  ... LaserLightUsed  \\\n",
       "0                                                   ...            NaN   \n",
       "1                                                   ...            NaN   \n",
       "2                                                   ...            NaN   \n",
       "3                                                   ...            NaN   \n",
       "4                                                   ...            NaN   \n",
       "..           ...                ...            ...  ...            ...   \n",
       "631     particle               grey                 ...            NaN   \n",
       "632     particle              white                 ...            NaN   \n",
       "633     particle  clear/transparent                 ...            NaN   \n",
       "634     particle              white                 ...            NaN   \n",
       "635     particle                red                 ...            NaN   \n",
       "\n",
       "    TotalAcquisitionTime_s DataProcessingProcedure  \\\n",
       "0                      NaN                     NaN   \n",
       "1                      NaN                     NaN   \n",
       "2                      NaN                     NaN   \n",
       "3                      NaN                     NaN   \n",
       "4                      NaN                     NaN   \n",
       "..                     ...                     ...   \n",
       "631                    NaN                     NaN   \n",
       "632                    NaN                     NaN   \n",
       "633                    NaN                     NaN   \n",
       "634                    NaN                     NaN   \n",
       "635                    NaN                     NaN   \n",
       "\n",
       "    LevelofConfidenceinIdentification smoother baseline range timestamp  \\\n",
       "0                                 NaN      NaN      NaN   NaN       NaN   \n",
       "1                                 NaN      NaN      NaN   NaN       NaN   \n",
       "2                                 NaN      NaN      NaN   NaN       NaN   \n",
       "3                                 NaN      NaN      NaN   NaN       NaN   \n",
       "4                                 NaN      NaN      NaN   NaN       NaN   \n",
       "..                                ...      ...      ...   ...       ...   \n",
       "631                               NaN      NaN      NaN   NaN       NaN   \n",
       "632                               NaN      NaN      NaN   NaN       NaN   \n",
       "633                               NaN      NaN      NaN   NaN       NaN   \n",
       "634                               NaN      NaN      NaN   NaN       NaN   \n",
       "635                               NaN      NaN      NaN   NaN       NaN   \n",
       "\n",
       "    SampleName  rsq  \n",
       "0            1  NaN  \n",
       "1            2  NaN  \n",
       "2            3  NaN  \n",
       "3            4  NaN  \n",
       "4            5  NaN  \n",
       "..         ...  ...  \n",
       "631        632  NaN  \n",
       "632        633  NaN  \n",
       "633        634  NaN  \n",
       "634        635  NaN  \n",
       "635        636  NaN  \n",
       "\n",
       "[636 rows x 28 columns]>"
      ]
     },
     "execution_count": 5,
     "metadata": {},
     "output_type": "execute_result"
    }
   ],
   "source": [
    "metadata.head"
   ]
  },
  {
   "cell_type": "code",
   "execution_count": 6,
   "metadata": {},
   "outputs": [
    {
     "data": {
      "text/plain": [
       "636"
      ]
     },
     "execution_count": 6,
     "metadata": {},
     "output_type": "execute_result"
    }
   ],
   "source": [
    "len(metadata)"
   ]
  },
  {
   "attachments": {},
   "cell_type": "markdown",
   "metadata": {},
   "source": [
    "# Check ftir_metadata_raw1"
   ]
  },
  {
   "cell_type": "code",
   "execution_count": 3,
   "metadata": {},
   "outputs": [],
   "source": [
    "import pandas as pd\n"
   ]
  },
  {
   "cell_type": "code",
   "execution_count": 4,
   "metadata": {},
   "outputs": [
    {
     "name": "stderr",
     "output_type": "stream",
     "text": [
      "/tmp/ipykernel_1464817/4248482271.py:1: DtypeWarning: Columns (5,24,25,26,27,28,29,30,31,32,36,37,48,53,56,67,68,69,72,73,74,75,76,77,78,80,81,82,83,84,85,86,89,90,91,92,93,94,95,96,97,102,103,104,105,132,133) have mixed types. Specify dtype option on import or set low_memory=False.\n",
      "  df = pd.read_csv(\"data/open_specy/ftir_metadata_raw1.csv\")\n"
     ]
    },
    {
     "data": {
      "text/html": [
       "<div>\n",
       "<style scoped>\n",
       "    .dataframe tbody tr th:only-of-type {\n",
       "        vertical-align: middle;\n",
       "    }\n",
       "\n",
       "    .dataframe tbody tr th {\n",
       "        vertical-align: top;\n",
       "    }\n",
       "\n",
       "    .dataframe thead th {\n",
       "        text-align: right;\n",
       "    }\n",
       "</style>\n",
       "<table border=\"1\" class=\"dataframe\">\n",
       "  <thead>\n",
       "    <tr style=\"text-align: right;\">\n",
       "      <th></th>\n",
       "      <th>SpectrumID</th>\n",
       "      <th>Organization</th>\n",
       "      <th>SpectrumType</th>\n",
       "      <th>SpectrumIdentity</th>\n",
       "      <th>JCAMP-DX</th>\n",
       "      <th>DATA TYPE</th>\n",
       "      <th>OtherInformation</th>\n",
       "      <th>OWNER</th>\n",
       "      <th>XUNITS</th>\n",
       "      <th>YUNITS</th>\n",
       "      <th>...</th>\n",
       "      <th>Number of rejected sample scans</th>\n",
       "      <th>Number of rejected background scans</th>\n",
       "      <th>Bench serial number</th>\n",
       "      <th>ZPD</th>\n",
       "      <th>Subtraction or Addition</th>\n",
       "      <th>Baseline Correction</th>\n",
       "      <th>Smooth</th>\n",
       "      <th>%Transmittance-&gt;Absorbance</th>\n",
       "      <th>SampleName</th>\n",
       "      <th>rsq</th>\n",
       "    </tr>\n",
       "  </thead>\n",
       "  <tbody>\n",
       "    <tr>\n",
       "      <th>0</th>\n",
       "      <td>./1.txt</td>\n",
       "      <td>NIST Chem Web Book</td>\n",
       "      <td>FTIR</td>\n",
       "      <td>Erythromycin</td>\n",
       "      <td>4.24</td>\n",
       "      <td>INFRARED SPECTRUM</td>\n",
       "      <td>NaN</td>\n",
       "      <td>Public domain</td>\n",
       "      <td>1/cm</td>\n",
       "      <td>NaN</td>\n",
       "      <td>...</td>\n",
       "      <td>NaN</td>\n",
       "      <td>NaN</td>\n",
       "      <td>NaN</td>\n",
       "      <td>NaN</td>\n",
       "      <td>NaN</td>\n",
       "      <td>NaN</td>\n",
       "      <td>NaN</td>\n",
       "      <td>NaN</td>\n",
       "      <td>13743</td>\n",
       "      <td>NaN</td>\n",
       "    </tr>\n",
       "    <tr>\n",
       "      <th>1</th>\n",
       "      <td>./10.txt</td>\n",
       "      <td>NIST Chem Web Book</td>\n",
       "      <td>FTIR</td>\n",
       "      <td>2-(Dimethylamino)ethanethiol hydrochloride</td>\n",
       "      <td>4.24</td>\n",
       "      <td>INFRARED SPECTRUM</td>\n",
       "      <td>NaN</td>\n",
       "      <td>Public domain</td>\n",
       "      <td>1/cm</td>\n",
       "      <td>NaN</td>\n",
       "      <td>...</td>\n",
       "      <td>NaN</td>\n",
       "      <td>NaN</td>\n",
       "      <td>NaN</td>\n",
       "      <td>NaN</td>\n",
       "      <td>NaN</td>\n",
       "      <td>NaN</td>\n",
       "      <td>NaN</td>\n",
       "      <td>NaN</td>\n",
       "      <td>13744</td>\n",
       "      <td>NaN</td>\n",
       "    </tr>\n",
       "    <tr>\n",
       "      <th>2</th>\n",
       "      <td>./100.txt</td>\n",
       "      <td>NIST Chem Web Book</td>\n",
       "      <td>FTIR</td>\n",
       "      <td>EDTA-Na3-salt</td>\n",
       "      <td>4.24</td>\n",
       "      <td>INFRARED SPECTRUM</td>\n",
       "      <td>NaN</td>\n",
       "      <td>Public domain</td>\n",
       "      <td>1/cm</td>\n",
       "      <td>NaN</td>\n",
       "      <td>...</td>\n",
       "      <td>NaN</td>\n",
       "      <td>NaN</td>\n",
       "      <td>NaN</td>\n",
       "      <td>NaN</td>\n",
       "      <td>NaN</td>\n",
       "      <td>NaN</td>\n",
       "      <td>NaN</td>\n",
       "      <td>NaN</td>\n",
       "      <td>13745</td>\n",
       "      <td>NaN</td>\n",
       "    </tr>\n",
       "    <tr>\n",
       "      <th>3</th>\n",
       "      <td>./101.txt</td>\n",
       "      <td>NIST Chem Web Book</td>\n",
       "      <td>FTIR</td>\n",
       "      <td>Sodium chlorate</td>\n",
       "      <td>4.24</td>\n",
       "      <td>INFRARED SPECTRUM</td>\n",
       "      <td>NaN</td>\n",
       "      <td>Public domain</td>\n",
       "      <td>1/cm</td>\n",
       "      <td>NaN</td>\n",
       "      <td>...</td>\n",
       "      <td>NaN</td>\n",
       "      <td>NaN</td>\n",
       "      <td>NaN</td>\n",
       "      <td>NaN</td>\n",
       "      <td>NaN</td>\n",
       "      <td>NaN</td>\n",
       "      <td>NaN</td>\n",
       "      <td>NaN</td>\n",
       "      <td>13746</td>\n",
       "      <td>NaN</td>\n",
       "    </tr>\n",
       "    <tr>\n",
       "      <th>4</th>\n",
       "      <td>./102.txt</td>\n",
       "      <td>NIST Chem Web Book</td>\n",
       "      <td>FTIR</td>\n",
       "      <td>2,4-Dinitrotoluene</td>\n",
       "      <td>4.24</td>\n",
       "      <td>INFRARED SPECTRUM</td>\n",
       "      <td>NaN</td>\n",
       "      <td>Public domain</td>\n",
       "      <td>1/cm</td>\n",
       "      <td>NaN</td>\n",
       "      <td>...</td>\n",
       "      <td>NaN</td>\n",
       "      <td>NaN</td>\n",
       "      <td>NaN</td>\n",
       "      <td>NaN</td>\n",
       "      <td>NaN</td>\n",
       "      <td>NaN</td>\n",
       "      <td>NaN</td>\n",
       "      <td>NaN</td>\n",
       "      <td>13747</td>\n",
       "      <td>NaN</td>\n",
       "    </tr>\n",
       "  </tbody>\n",
       "</table>\n",
       "<p>5 rows × 136 columns</p>\n",
       "</div>"
      ],
      "text/plain": [
       "  SpectrumID        Organization SpectrumType  \\\n",
       "0    ./1.txt  NIST Chem Web Book         FTIR   \n",
       "1   ./10.txt  NIST Chem Web Book         FTIR   \n",
       "2  ./100.txt  NIST Chem Web Book         FTIR   \n",
       "3  ./101.txt  NIST Chem Web Book         FTIR   \n",
       "4  ./102.txt  NIST Chem Web Book         FTIR   \n",
       "\n",
       "                             SpectrumIdentity JCAMP-DX          DATA TYPE  \\\n",
       "0                                Erythromycin     4.24  INFRARED SPECTRUM   \n",
       "1  2-(Dimethylamino)ethanethiol hydrochloride     4.24  INFRARED SPECTRUM   \n",
       "2                               EDTA-Na3-salt     4.24  INFRARED SPECTRUM   \n",
       "3                             Sodium chlorate     4.24  INFRARED SPECTRUM   \n",
       "4                          2,4-Dinitrotoluene     4.24  INFRARED SPECTRUM   \n",
       "\n",
       "  OtherInformation          OWNER XUNITS YUNITS  ...  \\\n",
       "0              NaN  Public domain   1/cm    NaN  ...   \n",
       "1              NaN  Public domain   1/cm    NaN  ...   \n",
       "2              NaN  Public domain   1/cm    NaN  ...   \n",
       "3              NaN  Public domain   1/cm    NaN  ...   \n",
       "4              NaN  Public domain   1/cm    NaN  ...   \n",
       "\n",
       "   Number of rejected sample scans  Number of rejected background scans  \\\n",
       "0                              NaN                                  NaN   \n",
       "1                              NaN                                  NaN   \n",
       "2                              NaN                                  NaN   \n",
       "3                              NaN                                  NaN   \n",
       "4                              NaN                                  NaN   \n",
       "\n",
       "   Bench serial number  ZPD  Subtraction or Addition  Baseline Correction  \\\n",
       "0                  NaN  NaN                      NaN                  NaN   \n",
       "1                  NaN  NaN                      NaN                  NaN   \n",
       "2                  NaN  NaN                      NaN                  NaN   \n",
       "3                  NaN  NaN                      NaN                  NaN   \n",
       "4                  NaN  NaN                      NaN                  NaN   \n",
       "\n",
       "   Smooth  %Transmittance->Absorbance  SampleName  rsq  \n",
       "0     NaN                         NaN       13743  NaN  \n",
       "1     NaN                         NaN       13744  NaN  \n",
       "2     NaN                         NaN       13745  NaN  \n",
       "3     NaN                         NaN       13746  NaN  \n",
       "4     NaN                         NaN       13747  NaN  \n",
       "\n",
       "[5 rows x 136 columns]"
      ]
     },
     "execution_count": 4,
     "metadata": {},
     "output_type": "execute_result"
    }
   ],
   "source": [
    "df = pd.read_csv(\"data/open_specy/ftir_metadata_raw1.csv\")\n",
    "df.head()"
   ]
  },
  {
   "cell_type": "code",
   "execution_count": 5,
   "metadata": {},
   "outputs": [
    {
     "data": {
      "text/plain": [
       "array(['FTIR'], dtype=object)"
      ]
     },
     "execution_count": 5,
     "metadata": {},
     "output_type": "execute_result"
    }
   ],
   "source": [
    "df[\"SpectrumType\"].unique()"
   ]
  },
  {
   "cell_type": "code",
   "execution_count": 6,
   "metadata": {},
   "outputs": [
    {
     "data": {
      "text/plain": [
       "4106"
      ]
     },
     "execution_count": 6,
     "metadata": {},
     "output_type": "execute_result"
    }
   ],
   "source": [
    "len(df[\"SampleName\"].unique())"
   ]
  },
  {
   "cell_type": "code",
   "execution_count": 7,
   "metadata": {},
   "outputs": [
    {
     "data": {
      "text/plain": [
       "137"
      ]
     },
     "execution_count": 7,
     "metadata": {},
     "output_type": "execute_result"
    }
   ],
   "source": [
    "hdpe_count = df[\"SpectrumIdentity\"].value_counts().get('HDPE', 0)\n",
    "hdpe_count"
   ]
  },
  {
   "cell_type": "code",
   "execution_count": 8,
   "metadata": {},
   "outputs": [
    {
     "data": {
      "text/plain": [
       "136"
      ]
     },
     "execution_count": 8,
     "metadata": {},
     "output_type": "execute_result"
    }
   ],
   "source": [
    "pet_count = df[\"SpectrumIdentity\"].value_counts().get('PET', 0)\n",
    "pet_count"
   ]
  },
  {
   "cell_type": "code",
   "execution_count": 9,
   "metadata": {},
   "outputs": [
    {
     "data": {
      "text/plain": [
       "0"
      ]
     },
     "execution_count": 9,
     "metadata": {},
     "output_type": "execute_result"
    }
   ],
   "source": [
    "ldpe_count = df[\"SpectrumIdentity\"].value_counts().get('LDPE', 0)\n",
    "ldpe_count"
   ]
  },
  {
   "cell_type": "code",
   "execution_count": 10,
   "metadata": {},
   "outputs": [],
   "source": [
    "import pandas as pd\n",
    "df_prev = pd.read_csv(\"ftir_metadata.csv\")"
   ]
  },
  {
   "cell_type": "code",
   "execution_count": 11,
   "metadata": {},
   "outputs": [
    {
     "data": {
      "text/html": [
       "<div>\n",
       "<style scoped>\n",
       "    .dataframe tbody tr th:only-of-type {\n",
       "        vertical-align: middle;\n",
       "    }\n",
       "\n",
       "    .dataframe tbody tr th {\n",
       "        vertical-align: top;\n",
       "    }\n",
       "\n",
       "    .dataframe thead th {\n",
       "        text-align: right;\n",
       "    }\n",
       "</style>\n",
       "<table border=\"1\" class=\"dataframe\">\n",
       "  <thead>\n",
       "    <tr style=\"text-align: right;\">\n",
       "      <th></th>\n",
       "      <th>spectrum_identity</th>\n",
       "      <th>spectrum_id</th>\n",
       "      <th>organization</th>\n",
       "      <th>spectrum_type</th>\n",
       "      <th>instrument_used</th>\n",
       "      <th>spectral_resolution</th>\n",
       "      <th>number_of_accumulations</th>\n",
       "      <th>material_form</th>\n",
       "      <th>color</th>\n",
       "      <th>instrument_mode</th>\n",
       "      <th>...</th>\n",
       "      <th>laser_light_used</th>\n",
       "      <th>total_acquisition_time_s</th>\n",
       "      <th>data_processing_procedure</th>\n",
       "      <th>level_of_confidence_in_identification</th>\n",
       "      <th>smoother</th>\n",
       "      <th>baseline</th>\n",
       "      <th>range</th>\n",
       "      <th>time_stamp</th>\n",
       "      <th>sample_name</th>\n",
       "      <th>rsq</th>\n",
       "    </tr>\n",
       "  </thead>\n",
       "  <tbody>\n",
       "    <tr>\n",
       "      <th>0</th>\n",
       "      <td>HDPE</td>\n",
       "      <td>HDPESample 1Beauty C</td>\n",
       "      <td>Chabuka et al. 2020</td>\n",
       "      <td>FTIR</td>\n",
       "      <td>ThermalNicolet Nexus 670 FT-IR</td>\n",
       "      <td>4/cm</td>\n",
       "      <td>3.0</td>\n",
       "      <td>NaN</td>\n",
       "      <td>NaN</td>\n",
       "      <td>NaN</td>\n",
       "      <td>...</td>\n",
       "      <td>NaN</td>\n",
       "      <td>NaN</td>\n",
       "      <td>NaN</td>\n",
       "      <td>NaN</td>\n",
       "      <td>NaN</td>\n",
       "      <td>NaN</td>\n",
       "      <td>NaN</td>\n",
       "      <td>NaN</td>\n",
       "      <td>1</td>\n",
       "      <td>NaN</td>\n",
       "    </tr>\n",
       "    <tr>\n",
       "      <th>1</th>\n",
       "      <td>HDPE</td>\n",
       "      <td>HDPESample 2Beauty C</td>\n",
       "      <td>Chabuka et al. 2020</td>\n",
       "      <td>FTIR</td>\n",
       "      <td>ThermalNicolet Nexus 670 FT-IR</td>\n",
       "      <td>4/cm</td>\n",
       "      <td>3.0</td>\n",
       "      <td>NaN</td>\n",
       "      <td>NaN</td>\n",
       "      <td>NaN</td>\n",
       "      <td>...</td>\n",
       "      <td>NaN</td>\n",
       "      <td>NaN</td>\n",
       "      <td>NaN</td>\n",
       "      <td>NaN</td>\n",
       "      <td>NaN</td>\n",
       "      <td>NaN</td>\n",
       "      <td>NaN</td>\n",
       "      <td>NaN</td>\n",
       "      <td>2</td>\n",
       "      <td>NaN</td>\n",
       "    </tr>\n",
       "    <tr>\n",
       "      <th>2</th>\n",
       "      <td>HDPE</td>\n",
       "      <td>HDPESample 3Beauty C</td>\n",
       "      <td>Chabuka et al. 2020</td>\n",
       "      <td>FTIR</td>\n",
       "      <td>ThermalNicolet Nexus 670 FT-IR</td>\n",
       "      <td>4/cm</td>\n",
       "      <td>3.0</td>\n",
       "      <td>NaN</td>\n",
       "      <td>NaN</td>\n",
       "      <td>NaN</td>\n",
       "      <td>...</td>\n",
       "      <td>NaN</td>\n",
       "      <td>NaN</td>\n",
       "      <td>NaN</td>\n",
       "      <td>NaN</td>\n",
       "      <td>NaN</td>\n",
       "      <td>NaN</td>\n",
       "      <td>NaN</td>\n",
       "      <td>NaN</td>\n",
       "      <td>3</td>\n",
       "      <td>NaN</td>\n",
       "    </tr>\n",
       "    <tr>\n",
       "      <th>3</th>\n",
       "      <td>HDPE</td>\n",
       "      <td>HDPESample 4Beauty C</td>\n",
       "      <td>Chabuka et al. 2020</td>\n",
       "      <td>FTIR</td>\n",
       "      <td>ThermalNicolet Nexus 670 FT-IR</td>\n",
       "      <td>4/cm</td>\n",
       "      <td>3.0</td>\n",
       "      <td>NaN</td>\n",
       "      <td>NaN</td>\n",
       "      <td>NaN</td>\n",
       "      <td>...</td>\n",
       "      <td>NaN</td>\n",
       "      <td>NaN</td>\n",
       "      <td>NaN</td>\n",
       "      <td>NaN</td>\n",
       "      <td>NaN</td>\n",
       "      <td>NaN</td>\n",
       "      <td>NaN</td>\n",
       "      <td>NaN</td>\n",
       "      <td>4</td>\n",
       "      <td>NaN</td>\n",
       "    </tr>\n",
       "    <tr>\n",
       "      <th>4</th>\n",
       "      <td>HDPE</td>\n",
       "      <td>HDPESample 5Beauty C</td>\n",
       "      <td>Chabuka et al. 2020</td>\n",
       "      <td>FTIR</td>\n",
       "      <td>ThermalNicolet Nexus 670 FT-IR</td>\n",
       "      <td>4/cm</td>\n",
       "      <td>3.0</td>\n",
       "      <td>NaN</td>\n",
       "      <td>NaN</td>\n",
       "      <td>NaN</td>\n",
       "      <td>...</td>\n",
       "      <td>NaN</td>\n",
       "      <td>NaN</td>\n",
       "      <td>NaN</td>\n",
       "      <td>NaN</td>\n",
       "      <td>NaN</td>\n",
       "      <td>NaN</td>\n",
       "      <td>NaN</td>\n",
       "      <td>NaN</td>\n",
       "      <td>5</td>\n",
       "      <td>NaN</td>\n",
       "    </tr>\n",
       "  </tbody>\n",
       "</table>\n",
       "<p>5 rows × 28 columns</p>\n",
       "</div>"
      ],
      "text/plain": [
       "  spectrum_identity           spectrum_id         organization spectrum_type  \\\n",
       "0              HDPE  HDPESample 1Beauty C  Chabuka et al. 2020          FTIR   \n",
       "1              HDPE  HDPESample 2Beauty C  Chabuka et al. 2020          FTIR   \n",
       "2              HDPE  HDPESample 3Beauty C  Chabuka et al. 2020          FTIR   \n",
       "3              HDPE  HDPESample 4Beauty C  Chabuka et al. 2020          FTIR   \n",
       "4              HDPE  HDPESample 5Beauty C  Chabuka et al. 2020          FTIR   \n",
       "\n",
       "                  instrument_used spectral_resolution  \\\n",
       "0  ThermalNicolet Nexus 670 FT-IR                4/cm   \n",
       "1  ThermalNicolet Nexus 670 FT-IR                4/cm   \n",
       "2  ThermalNicolet Nexus 670 FT-IR                4/cm   \n",
       "3  ThermalNicolet Nexus 670 FT-IR                4/cm   \n",
       "4  ThermalNicolet Nexus 670 FT-IR                4/cm   \n",
       "\n",
       "   number_of_accumulations material_form color instrument_mode  ...  \\\n",
       "0                      3.0           NaN   NaN             NaN  ...   \n",
       "1                      3.0           NaN   NaN             NaN  ...   \n",
       "2                      3.0           NaN   NaN             NaN  ...   \n",
       "3                      3.0           NaN   NaN             NaN  ...   \n",
       "4                      3.0           NaN   NaN             NaN  ...   \n",
       "\n",
       "  laser_light_used total_acquisition_time_s  data_processing_procedure  \\\n",
       "0              NaN                      NaN                        NaN   \n",
       "1              NaN                      NaN                        NaN   \n",
       "2              NaN                      NaN                        NaN   \n",
       "3              NaN                      NaN                        NaN   \n",
       "4              NaN                      NaN                        NaN   \n",
       "\n",
       "   level_of_confidence_in_identification  smoother  baseline  range  \\\n",
       "0                                    NaN       NaN       NaN    NaN   \n",
       "1                                    NaN       NaN       NaN    NaN   \n",
       "2                                    NaN       NaN       NaN    NaN   \n",
       "3                                    NaN       NaN       NaN    NaN   \n",
       "4                                    NaN       NaN       NaN    NaN   \n",
       "\n",
       "   time_stamp  sample_name  rsq  \n",
       "0         NaN            1  NaN  \n",
       "1         NaN            2  NaN  \n",
       "2         NaN            3  NaN  \n",
       "3         NaN            4  NaN  \n",
       "4         NaN            5  NaN  \n",
       "\n",
       "[5 rows x 28 columns]"
      ]
     },
     "execution_count": 11,
     "metadata": {},
     "output_type": "execute_result"
    }
   ],
   "source": [
    "df_prev.head()"
   ]
  },
  {
   "cell_type": "code",
   "execution_count": 12,
   "metadata": {},
   "outputs": [],
   "source": [
    "ids = df_prev[\"spectrum_identity\"].unique()"
   ]
  },
  {
   "cell_type": "code",
   "execution_count": 13,
   "metadata": {},
   "outputs": [
    {
     "data": {
      "text/plain": [
       "251"
      ]
     },
     "execution_count": 13,
     "metadata": {},
     "output_type": "execute_result"
    }
   ],
   "source": [
    "len(ids)"
   ]
  },
  {
   "cell_type": "code",
   "execution_count": 14,
   "metadata": {},
   "outputs": [
    {
     "name": "stdout",
     "output_type": "stream",
     "text": [
      "['HDPE' 'PET' '1 2 polybutadiene' 'acrylonitrile butadiene styrene'\n",
      " 'fibre acetate' 'acrylonitrile butadiene' 'algae desmarestia viridis'\n",
      " 'algae fucus serratus' 'algae laminaria digita and hyperborea'\n",
      " 'algae laminaria sacharina' 'alginic acid  sodium salt' 'fur alpaca'\n",
      " 'polyethylene wax oxidized' 'polyethylene wax' 'fur angora rabbit'\n",
      " 'broodcomb' 'amber' 'polyester epoxide' 'epoxide resin' 'polyester'\n",
      " 'polyhydroxybutyric acid' 'butyl methacrylate isobutyl methacrolate'\n",
      " 'fur camel' 'wool cashmere crossbred' 'wool cashmere kasakhstan'\n",
      " 'wool cashmere mongolia' 'fur cat european shorthair' 'cellulose'\n",
      " 'cellulose acetate' 'cellulose acetate butyrate' 'cellulose triacetate'\n",
      " 'cellulose propionate' 'chitin crangon antonia'\n",
      " 'chitin from crustacean shells' 'chitin cancer pagurus' 'fibre cocoanut'\n",
      " 'copolyamide' 'copolyester' 'fibre cotton combers' 'fibre cotton US pima'\n",
      " 'fibre cotton uzbekistan' 'fur cow' 'crangon  chitin exuvie'\n",
      " 'sealing ring EPDM' 'sealing ring Gardena 1124 large'\n",
      " 'sealing ring Gardena 1124 small' 'sealing ring Gardena 2824 large'\n",
      " 'sealing ring Gardena 2824 small' 'sealing ring Gardena 2824 medium'\n",
      " 'fur dog' 'honeycomb' 'polystyrene expanded' 'silicone rubber'\n",
      " 'ethyl cellulose' 'ethylene acrylic acid' 'ethylene ethyl acrylate'\n",
      " 'ethylene methacrylic acid' 'ethylene propylene' 'ethylene vinyl acetate'\n",
      " 'ethylene vinyl alcohol' 'polyethylene high density'\n",
      " 'fibre urtica dioica L conar fibra' 'fibre flax'\n",
      " 'honeycomb freshly removed with nectar' 'honeycomb freshly removed'\n",
      " 'fibre grass' 'fibre hemp fine' 'fibre hemp rough' 'alkyd varnish'\n",
      " 'wood beech' 'wood pine' 'wood glue' 'wood mahagoni'\n",
      " 'broodcomb once brooded' 'polytehylene terephthalate'\n",
      " 'hydroxyethyl cellulose' 'hydroxypropyl cellulose'\n",
      " 'hydroxypropyl methyl cellulose' 'fibre indian raw cotton' 'fibre jute'\n",
      " 'fibre kapok' 'polyvinylchloride' 'polypropylene' 'polyethylene foamed'\n",
      " 'silica gel lab' 'polyurethane acrylic resin' 'cellulose wipe'\n",
      " 'lahmian medium acrylic paint' 'fur lama' 'polyethylene low density'\n",
      " 'fibre linen' 'merino scoured wool made rough' 'methyl cellulose'\n",
      " 'methyl vinyl ether maleic acid' 'methyl vinyl ether maleic anhydride'\n",
      " 'honeycomb middle wall' 'fur mohair angora goat' 'polyimide' 'aramid'\n",
      " 'polyamide' 'polycarbonate' 'fibre mulberry silk' 'nitrile rubber'\n",
      " 'nylon 6 (3)  T' 'nylon 6' 'nylon 6 6' 'nylon 6 9' 'nylon 6 12'\n",
      " 'nylon 11' 'nylon 12' 'n vinylpyrrolidone vinyl acetate'\n",
      " 'honeycomb top bar' 'fibre polyamide 6 (not)stretched'\n",
      " 'fibre polyamide 6' 'polyamide 6' 'fibre polyamide 6 P6.6' 'polymaide 66'\n",
      " 'polybuthylene terephthalate' 'polyesterurethane'\n",
      " 'polytehylene terephthalate amorphous' 'phenoxy resin' 'polylactic acid'\n",
      " 'poly(1 butene) isotactic' 'poly(2 4 6 tribromostyrene)'\n",
      " 'poly(2 6 dimethyl p phenylene oxide)'\n",
      " 'poly(2 hydroxyethyl methacrylate)'\n",
      " \"poly(4 4' dipropoxy 2 2' diphenyl propane fumarate)\"\n",
      " 'poly(4 methyl 1 pentene)' 'poly(acrylic acid)'\n",
      " 'poly(butylene terephthalate)' 'poly(diallyl isophthalate)'\n",
      " 'poly(ethylene glycol)' 'poly(ethylene oxide)'\n",
      " 'poly(ethylene terephthalate)' 'poly(ethyl methacrylate)'\n",
      " 'poly(isobutyl methacrylate)' 'poly(methyl methacrylate)'\n",
      " 'poly(n butyl methacrylate)' 'poly(phenylene sulfide)'\n",
      " 'poly(p phenylene ether sulphone)' 'poly(tetrafluoroethylene)'\n",
      " 'poly(vinyl acetate)' 'poly(vinyl alcohol)' 'poly(vinyl butyral)'\n",
      " 'poly(vinyl chloride)' 'poly(vinyl chloride) carboxylated'\n",
      " 'poly(vinyl formal)' 'poly(vinylidene fluoride)' 'poly(vinyl stearate)'\n",
      " 'polyacetal' 'polyacrylamide' 'polyacrylamide carboxyl modified'\n",
      " 'fibre polyactide' 'polyamide resin' 'polycaprolactone' 'polychloroprene'\n",
      " 'fibre polyester' 'fibre polyetheretherketone' 'polyethylene chlorinated'\n",
      " 'polyethylene chlorosulfonated' 'polyethylene oxidized'\n",
      " 'polyethylene terephtalate' 'polyisoprene chlorinated'\n",
      " 'fibre polypropylene' 'fibre polypropylene dyed'\n",
      " 'polypropylene isotactic' 'polystyrene' 'polysulfone'\n",
      " 'polytetrafluoroethylene' 'polyurethane' 'fibre polyvinyl alcohol'\n",
      " 'polyvinyl alcohol' 'fibre polyvinylidene fluoride'\n",
      " 'polyvinylpyrrolidone' 'polyoxymethylene' 'fibre poplar down'\n",
      " 'polyphenylsulfone' 'polyetherurethane' 'polyetherester'\n",
      " 'polyvinylchloride with plasticizer' 'quartz sand lab'\n",
      " 'quartz sand beach' 'wool raw cashmere afghanistan'\n",
      " 'wool raw cashmere mongolia' 'fur red deer' 'fibre roasted flax'\n",
      " 'polyethylene low density linear' 'styrene acrylonitrile'\n",
      " 'windscreen wiper rubber' 'black broodcomb'\n",
      " 'scoured wool  not made rough' 'silicone seal reactor'\n",
      " 'fibre silk slubbing' 'resin dispersion' 'styrene allyl alcohol'\n",
      " 'styrene butadiene' 'styrene butyl methacrylate'\n",
      " 'styrene ethylene butylene' 'styrene isoprene' 'styrene maleic anhydride'\n",
      " 'styrene maleic anhydride partial methyl ester'\n",
      " 'fibre thermoplastic elastomere' 'fibre turf' 'fibre tussah silk'\n",
      " 'vinyl chloride vinyl acetate'\n",
      " 'vinyl chloride vinyl acetate hydroxypropyl acrylate'\n",
      " 'vinyl chloride vinyl acetate maleic acid'\n",
      " 'vinylidene chloride acrylonitrile' 'vinylidene chloride vinyl chloride'\n",
      " 'fibre viscose' 'fibre viscose dyed' 'fur wild boar' 'wool'\n",
      " 'wool slubbing fine' 'wool slubbing rough' 'wool sheep supersoft'\n",
      " 'fur yak' 'fur yak bleached' 'zein purified' 'cigarette filter'\n",
      " 'polyamide 66' 'polyethylene terephthalate' 'polymethyl methacrylate'\n",
      " 'coal' 'PVA with Kaolin clay' 'Pthalate and propyl alcohol mix'\n",
      " 'Polypropylene  with silicate mix' 'Polyethylene' 'Polyethereamide'\n",
      " 'Polyester' 'papercup_cellulosic' 'polyethylene'\n",
      " 'polu butadiene acrylonitrile' 'Plumbers tape sealing putty'\n",
      " 'polyesterterpthalate' 'poly(ethylene terepthalate)' 'PE+silicate+bio'\n",
      " 'PE with silicate inorganic'\n",
      " 'Polyethylene with acryloid and pthalocyanine (blue)' 'PDMS'\n",
      " 'nitrocellulose' 'Nitrocellulose' 'leaf-plant-' 'Cardboard/cellulose'\n",
      " 'Teflon/PTFE' 'Acrylic' 'Cellulose' 'Polyether urethane with additives'\n",
      " 'PMMA' 'Styrofoam' 'silicone/PDMS']\n"
     ]
    }
   ],
   "source": [
    "print(ids)"
   ]
  },
  {
   "cell_type": "code",
   "execution_count": 15,
   "metadata": {},
   "outputs": [],
   "source": [
    "C = df[df[\"SpectrumIdentity\"].isin(ids)]"
   ]
  },
  {
   "cell_type": "code",
   "execution_count": 16,
   "metadata": {},
   "outputs": [
    {
     "data": {
      "text/plain": [
       "641"
      ]
     },
     "execution_count": 16,
     "metadata": {},
     "output_type": "execute_result"
    }
   ],
   "source": [
    "len(C)"
   ]
  },
  {
   "cell_type": "code",
   "execution_count": 17,
   "metadata": {},
   "outputs": [
    {
     "data": {
      "text/plain": [
       "641"
      ]
     },
     "execution_count": 17,
     "metadata": {},
     "output_type": "execute_result"
    }
   ],
   "source": [
    "len(C)"
   ]
  },
  {
   "cell_type": "code",
   "execution_count": 18,
   "metadata": {},
   "outputs": [
    {
     "data": {
      "text/html": [
       "<div>\n",
       "<style scoped>\n",
       "    .dataframe tbody tr th:only-of-type {\n",
       "        vertical-align: middle;\n",
       "    }\n",
       "\n",
       "    .dataframe tbody tr th {\n",
       "        vertical-align: top;\n",
       "    }\n",
       "\n",
       "    .dataframe thead th {\n",
       "        text-align: right;\n",
       "    }\n",
       "</style>\n",
       "<table border=\"1\" class=\"dataframe\">\n",
       "  <thead>\n",
       "    <tr style=\"text-align: right;\">\n",
       "      <th></th>\n",
       "      <th>SpectrumID</th>\n",
       "      <th>Organization</th>\n",
       "      <th>SpectrumType</th>\n",
       "      <th>SpectrumIdentity</th>\n",
       "      <th>JCAMP-DX</th>\n",
       "      <th>DATA TYPE</th>\n",
       "      <th>OtherInformation</th>\n",
       "      <th>OWNER</th>\n",
       "      <th>XUNITS</th>\n",
       "      <th>YUNITS</th>\n",
       "      <th>...</th>\n",
       "      <th>Number of rejected sample scans</th>\n",
       "      <th>Number of rejected background scans</th>\n",
       "      <th>Bench serial number</th>\n",
       "      <th>ZPD</th>\n",
       "      <th>Subtraction or Addition</th>\n",
       "      <th>Baseline Correction</th>\n",
       "      <th>Smooth</th>\n",
       "      <th>%Transmittance-&gt;Absorbance</th>\n",
       "      <th>SampleName</th>\n",
       "      <th>rsq</th>\n",
       "    </tr>\n",
       "  </thead>\n",
       "  <tbody>\n",
       "    <tr>\n",
       "      <th>62</th>\n",
       "      <td>./4.txt</td>\n",
       "      <td>NIST Chem Web Book</td>\n",
       "      <td>FTIR</td>\n",
       "      <td>Nitrocellulose</td>\n",
       "      <td>4.24</td>\n",
       "      <td>INFRARED SPECTRUM</td>\n",
       "      <td>NaN</td>\n",
       "      <td>Public domain</td>\n",
       "      <td>1/cm</td>\n",
       "      <td>NaN</td>\n",
       "      <td>...</td>\n",
       "      <td>NaN</td>\n",
       "      <td>NaN</td>\n",
       "      <td>NaN</td>\n",
       "      <td>NaN</td>\n",
       "      <td>NaN</td>\n",
       "      <td>NaN</td>\n",
       "      <td>NaN</td>\n",
       "      <td>NaN</td>\n",
       "      <td>13805</td>\n",
       "      <td>NaN</td>\n",
       "    </tr>\n",
       "    <tr>\n",
       "      <th>126</th>\n",
       "      <td>HDPESample 1Beauty C</td>\n",
       "      <td>Chabuka et al. 2020</td>\n",
       "      <td>FTIR</td>\n",
       "      <td>HDPE</td>\n",
       "      <td>NaN</td>\n",
       "      <td>NaN</td>\n",
       "      <td>NaN</td>\n",
       "      <td>NaN</td>\n",
       "      <td>NaN</td>\n",
       "      <td>NaN</td>\n",
       "      <td>...</td>\n",
       "      <td>NaN</td>\n",
       "      <td>NaN</td>\n",
       "      <td>NaN</td>\n",
       "      <td>NaN</td>\n",
       "      <td>NaN</td>\n",
       "      <td>NaN</td>\n",
       "      <td>NaN</td>\n",
       "      <td>NaN</td>\n",
       "      <td>13869</td>\n",
       "      <td>NaN</td>\n",
       "    </tr>\n",
       "    <tr>\n",
       "      <th>127</th>\n",
       "      <td>HDPESample 2Beauty C</td>\n",
       "      <td>Chabuka et al. 2020</td>\n",
       "      <td>FTIR</td>\n",
       "      <td>HDPE</td>\n",
       "      <td>NaN</td>\n",
       "      <td>NaN</td>\n",
       "      <td>NaN</td>\n",
       "      <td>NaN</td>\n",
       "      <td>NaN</td>\n",
       "      <td>NaN</td>\n",
       "      <td>...</td>\n",
       "      <td>NaN</td>\n",
       "      <td>NaN</td>\n",
       "      <td>NaN</td>\n",
       "      <td>NaN</td>\n",
       "      <td>NaN</td>\n",
       "      <td>NaN</td>\n",
       "      <td>NaN</td>\n",
       "      <td>NaN</td>\n",
       "      <td>13870</td>\n",
       "      <td>NaN</td>\n",
       "    </tr>\n",
       "    <tr>\n",
       "      <th>128</th>\n",
       "      <td>HDPESample 3Beauty C</td>\n",
       "      <td>Chabuka et al. 2020</td>\n",
       "      <td>FTIR</td>\n",
       "      <td>HDPE</td>\n",
       "      <td>NaN</td>\n",
       "      <td>NaN</td>\n",
       "      <td>NaN</td>\n",
       "      <td>NaN</td>\n",
       "      <td>NaN</td>\n",
       "      <td>NaN</td>\n",
       "      <td>...</td>\n",
       "      <td>NaN</td>\n",
       "      <td>NaN</td>\n",
       "      <td>NaN</td>\n",
       "      <td>NaN</td>\n",
       "      <td>NaN</td>\n",
       "      <td>NaN</td>\n",
       "      <td>NaN</td>\n",
       "      <td>NaN</td>\n",
       "      <td>13871</td>\n",
       "      <td>NaN</td>\n",
       "    </tr>\n",
       "    <tr>\n",
       "      <th>129</th>\n",
       "      <td>HDPESample 4Beauty C</td>\n",
       "      <td>Chabuka et al. 2020</td>\n",
       "      <td>FTIR</td>\n",
       "      <td>HDPE</td>\n",
       "      <td>NaN</td>\n",
       "      <td>NaN</td>\n",
       "      <td>NaN</td>\n",
       "      <td>NaN</td>\n",
       "      <td>NaN</td>\n",
       "      <td>NaN</td>\n",
       "      <td>...</td>\n",
       "      <td>NaN</td>\n",
       "      <td>NaN</td>\n",
       "      <td>NaN</td>\n",
       "      <td>NaN</td>\n",
       "      <td>NaN</td>\n",
       "      <td>NaN</td>\n",
       "      <td>NaN</td>\n",
       "      <td>NaN</td>\n",
       "      <td>13872</td>\n",
       "      <td>NaN</td>\n",
       "    </tr>\n",
       "  </tbody>\n",
       "</table>\n",
       "<p>5 rows × 136 columns</p>\n",
       "</div>"
      ],
      "text/plain": [
       "               SpectrumID         Organization SpectrumType SpectrumIdentity  \\\n",
       "62                ./4.txt   NIST Chem Web Book         FTIR   Nitrocellulose   \n",
       "126  HDPESample 1Beauty C  Chabuka et al. 2020         FTIR             HDPE   \n",
       "127  HDPESample 2Beauty C  Chabuka et al. 2020         FTIR             HDPE   \n",
       "128  HDPESample 3Beauty C  Chabuka et al. 2020         FTIR             HDPE   \n",
       "129  HDPESample 4Beauty C  Chabuka et al. 2020         FTIR             HDPE   \n",
       "\n",
       "    JCAMP-DX          DATA TYPE OtherInformation          OWNER XUNITS YUNITS  \\\n",
       "62      4.24  INFRARED SPECTRUM              NaN  Public domain   1/cm    NaN   \n",
       "126      NaN                NaN              NaN            NaN    NaN    NaN   \n",
       "127      NaN                NaN              NaN            NaN    NaN    NaN   \n",
       "128      NaN                NaN              NaN            NaN    NaN    NaN   \n",
       "129      NaN                NaN              NaN            NaN    NaN    NaN   \n",
       "\n",
       "     ...  Number of rejected sample scans  \\\n",
       "62   ...                              NaN   \n",
       "126  ...                              NaN   \n",
       "127  ...                              NaN   \n",
       "128  ...                              NaN   \n",
       "129  ...                              NaN   \n",
       "\n",
       "     Number of rejected background scans  Bench serial number  ZPD  \\\n",
       "62                                   NaN                  NaN  NaN   \n",
       "126                                  NaN                  NaN  NaN   \n",
       "127                                  NaN                  NaN  NaN   \n",
       "128                                  NaN                  NaN  NaN   \n",
       "129                                  NaN                  NaN  NaN   \n",
       "\n",
       "     Subtraction or Addition  Baseline Correction  Smooth  \\\n",
       "62                       NaN                  NaN     NaN   \n",
       "126                      NaN                  NaN     NaN   \n",
       "127                      NaN                  NaN     NaN   \n",
       "128                      NaN                  NaN     NaN   \n",
       "129                      NaN                  NaN     NaN   \n",
       "\n",
       "     %Transmittance->Absorbance  SampleName  rsq  \n",
       "62                          NaN       13805  NaN  \n",
       "126                         NaN       13869  NaN  \n",
       "127                         NaN       13870  NaN  \n",
       "128                         NaN       13871  NaN  \n",
       "129                         NaN       13872  NaN  \n",
       "\n",
       "[5 rows x 136 columns]"
      ]
     },
     "execution_count": 18,
     "metadata": {},
     "output_type": "execute_result"
    }
   ],
   "source": [
    "C.head()"
   ]
  },
  {
   "cell_type": "code",
   "execution_count": 19,
   "metadata": {},
   "outputs": [
    {
     "data": {
      "text/plain": [
       "137"
      ]
     },
     "execution_count": 19,
     "metadata": {},
     "output_type": "execute_result"
    }
   ],
   "source": [
    "hdpe_count = C[\"SpectrumIdentity\"].value_counts().get('HDPE', 0)\n",
    "hdpe_count"
   ]
  },
  {
   "cell_type": "code",
   "execution_count": 20,
   "metadata": {},
   "outputs": [
    {
     "data": {
      "text/plain": [
       "(137, 10)"
      ]
     },
     "execution_count": 20,
     "metadata": {},
     "output_type": "execute_result"
    }
   ],
   "source": [
    "HDPE_metadata1 = C[C[\"SpectrumIdentity\"].str.contains(\"high\", case=False)]\n",
    "HDPE_metadata2 = C[C[\"SpectrumIdentity\"].str.contains(\"HDPE\", case=False)]\n",
    "len(HDPE_metadata2), len(HDPE_metadata1)\n"
   ]
  },
  {
   "cell_type": "code",
   "execution_count": 21,
   "metadata": {},
   "outputs": [],
   "source": [
    "HDPE_metadata = pd.concat([HDPE_metadata1, HDPE_metadata2], ignore_index=True)"
   ]
  },
  {
   "cell_type": "code",
   "execution_count": 22,
   "metadata": {},
   "outputs": [
    {
     "data": {
      "text/plain": [
       "array([15102, 15108, 15109, 15110, 15145, 15242, 15293, 15294, 15295,\n",
       "       15336, 13869, 13870, 13871, 13872, 13873, 13874, 13875, 13876,\n",
       "       13877, 13878, 13879, 13880, 13881, 13882, 13883, 13884, 13885,\n",
       "       13886, 13887, 13888, 13889, 13890, 13891, 13892, 13893, 13894,\n",
       "       13895, 13896, 13897, 13898, 13899, 13900, 13901, 13902, 13903,\n",
       "       13904, 13905, 13906, 13907, 13908, 13909, 13910, 13911, 13912,\n",
       "       13913, 13914, 13915, 13916, 13917, 13918, 13919, 13920, 13921,\n",
       "       13922, 13923, 13924, 13925, 13926, 13927, 13928, 13929, 13930,\n",
       "       13931, 13932, 13933, 13934, 13935, 13936, 13937, 13938, 13939,\n",
       "       13940, 13941, 13942, 13943, 13944, 13945, 13946, 13947, 13948,\n",
       "       13949, 13950, 13951, 13952, 13953, 13954, 13955, 13956, 13957,\n",
       "       13958, 13959, 13960, 13961, 13962, 13963, 13964, 13965, 13966,\n",
       "       13967, 13968, 13969, 13970, 13971, 13972, 13973, 13974, 13975,\n",
       "       13976, 13977, 13978, 13979, 13980, 13981, 13982, 13983, 13984,\n",
       "       13985, 13986, 13987, 13988, 13989, 13990, 13991, 13992, 13993,\n",
       "       13994, 13995, 13996, 13997, 13998, 13999, 14000, 14001, 14002,\n",
       "       14003, 14004, 14005])"
      ]
     },
     "execution_count": 22,
     "metadata": {},
     "output_type": "execute_result"
    }
   ],
   "source": [
    "SampleName_HDPE = HDPE_metadata[\"SampleName\"].unique()\n",
    "SampleName_HDPE"
   ]
  },
  {
   "cell_type": "code",
   "execution_count": 23,
   "metadata": {},
   "outputs": [
    {
     "name": "stdout",
     "output_type": "stream",
     "text": [
      "20\n",
      "14\n",
      "13\n"
     ]
    }
   ],
   "source": [
    "substring0 = \"prop\"\n",
    "substring1 = \"poly\"\n",
    "substring2 = \"polypropylene\"\n",
    "substring3 = \"fibre\"\n",
    "substring4 = \"mix\"\n",
    "PP_metadata = C[C[\"SpectrumIdentity\"].str.contains(substring0, case=False)]\n",
    "print(len(PP_metadata))\n",
    "PP_metadata = PP_metadata[PP_metadata[\"SpectrumIdentity\"].str.contains(substring1, case=False)]\n",
    "print(len(PP_metadata))\n",
    "PP_metadata = PP_metadata[PP_metadata[\"SpectrumIdentity\"].str.contains(substring2, case=False)]\n",
    "print(len(PP_metadata))\n"
   ]
  },
  {
   "cell_type": "code",
   "execution_count": 24,
   "metadata": {},
   "outputs": [
    {
     "data": {
      "text/html": [
       "<div>\n",
       "<style scoped>\n",
       "    .dataframe tbody tr th:only-of-type {\n",
       "        vertical-align: middle;\n",
       "    }\n",
       "\n",
       "    .dataframe tbody tr th {\n",
       "        vertical-align: top;\n",
       "    }\n",
       "\n",
       "    .dataframe thead th {\n",
       "        text-align: right;\n",
       "    }\n",
       "</style>\n",
       "<table border=\"1\" class=\"dataframe\">\n",
       "  <thead>\n",
       "    <tr style=\"text-align: right;\">\n",
       "      <th></th>\n",
       "      <th>SpectrumID</th>\n",
       "      <th>Organization</th>\n",
       "      <th>SpectrumType</th>\n",
       "      <th>SpectrumIdentity</th>\n",
       "      <th>JCAMP-DX</th>\n",
       "      <th>DATA TYPE</th>\n",
       "      <th>OtherInformation</th>\n",
       "      <th>OWNER</th>\n",
       "      <th>XUNITS</th>\n",
       "      <th>YUNITS</th>\n",
       "      <th>...</th>\n",
       "      <th>Number of rejected sample scans</th>\n",
       "      <th>Number of rejected background scans</th>\n",
       "      <th>Bench serial number</th>\n",
       "      <th>ZPD</th>\n",
       "      <th>Subtraction or Addition</th>\n",
       "      <th>Baseline Correction</th>\n",
       "      <th>Smooth</th>\n",
       "      <th>%Transmittance-&gt;Absorbance</th>\n",
       "      <th>SampleName</th>\n",
       "      <th>rsq</th>\n",
       "    </tr>\n",
       "  </thead>\n",
       "  <tbody>\n",
       "    <tr>\n",
       "      <th>1387</th>\n",
       "      <td>105Primpke</td>\n",
       "      <td>Primpke et al. 2018</td>\n",
       "      <td>FTIR</td>\n",
       "      <td>polypropylene</td>\n",
       "      <td>NaN</td>\n",
       "      <td>NaN</td>\n",
       "      <td>https://doi.org/10.1007/s00216-018-1156-x</td>\n",
       "      <td>NaN</td>\n",
       "      <td>NaN</td>\n",
       "      <td>NaN</td>\n",
       "      <td>...</td>\n",
       "      <td>NaN</td>\n",
       "      <td>NaN</td>\n",
       "      <td>NaN</td>\n",
       "      <td>NaN</td>\n",
       "      <td>NaN</td>\n",
       "      <td>NaN</td>\n",
       "      <td>NaN</td>\n",
       "      <td>NaN</td>\n",
       "      <td>15130</td>\n",
       "      <td>NaN</td>\n",
       "    </tr>\n",
       "    <tr>\n",
       "      <th>1421</th>\n",
       "      <td>139Primpke</td>\n",
       "      <td>Primpke et al. 2018</td>\n",
       "      <td>FTIR</td>\n",
       "      <td>polypropylene</td>\n",
       "      <td>NaN</td>\n",
       "      <td>NaN</td>\n",
       "      <td>https://doi.org/10.1007/s00216-018-1156-x</td>\n",
       "      <td>NaN</td>\n",
       "      <td>NaN</td>\n",
       "      <td>NaN</td>\n",
       "      <td>...</td>\n",
       "      <td>NaN</td>\n",
       "      <td>NaN</td>\n",
       "      <td>NaN</td>\n",
       "      <td>NaN</td>\n",
       "      <td>NaN</td>\n",
       "      <td>NaN</td>\n",
       "      <td>NaN</td>\n",
       "      <td>NaN</td>\n",
       "      <td>15164</td>\n",
       "      <td>NaN</td>\n",
       "    </tr>\n",
       "    <tr>\n",
       "      <th>1504</th>\n",
       "      <td>222Primpke</td>\n",
       "      <td>Primpke et al. 2018</td>\n",
       "      <td>FTIR</td>\n",
       "      <td>fibre polypropylene</td>\n",
       "      <td>NaN</td>\n",
       "      <td>NaN</td>\n",
       "      <td>https://doi.org/10.1007/s00216-018-1156-x</td>\n",
       "      <td>NaN</td>\n",
       "      <td>NaN</td>\n",
       "      <td>NaN</td>\n",
       "      <td>...</td>\n",
       "      <td>NaN</td>\n",
       "      <td>NaN</td>\n",
       "      <td>NaN</td>\n",
       "      <td>NaN</td>\n",
       "      <td>NaN</td>\n",
       "      <td>NaN</td>\n",
       "      <td>NaN</td>\n",
       "      <td>NaN</td>\n",
       "      <td>15247</td>\n",
       "      <td>NaN</td>\n",
       "    </tr>\n",
       "    <tr>\n",
       "      <th>1505</th>\n",
       "      <td>223Primpke</td>\n",
       "      <td>Primpke et al. 2018</td>\n",
       "      <td>FTIR</td>\n",
       "      <td>fibre polypropylene dyed</td>\n",
       "      <td>NaN</td>\n",
       "      <td>NaN</td>\n",
       "      <td>https://doi.org/10.1007/s00216-018-1156-x</td>\n",
       "      <td>NaN</td>\n",
       "      <td>NaN</td>\n",
       "      <td>NaN</td>\n",
       "      <td>...</td>\n",
       "      <td>NaN</td>\n",
       "      <td>NaN</td>\n",
       "      <td>NaN</td>\n",
       "      <td>NaN</td>\n",
       "      <td>NaN</td>\n",
       "      <td>NaN</td>\n",
       "      <td>NaN</td>\n",
       "      <td>NaN</td>\n",
       "      <td>15248</td>\n",
       "      <td>NaN</td>\n",
       "    </tr>\n",
       "    <tr>\n",
       "      <th>1506</th>\n",
       "      <td>224Primpke</td>\n",
       "      <td>Primpke et al. 2018</td>\n",
       "      <td>FTIR</td>\n",
       "      <td>polypropylene isotactic</td>\n",
       "      <td>NaN</td>\n",
       "      <td>NaN</td>\n",
       "      <td>https://doi.org/10.1007/s00216-018-1156-x</td>\n",
       "      <td>NaN</td>\n",
       "      <td>NaN</td>\n",
       "      <td>NaN</td>\n",
       "      <td>...</td>\n",
       "      <td>NaN</td>\n",
       "      <td>NaN</td>\n",
       "      <td>NaN</td>\n",
       "      <td>NaN</td>\n",
       "      <td>NaN</td>\n",
       "      <td>NaN</td>\n",
       "      <td>NaN</td>\n",
       "      <td>NaN</td>\n",
       "      <td>15249</td>\n",
       "      <td>NaN</td>\n",
       "    </tr>\n",
       "    <tr>\n",
       "      <th>1507</th>\n",
       "      <td>225Primpke</td>\n",
       "      <td>Primpke et al. 2018</td>\n",
       "      <td>FTIR</td>\n",
       "      <td>polypropylene</td>\n",
       "      <td>NaN</td>\n",
       "      <td>NaN</td>\n",
       "      <td>https://doi.org/10.1007/s00216-018-1156-x</td>\n",
       "      <td>NaN</td>\n",
       "      <td>NaN</td>\n",
       "      <td>NaN</td>\n",
       "      <td>...</td>\n",
       "      <td>NaN</td>\n",
       "      <td>NaN</td>\n",
       "      <td>NaN</td>\n",
       "      <td>NaN</td>\n",
       "      <td>NaN</td>\n",
       "      <td>NaN</td>\n",
       "      <td>NaN</td>\n",
       "      <td>NaN</td>\n",
       "      <td>15250</td>\n",
       "      <td>NaN</td>\n",
       "    </tr>\n",
       "    <tr>\n",
       "      <th>1522</th>\n",
       "      <td>240Primpke</td>\n",
       "      <td>Primpke et al. 2018</td>\n",
       "      <td>FTIR</td>\n",
       "      <td>polypropylene</td>\n",
       "      <td>NaN</td>\n",
       "      <td>NaN</td>\n",
       "      <td>https://doi.org/10.1007/s00216-018-1156-x</td>\n",
       "      <td>NaN</td>\n",
       "      <td>NaN</td>\n",
       "      <td>NaN</td>\n",
       "      <td>...</td>\n",
       "      <td>NaN</td>\n",
       "      <td>NaN</td>\n",
       "      <td>NaN</td>\n",
       "      <td>NaN</td>\n",
       "      <td>NaN</td>\n",
       "      <td>NaN</td>\n",
       "      <td>NaN</td>\n",
       "      <td>NaN</td>\n",
       "      <td>15265</td>\n",
       "      <td>NaN</td>\n",
       "    </tr>\n",
       "    <tr>\n",
       "      <th>1523</th>\n",
       "      <td>241Primpke</td>\n",
       "      <td>Primpke et al. 2018</td>\n",
       "      <td>FTIR</td>\n",
       "      <td>polypropylene</td>\n",
       "      <td>NaN</td>\n",
       "      <td>NaN</td>\n",
       "      <td>https://doi.org/10.1007/s00216-018-1156-x</td>\n",
       "      <td>NaN</td>\n",
       "      <td>NaN</td>\n",
       "      <td>NaN</td>\n",
       "      <td>...</td>\n",
       "      <td>NaN</td>\n",
       "      <td>NaN</td>\n",
       "      <td>NaN</td>\n",
       "      <td>NaN</td>\n",
       "      <td>NaN</td>\n",
       "      <td>NaN</td>\n",
       "      <td>NaN</td>\n",
       "      <td>NaN</td>\n",
       "      <td>15266</td>\n",
       "      <td>NaN</td>\n",
       "    </tr>\n",
       "    <tr>\n",
       "      <th>1524</th>\n",
       "      <td>242Primpke</td>\n",
       "      <td>Primpke et al. 2018</td>\n",
       "      <td>FTIR</td>\n",
       "      <td>polypropylene</td>\n",
       "      <td>NaN</td>\n",
       "      <td>NaN</td>\n",
       "      <td>https://doi.org/10.1007/s00216-018-1156-x</td>\n",
       "      <td>NaN</td>\n",
       "      <td>NaN</td>\n",
       "      <td>NaN</td>\n",
       "      <td>...</td>\n",
       "      <td>NaN</td>\n",
       "      <td>NaN</td>\n",
       "      <td>NaN</td>\n",
       "      <td>NaN</td>\n",
       "      <td>NaN</td>\n",
       "      <td>NaN</td>\n",
       "      <td>NaN</td>\n",
       "      <td>NaN</td>\n",
       "      <td>15267</td>\n",
       "      <td>NaN</td>\n",
       "    </tr>\n",
       "    <tr>\n",
       "      <th>1525</th>\n",
       "      <td>243Primpke</td>\n",
       "      <td>Primpke et al. 2018</td>\n",
       "      <td>FTIR</td>\n",
       "      <td>polypropylene</td>\n",
       "      <td>NaN</td>\n",
       "      <td>NaN</td>\n",
       "      <td>https://doi.org/10.1007/s00216-018-1156-x</td>\n",
       "      <td>NaN</td>\n",
       "      <td>NaN</td>\n",
       "      <td>NaN</td>\n",
       "      <td>...</td>\n",
       "      <td>NaN</td>\n",
       "      <td>NaN</td>\n",
       "      <td>NaN</td>\n",
       "      <td>NaN</td>\n",
       "      <td>NaN</td>\n",
       "      <td>NaN</td>\n",
       "      <td>NaN</td>\n",
       "      <td>NaN</td>\n",
       "      <td>15268</td>\n",
       "      <td>NaN</td>\n",
       "    </tr>\n",
       "    <tr>\n",
       "      <th>1527</th>\n",
       "      <td>245Primpke</td>\n",
       "      <td>Primpke et al. 2018</td>\n",
       "      <td>FTIR</td>\n",
       "      <td>polypropylene</td>\n",
       "      <td>NaN</td>\n",
       "      <td>NaN</td>\n",
       "      <td>https://doi.org/10.1007/s00216-018-1156-x</td>\n",
       "      <td>NaN</td>\n",
       "      <td>NaN</td>\n",
       "      <td>NaN</td>\n",
       "      <td>...</td>\n",
       "      <td>NaN</td>\n",
       "      <td>NaN</td>\n",
       "      <td>NaN</td>\n",
       "      <td>NaN</td>\n",
       "      <td>NaN</td>\n",
       "      <td>NaN</td>\n",
       "      <td>NaN</td>\n",
       "      <td>NaN</td>\n",
       "      <td>15270</td>\n",
       "      <td>NaN</td>\n",
       "    </tr>\n",
       "    <tr>\n",
       "      <th>1599</th>\n",
       "      <td>317Primpke</td>\n",
       "      <td>Primpke et al. 2018</td>\n",
       "      <td>FTIR</td>\n",
       "      <td>polypropylene</td>\n",
       "      <td>NaN</td>\n",
       "      <td>NaN</td>\n",
       "      <td>https://doi.org/10.1007/s00216-018-1156-x</td>\n",
       "      <td>NaN</td>\n",
       "      <td>NaN</td>\n",
       "      <td>NaN</td>\n",
       "      <td>...</td>\n",
       "      <td>NaN</td>\n",
       "      <td>NaN</td>\n",
       "      <td>NaN</td>\n",
       "      <td>NaN</td>\n",
       "      <td>NaN</td>\n",
       "      <td>NaN</td>\n",
       "      <td>NaN</td>\n",
       "      <td>NaN</td>\n",
       "      <td>15342</td>\n",
       "      <td>NaN</td>\n",
       "    </tr>\n",
       "    <tr>\n",
       "      <th>1612</th>\n",
       "      <td>13 suja</td>\n",
       "      <td>Suja Sukumaran, Thermo Fisher Scientific</td>\n",
       "      <td>FTIR</td>\n",
       "      <td>Polypropylene  with silicate mix</td>\n",
       "      <td>NaN</td>\n",
       "      <td>NaN</td>\n",
       "      <td>Omnic Correlation: NA</td>\n",
       "      <td>NaN</td>\n",
       "      <td>NaN</td>\n",
       "      <td>NaN</td>\n",
       "      <td>...</td>\n",
       "      <td>NaN</td>\n",
       "      <td>NaN</td>\n",
       "      <td>NaN</td>\n",
       "      <td>NaN</td>\n",
       "      <td>NaN</td>\n",
       "      <td>NaN</td>\n",
       "      <td>NaN</td>\n",
       "      <td>NaN</td>\n",
       "      <td>15355</td>\n",
       "      <td>NaN</td>\n",
       "    </tr>\n",
       "  </tbody>\n",
       "</table>\n",
       "<p>13 rows × 136 columns</p>\n",
       "</div>"
      ],
      "text/plain": [
       "      SpectrumID                              Organization SpectrumType  \\\n",
       "1387  105Primpke                       Primpke et al. 2018         FTIR   \n",
       "1421  139Primpke                       Primpke et al. 2018         FTIR   \n",
       "1504  222Primpke                       Primpke et al. 2018         FTIR   \n",
       "1505  223Primpke                       Primpke et al. 2018         FTIR   \n",
       "1506  224Primpke                       Primpke et al. 2018         FTIR   \n",
       "1507  225Primpke                       Primpke et al. 2018         FTIR   \n",
       "1522  240Primpke                       Primpke et al. 2018         FTIR   \n",
       "1523  241Primpke                       Primpke et al. 2018         FTIR   \n",
       "1524  242Primpke                       Primpke et al. 2018         FTIR   \n",
       "1525  243Primpke                       Primpke et al. 2018         FTIR   \n",
       "1527  245Primpke                       Primpke et al. 2018         FTIR   \n",
       "1599  317Primpke                       Primpke et al. 2018         FTIR   \n",
       "1612     13 suja  Suja Sukumaran, Thermo Fisher Scientific         FTIR   \n",
       "\n",
       "                      SpectrumIdentity JCAMP-DX DATA TYPE  \\\n",
       "1387                     polypropylene      NaN       NaN   \n",
       "1421                     polypropylene      NaN       NaN   \n",
       "1504               fibre polypropylene      NaN       NaN   \n",
       "1505          fibre polypropylene dyed      NaN       NaN   \n",
       "1506           polypropylene isotactic      NaN       NaN   \n",
       "1507                     polypropylene      NaN       NaN   \n",
       "1522                     polypropylene      NaN       NaN   \n",
       "1523                     polypropylene      NaN       NaN   \n",
       "1524                     polypropylene      NaN       NaN   \n",
       "1525                     polypropylene      NaN       NaN   \n",
       "1527                     polypropylene      NaN       NaN   \n",
       "1599                     polypropylene      NaN       NaN   \n",
       "1612  Polypropylene  with silicate mix      NaN       NaN   \n",
       "\n",
       "                               OtherInformation OWNER XUNITS YUNITS  ...  \\\n",
       "1387  https://doi.org/10.1007/s00216-018-1156-x   NaN    NaN    NaN  ...   \n",
       "1421  https://doi.org/10.1007/s00216-018-1156-x   NaN    NaN    NaN  ...   \n",
       "1504  https://doi.org/10.1007/s00216-018-1156-x   NaN    NaN    NaN  ...   \n",
       "1505  https://doi.org/10.1007/s00216-018-1156-x   NaN    NaN    NaN  ...   \n",
       "1506  https://doi.org/10.1007/s00216-018-1156-x   NaN    NaN    NaN  ...   \n",
       "1507  https://doi.org/10.1007/s00216-018-1156-x   NaN    NaN    NaN  ...   \n",
       "1522  https://doi.org/10.1007/s00216-018-1156-x   NaN    NaN    NaN  ...   \n",
       "1523  https://doi.org/10.1007/s00216-018-1156-x   NaN    NaN    NaN  ...   \n",
       "1524  https://doi.org/10.1007/s00216-018-1156-x   NaN    NaN    NaN  ...   \n",
       "1525  https://doi.org/10.1007/s00216-018-1156-x   NaN    NaN    NaN  ...   \n",
       "1527  https://doi.org/10.1007/s00216-018-1156-x   NaN    NaN    NaN  ...   \n",
       "1599  https://doi.org/10.1007/s00216-018-1156-x   NaN    NaN    NaN  ...   \n",
       "1612                      Omnic Correlation: NA   NaN    NaN    NaN  ...   \n",
       "\n",
       "      Number of rejected sample scans  Number of rejected background scans  \\\n",
       "1387                              NaN                                  NaN   \n",
       "1421                              NaN                                  NaN   \n",
       "1504                              NaN                                  NaN   \n",
       "1505                              NaN                                  NaN   \n",
       "1506                              NaN                                  NaN   \n",
       "1507                              NaN                                  NaN   \n",
       "1522                              NaN                                  NaN   \n",
       "1523                              NaN                                  NaN   \n",
       "1524                              NaN                                  NaN   \n",
       "1525                              NaN                                  NaN   \n",
       "1527                              NaN                                  NaN   \n",
       "1599                              NaN                                  NaN   \n",
       "1612                              NaN                                  NaN   \n",
       "\n",
       "      Bench serial number  ZPD  Subtraction or Addition  Baseline Correction  \\\n",
       "1387                  NaN  NaN                      NaN                  NaN   \n",
       "1421                  NaN  NaN                      NaN                  NaN   \n",
       "1504                  NaN  NaN                      NaN                  NaN   \n",
       "1505                  NaN  NaN                      NaN                  NaN   \n",
       "1506                  NaN  NaN                      NaN                  NaN   \n",
       "1507                  NaN  NaN                      NaN                  NaN   \n",
       "1522                  NaN  NaN                      NaN                  NaN   \n",
       "1523                  NaN  NaN                      NaN                  NaN   \n",
       "1524                  NaN  NaN                      NaN                  NaN   \n",
       "1525                  NaN  NaN                      NaN                  NaN   \n",
       "1527                  NaN  NaN                      NaN                  NaN   \n",
       "1599                  NaN  NaN                      NaN                  NaN   \n",
       "1612                  NaN  NaN                      NaN                  NaN   \n",
       "\n",
       "      Smooth  %Transmittance->Absorbance  SampleName  rsq  \n",
       "1387     NaN                         NaN       15130  NaN  \n",
       "1421     NaN                         NaN       15164  NaN  \n",
       "1504     NaN                         NaN       15247  NaN  \n",
       "1505     NaN                         NaN       15248  NaN  \n",
       "1506     NaN                         NaN       15249  NaN  \n",
       "1507     NaN                         NaN       15250  NaN  \n",
       "1522     NaN                         NaN       15265  NaN  \n",
       "1523     NaN                         NaN       15266  NaN  \n",
       "1524     NaN                         NaN       15267  NaN  \n",
       "1525     NaN                         NaN       15268  NaN  \n",
       "1527     NaN                         NaN       15270  NaN  \n",
       "1599     NaN                         NaN       15342  NaN  \n",
       "1612     NaN                         NaN       15355  NaN  \n",
       "\n",
       "[13 rows x 136 columns]"
      ]
     },
     "execution_count": 24,
     "metadata": {},
     "output_type": "execute_result"
    }
   ],
   "source": [
    "PP_metadata"
   ]
  },
  {
   "cell_type": "code",
   "execution_count": 25,
   "metadata": {},
   "outputs": [
    {
     "name": "stdout",
     "output_type": "stream",
     "text": [
      "11\n",
      "10\n"
     ]
    }
   ],
   "source": [
    "PP_metadata = PP_metadata[PP_metadata[\"SpectrumIdentity\"].str.contains(substring3, case=False)==False]\n",
    "print(len(PP_metadata))\n",
    "PP_metadata = PP_metadata[PP_metadata[\"SpectrumIdentity\"].str.contains(substring4, case=False)==False]\n",
    "print(len(PP_metadata))"
   ]
  },
  {
   "cell_type": "code",
   "execution_count": 26,
   "metadata": {},
   "outputs": [],
   "source": [
    "SampleName_PP = PP_metadata[\"SampleName\"].unique()"
   ]
  },
  {
   "cell_type": "code",
   "execution_count": 27,
   "metadata": {},
   "outputs": [
    {
     "data": {
      "text/plain": [
       "array([15130, 15164, 15249, 15250, 15265, 15266, 15267, 15268, 15270,\n",
       "       15342])"
      ]
     },
     "execution_count": 27,
     "metadata": {},
     "output_type": "execute_result"
    }
   ],
   "source": [
    "SampleName_PP"
   ]
  },
  {
   "cell_type": "code",
   "execution_count": 28,
   "metadata": {},
   "outputs": [
    {
     "name": "stdout",
     "output_type": "stream",
     "text": [
      "13\n"
     ]
    }
   ],
   "source": [
    "PET_metadata = C[C[\"SpectrumIdentity\"].str.contains(\"tere\", case=False)]\n",
    "print(len(PET_metadata))"
   ]
  },
  {
   "cell_type": "code",
   "execution_count": 29,
   "metadata": {},
   "outputs": [
    {
     "data": {
      "text/plain": [
       "6"
      ]
     },
     "execution_count": 29,
     "metadata": {},
     "output_type": "execute_result"
    }
   ],
   "source": [
    "PET_metadata1 = PET_metadata[PET_metadata[\"SpectrumIdentity\"].str.contains(\"ehylene\", case=False)]\n",
    "len(PET_metadata1)"
   ]
  },
  {
   "cell_type": "code",
   "execution_count": 30,
   "metadata": {},
   "outputs": [
    {
     "data": {
      "text/plain": [
       "4"
      ]
     },
     "execution_count": 30,
     "metadata": {},
     "output_type": "execute_result"
    }
   ],
   "source": [
    "PET_metadata2 = PET_metadata[PET_metadata[\"SpectrumIdentity\"].str.contains(\"ethylene\", case=False)]\n",
    "len(PET_metadata2)"
   ]
  },
  {
   "cell_type": "code",
   "execution_count": 31,
   "metadata": {},
   "outputs": [
    {
     "data": {
      "text/plain": [
       "136"
      ]
     },
     "execution_count": 31,
     "metadata": {},
     "output_type": "execute_result"
    }
   ],
   "source": [
    "PET_metadata3 = C[C[\"SpectrumIdentity\"].str.contains(\"PET\", case=False)]\n",
    "len(PET_metadata3)"
   ]
  },
  {
   "cell_type": "code",
   "execution_count": 32,
   "metadata": {},
   "outputs": [
    {
     "data": {
      "text/plain": [
       "146"
      ]
     },
     "execution_count": 32,
     "metadata": {},
     "output_type": "execute_result"
    }
   ],
   "source": [
    "PET_metadata = pd.concat([PET_metadata1, PET_metadata2, PET_metadata3], ignore_index=True)\n",
    "len(PET_metadata)"
   ]
  },
  {
   "cell_type": "code",
   "execution_count": 33,
   "metadata": {},
   "outputs": [
    {
     "data": {
      "text/plain": [
       "array([15120, 15121, 15157, 15190, 15191, 15192, 15207, 15245, 15340,\n",
       "       15368, 14006, 14007, 14008, 14009, 14010, 14011, 14012, 14013,\n",
       "       14014, 14015, 14016, 14017, 14018, 14019, 14020, 14021, 14022,\n",
       "       14023, 14024, 14025, 14026, 14027, 14028, 14029, 14030, 14031,\n",
       "       14032, 14033, 14034, 14035, 14036, 14037, 14038, 14039, 14040,\n",
       "       14041, 14042, 14043, 14044, 14045, 14046, 14047, 14048, 14049,\n",
       "       14050, 14051, 14052, 14053, 14054, 14055, 14056, 14057, 14058,\n",
       "       14059, 14060, 14061, 14062, 14063, 14064, 14065, 14066, 14067,\n",
       "       14068, 14069, 14070, 14071, 14072, 14073, 14074, 14075, 14076,\n",
       "       14077, 14078, 14079, 14080, 14081, 14082, 14083, 14084, 14085,\n",
       "       14086, 14087, 14088, 14089, 14090, 14091, 14092, 14093, 14094,\n",
       "       14095, 14096, 14097, 14098, 14099, 14100, 14101, 14102, 14103,\n",
       "       14104, 14105, 14106, 14107, 14108, 14109, 14110, 14111, 14112,\n",
       "       14113, 14114, 14115, 14116, 14117, 14118, 14119, 14120, 14121,\n",
       "       14122, 14123, 14124, 14125, 14126, 14127, 14128, 14129, 14130,\n",
       "       14131, 14132, 14133, 14134, 14135, 14136, 14137, 14138, 14139,\n",
       "       14140, 15369])"
      ]
     },
     "execution_count": 33,
     "metadata": {},
     "output_type": "execute_result"
    }
   ],
   "source": [
    "SampleName_PET = PET_metadata[\"SampleName\"].unique()\n",
    "SampleName_PET"
   ]
  },
  {
   "cell_type": "code",
   "execution_count": 34,
   "metadata": {},
   "outputs": [
    {
     "data": {
      "text/plain": [
       "12"
      ]
     },
     "execution_count": 34,
     "metadata": {},
     "output_type": "execute_result"
    }
   ],
   "source": [
    "substring0 = \"poly\"\n",
    "substring1 = \"Poly\"\n",
    "substring2 = \"low\"\n",
    "substring3 = \"ethylene\"\n",
    "LDPE_metadata = C[C[\"SpectrumIdentity\"].str.contains(substring0, case=False)]\n",
    "len(LDPE_metadata)\n",
    "LDPE_metadata = LDPE_metadata[LDPE_metadata[\"SpectrumIdentity\"].str.contains(substring1, case=False)]\n",
    "len(LDPE_metadata)\n",
    "LDPE_metadata = LDPE_metadata[LDPE_metadata[\"SpectrumIdentity\"].str.contains(substring2, case=False)]\n",
    "len(LDPE_metadata)\n",
    "LDPE_metadata = LDPE_metadata[LDPE_metadata[\"SpectrumIdentity\"].str.contains(substring3, case=False)]\n",
    "len(LDPE_metadata)"
   ]
  },
  {
   "cell_type": "code",
   "execution_count": 35,
   "metadata": {},
   "outputs": [
    {
     "data": {
      "text/plain": [
       "array([15137, 15138, 15139, 15140, 15141, 15144, 15237, 15243, 15287,\n",
       "       15289, 15290, 15337])"
      ]
     },
     "execution_count": 35,
     "metadata": {},
     "output_type": "execute_result"
    }
   ],
   "source": [
    "SampleName_LDPE = LDPE_metadata[\"SampleName\"].unique()\n",
    "SampleName_LDPE"
   ]
  },
  {
   "cell_type": "code",
   "execution_count": null,
   "metadata": {},
   "outputs": [],
   "source": []
  },
  {
   "cell_type": "code",
   "execution_count": null,
   "metadata": {},
   "outputs": [],
   "source": []
  },
  {
   "attachments": {},
   "cell_type": "markdown",
   "metadata": {},
   "source": [
    "# Check RAW data"
   ]
  },
  {
   "cell_type": "code",
   "execution_count": null,
   "metadata": {},
   "outputs": [],
   "source": []
  },
  {
   "cell_type": "code",
   "execution_count": 36,
   "metadata": {},
   "outputs": [],
   "source": [
    "import pyreadr"
   ]
  },
  {
   "cell_type": "code",
   "execution_count": 37,
   "metadata": {},
   "outputs": [
    {
     "data": {
      "text/plain": [
       "collections.OrderedDict"
      ]
     },
     "execution_count": 37,
     "metadata": {},
     "output_type": "execute_result"
    }
   ],
   "source": [
    "metadata2 = pyreadr.read_r(\"data/open_specy/web/ftir_library_raw.RData\")\n",
    "type(metadata2)"
   ]
  },
  {
   "cell_type": "code",
   "execution_count": 38,
   "metadata": {},
   "outputs": [
    {
     "data": {
      "text/plain": [
       "odict_keys(['cleanftirspectradatafile'])"
      ]
     },
     "execution_count": 38,
     "metadata": {},
     "output_type": "execute_result"
    }
   ],
   "source": [
    "metadata2.keys()"
   ]
  },
  {
   "cell_type": "code",
   "execution_count": 39,
   "metadata": {},
   "outputs": [
    {
     "data": {
      "text/plain": [
       "<bound method NDFrame.head of           Wavelength  Intensity Polymer  SampleName  group\n",
       "0         600.884020   0.040182     NaN       13743  13743\n",
       "1         601.848521   0.040197     NaN       13743  13743\n",
       "2         602.813022   0.040058     NaN       13743  13743\n",
       "3         603.777523   0.039872     NaN       13743  13743\n",
       "4         604.742023   0.039714     NaN       13743  13743\n",
       "...              ...        ...     ...         ...    ...\n",
       "8210878  3992.094402   0.997480     NaN       17848  17848\n",
       "8210879  3994.022950   0.997418     NaN       17848  17848\n",
       "8210880  3995.951498   0.997323     NaN       17848  17848\n",
       "8210881  3997.880046   0.997274     NaN       17848  17848\n",
       "8210882  3999.808594   0.997164     NaN       17848  17848\n",
       "\n",
       "[8210883 rows x 5 columns]>"
      ]
     },
     "execution_count": 39,
     "metadata": {},
     "output_type": "execute_result"
    }
   ],
   "source": [
    "metadata2 = metadata2[\"cleanftirspectradatafile\"]\n",
    "metadata2.head"
   ]
  },
  {
   "cell_type": "code",
   "execution_count": 40,
   "metadata": {},
   "outputs": [
    {
     "data": {
      "text/plain": [
       "8210883"
      ]
     },
     "execution_count": 40,
     "metadata": {},
     "output_type": "execute_result"
    }
   ],
   "source": [
    "len(metadata2)"
   ]
  },
  {
   "cell_type": "code",
   "execution_count": 41,
   "metadata": {},
   "outputs": [
    {
     "data": {
      "text/plain": [
       "4106"
      ]
     },
     "execution_count": 41,
     "metadata": {},
     "output_type": "execute_result"
    }
   ],
   "source": [
    "len(metadata2[\"SampleName\"].unique())"
   ]
  },
  {
   "cell_type": "code",
   "execution_count": 42,
   "metadata": {},
   "outputs": [
    {
     "data": {
      "text/plain": [
       "4106"
      ]
     },
     "execution_count": 42,
     "metadata": {},
     "output_type": "execute_result"
    }
   ],
   "source": [
    "len(metadata2[\"group\"].unique())"
   ]
  },
  {
   "cell_type": "code",
   "execution_count": 43,
   "metadata": {},
   "outputs": [
    {
     "name": "stdout",
     "output_type": "stream",
     "text": [
      "<class 'pandas.core.groupby.generic.DataFrameGroupBy'>\n",
      "4106\n"
     ]
    }
   ],
   "source": [
    "data = metadata2.groupby(\"group\")\n",
    "print(type(data))\n",
    "print(len(data))"
   ]
  },
  {
   "cell_type": "code",
   "execution_count": 44,
   "metadata": {},
   "outputs": [
    {
     "data": {
      "text/plain": [
       "13870"
      ]
     },
     "execution_count": 44,
     "metadata": {},
     "output_type": "execute_result"
    }
   ],
   "source": [
    "list(data.groups.keys())[127]"
   ]
  },
  {
   "cell_type": "code",
   "execution_count": null,
   "metadata": {},
   "outputs": [],
   "source": []
  },
  {
   "cell_type": "code",
   "execution_count": 45,
   "metadata": {},
   "outputs": [],
   "source": [
    "data_13870 = data.get_group(13870)"
   ]
  },
  {
   "cell_type": "code",
   "execution_count": 46,
   "metadata": {},
   "outputs": [
    {
     "data": {
      "text/html": [
       "<div>\n",
       "<style scoped>\n",
       "    .dataframe tbody tr th:only-of-type {\n",
       "        vertical-align: middle;\n",
       "    }\n",
       "\n",
       "    .dataframe tbody tr th {\n",
       "        vertical-align: top;\n",
       "    }\n",
       "\n",
       "    .dataframe thead th {\n",
       "        text-align: right;\n",
       "    }\n",
       "</style>\n",
       "<table border=\"1\" class=\"dataframe\">\n",
       "  <thead>\n",
       "    <tr style=\"text-align: right;\">\n",
       "      <th></th>\n",
       "      <th>Wavelength</th>\n",
       "      <th>Intensity</th>\n",
       "      <th>Polymer</th>\n",
       "      <th>SampleName</th>\n",
       "      <th>group</th>\n",
       "    </tr>\n",
       "  </thead>\n",
       "  <tbody>\n",
       "    <tr>\n",
       "      <th>902530</th>\n",
       "      <td>667.2604</td>\n",
       "      <td>74.603097</td>\n",
       "      <td>HDPE</td>\n",
       "      <td>13870</td>\n",
       "      <td>13870</td>\n",
       "    </tr>\n",
       "    <tr>\n",
       "      <th>902531</th>\n",
       "      <td>669.1890</td>\n",
       "      <td>74.773173</td>\n",
       "      <td>HDPE</td>\n",
       "      <td>13870</td>\n",
       "      <td>13870</td>\n",
       "    </tr>\n",
       "    <tr>\n",
       "      <th>902532</th>\n",
       "      <td>671.1174</td>\n",
       "      <td>75.186037</td>\n",
       "      <td>HDPE</td>\n",
       "      <td>13870</td>\n",
       "      <td>13870</td>\n",
       "    </tr>\n",
       "    <tr>\n",
       "      <th>902533</th>\n",
       "      <td>673.0460</td>\n",
       "      <td>75.364227</td>\n",
       "      <td>HDPE</td>\n",
       "      <td>13870</td>\n",
       "      <td>13870</td>\n",
       "    </tr>\n",
       "    <tr>\n",
       "      <th>902534</th>\n",
       "      <td>674.9745</td>\n",
       "      <td>75.103837</td>\n",
       "      <td>HDPE</td>\n",
       "      <td>13870</td>\n",
       "      <td>13870</td>\n",
       "    </tr>\n",
       "  </tbody>\n",
       "</table>\n",
       "</div>"
      ],
      "text/plain": [
       "        Wavelength  Intensity Polymer  SampleName  group\n",
       "902530    667.2604  74.603097    HDPE       13870  13870\n",
       "902531    669.1890  74.773173    HDPE       13870  13870\n",
       "902532    671.1174  75.186037    HDPE       13870  13870\n",
       "902533    673.0460  75.364227    HDPE       13870  13870\n",
       "902534    674.9745  75.103837    HDPE       13870  13870"
      ]
     },
     "execution_count": 46,
     "metadata": {},
     "output_type": "execute_result"
    }
   ],
   "source": [
    "data_13870.head()"
   ]
  },
  {
   "cell_type": "code",
   "execution_count": 47,
   "metadata": {},
   "outputs": [
    {
     "data": {
      "image/png": "[encoded data removed]",
      "text/plain": [
       "<Figure size 640x480 with 1 Axes>"
      ]
     },
     "metadata": {},
     "output_type": "display_data"
    }
   ],
   "source": [
    "import matplotlib.pyplot as plt\n",
    "data_13870.plot(x='Wavelength', y='Intensity', kind='line')\n",
    "plt.xlabel('Wavelength')\n",
    "plt.ylabel('Intensity')\n",
    "plt.title('Intensity vs. Wavelength')\n",
    "plt.show()"
   ]
  },
  {
   "attachments": {},
   "cell_type": "markdown",
   "metadata": {},
   "source": [
    "## Next few cell take minutes to run"
   ]
  },
  {
   "cell_type": "code",
   "execution_count": 49,
   "metadata": {},
   "outputs": [],
   "source": [
    "count=0\n",
    "import numpy as np\n",
    "wave_data = data_13870['Wavelength'].values\n",
    "intensity_data = data_13870['Intensity'].values\n",
    "\n",
    "# Create a 2D array with the first row as \"wave\" values and the second row as \"Intensity\" values\n",
    "array_data = np.array([wave_data, intensity_data])\n",
    "\n",
    "# Transpose the array to have shape (2, rows)\n",
    "array_data = array_data.T\n",
    "    # with open(f\"data/open_specy/web/csv_created/LDPE{count}.csv\", 'w') as f:\n",
    "    #     for group_name, group_df in data:\n",
    "    #         f.write(f\"{group_name}\\n\")\n",
    "    #         group_df[['Wavelength', 'Intensity']].to_csv(f, index=False, header=False)\n",
    "    #         f.write(\"\\n\")\n",
    "#     data_LDPE_csv = data[['Wavelength', 'Intensity']].apply(lambda x: x.reset_index(drop=True))\n",
    "#     data_LDPE_csv.to_csv(f\"data/open_specy/web/csv_created/LDPE{count}.csv\", index=False)"
   ]
  },
  {
   "cell_type": "code",
   "execution_count": 50,
   "metadata": {},
   "outputs": [
    {
     "data": {
      "text/plain": [
       "(1300, 2)"
      ]
     },
     "execution_count": 50,
     "metadata": {},
     "output_type": "execute_result"
    }
   ],
   "source": [
    "array_data.shape"
   ]
  },
  {
   "cell_type": "code",
   "execution_count": 51,
   "metadata": {},
   "outputs": [],
   "source": [
    "np.savetxt(f\"data/open_specy/web/csv_created/LDPE{count}.csv\", array_data, delimiter=',')"
   ]
  },
  {
   "cell_type": "code",
   "execution_count": 53,
   "metadata": {},
   "outputs": [
    {
     "data": {
      "image/png": "[encoded data removed]",
      "text/plain": [
       "<Figure size 640x480 with 1 Axes>"
      ]
     },
     "metadata": {},
     "output_type": "display_data"
    }
   ],
   "source": [
    "plt.plot(wave_data, intensity_data, linestyle='-')\n",
    "plt.xlabel('Wave')\n",
    "plt.ylabel('Intensity')\n",
    "plt.title('Wave vs. Intensity')\n",
    "plt.grid(True)\n",
    "plt.show()"
   ]
  },
  {
   "cell_type": "code",
   "execution_count": 55,
   "metadata": {},
   "outputs": [
    {
     "name": "stdout",
     "output_type": "stream",
     "text": [
      "1\n",
      "(1863, 2)\n",
      "2\n",
      "(1863, 2)\n",
      "3\n",
      "(1863, 2)\n",
      "4\n",
      "(1863, 2)\n",
      "5\n",
      "(1863, 2)\n",
      "6\n",
      "(1863, 2)\n",
      "7\n",
      "(1863, 2)\n",
      "8\n",
      "(1863, 2)\n",
      "9\n",
      "(1863, 2)\n",
      "10\n",
      "(1863, 2)\n",
      "11\n",
      "(1863, 2)\n",
      "12\n",
      "(1863, 2)\n"
     ]
    }
   ],
   "source": [
    "\n",
    "count=0\n",
    "for i in SampleName_LDPE:\n",
    "    count+=1\n",
    "    print(count)\n",
    "    data_LDPE = data.get_group(i)\n",
    "    wave_data = data_LDPE['Wavelength'].values\n",
    "    intensity_data = data_LDPE['Intensity'].values\n",
    "\n",
    "    # Create a 2D array with the first row as \"wave\" values and the second row as \"Intensity\" values\n",
    "    array_data = np.array([wave_data, intensity_data])\n",
    "\n",
    "    # Transpose the array to have shape (2, rows)\n",
    "    array_data = array_data.T\n",
    "    np.savetxt(f\"data/open_specy/web/csv_created/LDPE{count}.csv\", array_data, delimiter=',')\n",
    "    print(array_data.shape)"
   ]
  },
  {
   "cell_type": "code",
   "execution_count": 56,
   "metadata": {},
   "outputs": [
    {
     "data": {
      "image/png": "[encoded data removed]",
      "text/plain": [
       "<Figure size 640x480 with 1 Axes>"
      ]
     },
     "metadata": {},
     "output_type": "display_data"
    }
   ],
   "source": [
    "plt.plot(wave_data, intensity_data, linestyle='-')\n",
    "plt.xlabel('Wave')\n",
    "plt.ylabel('Intensity')\n",
    "plt.title('Wave vs. Intensity')\n",
    "plt.grid(True)\n",
    "plt.show()"
   ]
  },
  {
   "cell_type": "code",
   "execution_count": 57,
   "metadata": {},
   "outputs": [
    {
     "name": "stdout",
     "output_type": "stream",
     "text": [
      "1\n",
      "(1863, 2)\n",
      "2\n",
      "(1863, 2)\n",
      "3\n",
      "(1863, 2)\n",
      "4\n",
      "(1863, 2)\n",
      "5\n",
      "(1863, 2)\n",
      "6\n",
      "(1863, 2)\n",
      "7\n",
      "(1863, 2)\n",
      "8\n",
      "(1863, 2)\n",
      "9\n",
      "(1863, 2)\n",
      "10\n",
      "(1863, 2)\n",
      "11\n",
      "(1300, 2)\n",
      "12\n",
      "(1300, 2)\n",
      "13\n",
      "(1300, 2)\n",
      "14\n",
      "(1300, 2)\n",
      "15\n",
      "(1300, 2)\n",
      "16\n",
      "(1300, 2)\n",
      "17\n",
      "(1300, 2)\n",
      "18\n",
      "(1300, 2)\n",
      "19\n",
      "(1300, 2)\n",
      "20\n",
      "(1300, 2)\n",
      "21\n",
      "(1300, 2)\n",
      "22\n",
      "(1300, 2)\n",
      "23\n",
      "(1300, 2)\n",
      "24\n",
      "(1300, 2)\n",
      "25\n",
      "(1300, 2)\n",
      "26\n",
      "(1300, 2)\n",
      "27\n",
      "(1300, 2)\n",
      "28\n",
      "(1300, 2)\n",
      "29\n",
      "(1300, 2)\n",
      "30\n",
      "(1300, 2)\n",
      "31\n",
      "(1300, 2)\n",
      "32\n",
      "(1300, 2)\n",
      "33\n",
      "(1300, 2)\n",
      "34\n",
      "(1300, 2)\n",
      "35\n",
      "(1300, 2)\n",
      "36\n",
      "(1300, 2)\n",
      "37\n",
      "(1300, 2)\n",
      "38\n",
      "(1300, 2)\n",
      "39\n",
      "(1300, 2)\n",
      "40\n",
      "(1300, 2)\n",
      "41\n",
      "(1300, 2)\n",
      "42\n",
      "(1300, 2)\n",
      "43\n",
      "(1300, 2)\n",
      "44\n",
      "(1300, 2)\n",
      "45\n",
      "(1300, 2)\n",
      "46\n",
      "(1300, 2)\n",
      "47\n",
      "(1300, 2)\n",
      "48\n",
      "(1300, 2)\n",
      "49\n",
      "(1300, 2)\n",
      "50\n",
      "(1300, 2)\n",
      "51\n",
      "(1300, 2)\n",
      "52\n",
      "(1300, 2)\n",
      "53\n",
      "(1300, 2)\n",
      "54\n",
      "(1300, 2)\n",
      "55\n",
      "(1300, 2)\n",
      "56\n",
      "(1300, 2)\n",
      "57\n",
      "(1300, 2)\n",
      "58\n",
      "(1300, 2)\n",
      "59\n",
      "(1300, 2)\n",
      "60\n",
      "(1300, 2)\n",
      "61\n",
      "(1300, 2)\n",
      "62\n",
      "(1300, 2)\n",
      "63\n",
      "(1300, 2)\n",
      "64\n",
      "(1300, 2)\n",
      "65\n",
      "(1300, 2)\n",
      "66\n",
      "(1300, 2)\n",
      "67\n",
      "(1300, 2)\n",
      "68\n",
      "(1300, 2)\n",
      "69\n",
      "(1300, 2)\n",
      "70\n",
      "(1300, 2)\n",
      "71\n",
      "(1300, 2)\n",
      "72\n",
      "(1300, 2)\n",
      "73\n",
      "(1300, 2)\n",
      "74\n",
      "(1300, 2)\n",
      "75\n",
      "(1300, 2)\n",
      "76\n",
      "(1300, 2)\n",
      "77\n",
      "(1300, 2)\n",
      "78\n",
      "(1300, 2)\n",
      "79\n",
      "(1300, 2)\n",
      "80\n",
      "(1300, 2)\n",
      "81\n",
      "(1300, 2)\n",
      "82\n",
      "(1300, 2)\n",
      "83\n",
      "(1300, 2)\n",
      "84\n",
      "(1300, 2)\n",
      "85\n",
      "(1300, 2)\n",
      "86\n",
      "(1300, 2)\n",
      "87\n",
      "(1300, 2)\n",
      "88\n",
      "(1300, 2)\n",
      "89\n",
      "(1300, 2)\n",
      "90\n",
      "(1300, 2)\n",
      "91\n",
      "(1300, 2)\n",
      "92\n",
      "(1300, 2)\n",
      "93\n",
      "(1300, 2)\n",
      "94\n",
      "(1300, 2)\n",
      "95\n",
      "(1300, 2)\n",
      "96\n",
      "(1300, 2)\n",
      "97\n",
      "(1300, 2)\n",
      "98\n",
      "(1300, 2)\n",
      "99\n",
      "(1300, 2)\n",
      "100\n",
      "(1300, 2)\n",
      "101\n",
      "(1300, 2)\n",
      "102\n",
      "(1300, 2)\n",
      "103\n",
      "(1300, 2)\n",
      "104\n",
      "(1300, 2)\n",
      "105\n",
      "(1300, 2)\n",
      "106\n",
      "(1300, 2)\n",
      "107\n",
      "(1300, 2)\n",
      "108\n",
      "(1300, 2)\n",
      "109\n",
      "(1300, 2)\n",
      "110\n",
      "(1300, 2)\n",
      "111\n",
      "(1300, 2)\n",
      "112\n",
      "(1300, 2)\n",
      "113\n",
      "(1300, 2)\n",
      "114\n",
      "(1300, 2)\n",
      "115\n",
      "(1300, 2)\n",
      "116\n",
      "(1300, 2)\n",
      "117\n",
      "(1300, 2)\n",
      "118\n",
      "(1300, 2)\n",
      "119\n",
      "(1300, 2)\n",
      "120\n",
      "(1300, 2)\n",
      "121\n",
      "(1300, 2)\n",
      "122\n",
      "(1300, 2)\n",
      "123\n",
      "(1300, 2)\n",
      "124\n",
      "(1300, 2)\n",
      "125\n",
      "(1300, 2)\n",
      "126\n",
      "(1300, 2)\n",
      "127\n",
      "(1300, 2)\n",
      "128\n",
      "(1300, 2)\n",
      "129\n",
      "(1300, 2)\n",
      "130\n",
      "(1300, 2)\n",
      "131\n",
      "(1300, 2)\n",
      "132\n",
      "(1300, 2)\n",
      "133\n",
      "(1300, 2)\n",
      "134\n",
      "(1300, 2)\n",
      "135\n",
      "(1300, 2)\n",
      "136\n",
      "(1300, 2)\n",
      "137\n",
      "(1300, 2)\n",
      "138\n",
      "(1300, 2)\n",
      "139\n",
      "(1300, 2)\n",
      "140\n",
      "(1300, 2)\n",
      "141\n",
      "(1300, 2)\n",
      "142\n",
      "(1300, 2)\n",
      "143\n",
      "(1300, 2)\n",
      "144\n",
      "(1300, 2)\n",
      "145\n",
      "(1300, 2)\n",
      "146\n",
      "(1300, 2)\n",
      "147\n",
      "(1300, 2)\n"
     ]
    }
   ],
   "source": [
    "count=0\n",
    "for i in SampleName_HDPE:\n",
    "    count+=1\n",
    "    print(count)\n",
    "    data_HDPE = data.get_group(i)\n",
    "    wave_data = data_HDPE['Wavelength'].values\n",
    "    intensity_data = data_HDPE['Intensity'].values\n",
    "\n",
    "    # Create a 2D array with the first row as \"wave\" values and the second row as \"Intensity\" values\n",
    "    array_data = np.array([wave_data, intensity_data])\n",
    "\n",
    "    # Transpose the array to have shape (2, rows)\n",
    "    array_data = array_data.T\n",
    "    np.savetxt(f\"data/open_specy/web/csv_created/HDPE{count}.csv\", array_data, delimiter=',')\n",
    "    print(array_data.shape)"
   ]
  },
  {
   "cell_type": "code",
   "execution_count": 58,
   "metadata": {},
   "outputs": [
    {
     "data": {
      "image/png": "[encoded data removed]",
      "text/plain": [
       "<Figure size 640x480 with 1 Axes>"
      ]
     },
     "metadata": {},
     "output_type": "display_data"
    }
   ],
   "source": [
    "plt.plot(wave_data, intensity_data, linestyle='-')\n",
    "plt.xlabel('Wave')\n",
    "plt.ylabel('Intensity')\n",
    "plt.title('Wave vs. Intensity')\n",
    "plt.grid(True)\n",
    "plt.show()"
   ]
  },
  {
   "cell_type": "code",
   "execution_count": 59,
   "metadata": {},
   "outputs": [
    {
     "name": "stdout",
     "output_type": "stream",
     "text": [
      "1\n",
      "(1863, 2)\n",
      "2\n",
      "(1863, 2)\n",
      "3\n",
      "(1863, 2)\n",
      "4\n",
      "(1863, 2)\n",
      "5\n",
      "(1863, 2)\n",
      "6\n",
      "(1863, 2)\n",
      "7\n",
      "(1863, 2)\n",
      "8\n",
      "(1863, 2)\n",
      "9\n",
      "(1863, 2)\n",
      "10\n",
      "(936, 2)\n",
      "11\n",
      "(1300, 2)\n",
      "12\n",
      "(1300, 2)\n",
      "13\n",
      "(1300, 2)\n",
      "14\n",
      "(1300, 2)\n",
      "15\n",
      "(1300, 2)\n",
      "16\n",
      "(1300, 2)\n",
      "17\n",
      "(1300, 2)\n",
      "18\n",
      "(1300, 2)\n",
      "19\n",
      "(1300, 2)\n",
      "20\n",
      "(1300, 2)\n",
      "21\n",
      "(1300, 2)\n",
      "22\n",
      "(1300, 2)\n",
      "23\n",
      "(1300, 2)\n",
      "24\n",
      "(1300, 2)\n",
      "25\n",
      "(1300, 2)\n",
      "26\n",
      "(1300, 2)\n",
      "27\n",
      "(1300, 2)\n",
      "28\n",
      "(1300, 2)\n",
      "29\n",
      "(1300, 2)\n",
      "30\n",
      "(1300, 2)\n",
      "31\n",
      "(1300, 2)\n",
      "32\n",
      "(1300, 2)\n",
      "33\n",
      "(1300, 2)\n",
      "34\n",
      "(1300, 2)\n",
      "35\n",
      "(1300, 2)\n",
      "36\n",
      "(1300, 2)\n",
      "37\n",
      "(1300, 2)\n",
      "38\n",
      "(1300, 2)\n",
      "39\n",
      "(1300, 2)\n",
      "40\n",
      "(1300, 2)\n",
      "41\n",
      "(1300, 2)\n",
      "42\n",
      "(1300, 2)\n",
      "43\n",
      "(1300, 2)\n",
      "44\n",
      "(1300, 2)\n",
      "45\n",
      "(1300, 2)\n",
      "46\n",
      "(1300, 2)\n",
      "47\n",
      "(1300, 2)\n",
      "48\n",
      "(1300, 2)\n",
      "49\n",
      "(1300, 2)\n",
      "50\n",
      "(1300, 2)\n",
      "51\n",
      "(1300, 2)\n",
      "52\n",
      "(1300, 2)\n",
      "53\n",
      "(1300, 2)\n",
      "54\n",
      "(1300, 2)\n",
      "55\n",
      "(1300, 2)\n",
      "56\n",
      "(1300, 2)\n",
      "57\n",
      "(1300, 2)\n",
      "58\n",
      "(1300, 2)\n",
      "59\n",
      "(1300, 2)\n",
      "60\n",
      "(1300, 2)\n",
      "61\n",
      "(1300, 2)\n",
      "62\n",
      "(1300, 2)\n",
      "63\n",
      "(1300, 2)\n",
      "64\n",
      "(1300, 2)\n",
      "65\n",
      "(1300, 2)\n",
      "66\n",
      "(1300, 2)\n",
      "67\n",
      "(1300, 2)\n",
      "68\n",
      "(1300, 2)\n",
      "69\n",
      "(1300, 2)\n",
      "70\n",
      "(1300, 2)\n",
      "71\n",
      "(1300, 2)\n",
      "72\n",
      "(1300, 2)\n",
      "73\n",
      "(1300, 2)\n",
      "74\n",
      "(1300, 2)\n",
      "75\n",
      "(1300, 2)\n",
      "76\n",
      "(1300, 2)\n",
      "77\n",
      "(1300, 2)\n",
      "78\n",
      "(1300, 2)\n",
      "79\n",
      "(1300, 2)\n",
      "80\n",
      "(1300, 2)\n",
      "81\n",
      "(1300, 2)\n",
      "82\n",
      "(1300, 2)\n",
      "83\n",
      "(1300, 2)\n",
      "84\n",
      "(1300, 2)\n",
      "85\n",
      "(1300, 2)\n",
      "86\n",
      "(1300, 2)\n",
      "87\n",
      "(1300, 2)\n",
      "88\n",
      "(1300, 2)\n",
      "89\n",
      "(1300, 2)\n",
      "90\n",
      "(1300, 2)\n",
      "91\n",
      "(1300, 2)\n",
      "92\n",
      "(1300, 2)\n",
      "93\n",
      "(1300, 2)\n",
      "94\n",
      "(1300, 2)\n",
      "95\n",
      "(1300, 2)\n",
      "96\n",
      "(1300, 2)\n",
      "97\n",
      "(1300, 2)\n",
      "98\n",
      "(1300, 2)\n",
      "99\n",
      "(1300, 2)\n",
      "100\n",
      "(1300, 2)\n",
      "101\n",
      "(1300, 2)\n",
      "102\n",
      "(1300, 2)\n",
      "103\n",
      "(1300, 2)\n",
      "104\n",
      "(1300, 2)\n",
      "105\n",
      "(1300, 2)\n",
      "106\n",
      "(1300, 2)\n",
      "107\n",
      "(1300, 2)\n",
      "108\n",
      "(1300, 2)\n",
      "109\n",
      "(1300, 2)\n",
      "110\n",
      "(1300, 2)\n",
      "111\n",
      "(1300, 2)\n",
      "112\n",
      "(1300, 2)\n",
      "113\n",
      "(1300, 2)\n",
      "114\n",
      "(1300, 2)\n",
      "115\n",
      "(1300, 2)\n",
      "116\n",
      "(1300, 2)\n",
      "117\n",
      "(1300, 2)\n",
      "118\n",
      "(1300, 2)\n",
      "119\n",
      "(1300, 2)\n",
      "120\n",
      "(1300, 2)\n",
      "121\n",
      "(1300, 2)\n",
      "122\n",
      "(1300, 2)\n",
      "123\n",
      "(1300, 2)\n",
      "124\n",
      "(1300, 2)\n",
      "125\n",
      "(1300, 2)\n",
      "126\n",
      "(1300, 2)\n",
      "127\n",
      "(1300, 2)\n",
      "128\n",
      "(1300, 2)\n",
      "129\n",
      "(1300, 2)\n",
      "130\n",
      "(1300, 2)\n",
      "131\n",
      "(1300, 2)\n",
      "132\n",
      "(1300, 2)\n",
      "133\n",
      "(1300, 2)\n",
      "134\n",
      "(1300, 2)\n",
      "135\n",
      "(1300, 2)\n",
      "136\n",
      "(1300, 2)\n",
      "137\n",
      "(1300, 2)\n",
      "138\n",
      "(1300, 2)\n",
      "139\n",
      "(1300, 2)\n",
      "140\n",
      "(1300, 2)\n",
      "141\n",
      "(1300, 2)\n",
      "142\n",
      "(1300, 2)\n",
      "143\n",
      "(1300, 2)\n",
      "144\n",
      "(1300, 2)\n",
      "145\n",
      "(1300, 2)\n",
      "146\n",
      "(936, 2)\n"
     ]
    }
   ],
   "source": [
    "count=0\n",
    "for i in SampleName_PET:\n",
    "    count+=1\n",
    "    print(count)\n",
    "    data_PET = data.get_group(i)\n",
    "    wave_data = data_PET['Wavelength'].values\n",
    "    intensity_data = data_PET['Intensity'].values\n",
    "\n",
    "    # Create a 2D array with the first row as \"wave\" values and the second row as \"Intensity\" values\n",
    "    array_data = np.array([wave_data, intensity_data])\n",
    "\n",
    "    # Transpose the array to have shape (2, rows)\n",
    "    array_data = array_data.T\n",
    "    np.savetxt(f\"data/open_specy/web/csv_created/PET{count}.csv\", array_data, delimiter=',')\n",
    "    print(array_data.shape)"
   ]
  },
  {
   "cell_type": "code",
   "execution_count": 60,
   "metadata": {},
   "outputs": [
    {
     "data": {
      "image/png": "[encoded data removed]",
      "text/plain": [
       "<Figure size 640x480 with 1 Axes>"
      ]
     },
     "metadata": {},
     "output_type": "display_data"
    }
   ],
   "source": [
    "plt.plot(wave_data, intensity_data, linestyle='-')\n",
    "plt.xlabel('Wave')\n",
    "plt.ylabel('Intensity')\n",
    "plt.title('Wave vs. Intensity')\n",
    "plt.grid(True)\n",
    "plt.show()"
   ]
  },
  {
   "cell_type": "code",
   "execution_count": 61,
   "metadata": {},
   "outputs": [
    {
     "name": "stdout",
     "output_type": "stream",
     "text": [
      "1\n",
      "(1863, 2)\n",
      "2\n",
      "(1863, 2)\n",
      "3\n",
      "(1863, 2)\n",
      "4\n",
      "(1863, 2)\n",
      "5\n",
      "(1863, 2)\n",
      "6\n",
      "(1863, 2)\n",
      "7\n",
      "(1863, 2)\n",
      "8\n",
      "(1863, 2)\n",
      "9\n",
      "(1863, 2)\n",
      "10\n",
      "(1863, 2)\n"
     ]
    }
   ],
   "source": [
    "count=0\n",
    "for i in SampleName_PP:\n",
    "    count+=1\n",
    "    print(count)\n",
    "    data_PET = data.get_group(i)\n",
    "    wave_data = data_PET['Wavelength'].values\n",
    "    intensity_data = data_PET['Intensity'].values\n",
    "\n",
    "    # Create a 2D array with the first row as \"wave\" values and the second row as \"Intensity\" values\n",
    "    array_data = np.array([wave_data, intensity_data])\n",
    "\n",
    "    # Transpose the array to have shape (2, rows)\n",
    "    array_data = array_data.T\n",
    "    np.savetxt(f\"data/open_specy/web/csv_created/PP{count}.csv\", array_data, delimiter=',')\n",
    "    print(array_data.shape)"
   ]
  },
  {
   "cell_type": "code",
   "execution_count": 62,
   "metadata": {},
   "outputs": [
    {
     "data": {
      "image/png": "[encoded data removed]",
      "text/plain": [
       "<Figure size 640x480 with 1 Axes>"
      ]
     },
     "metadata": {},
     "output_type": "display_data"
    }
   ],
   "source": [
    "plt.plot(wave_data, intensity_data, linestyle='-')\n",
    "plt.xlabel('Wave')\n",
    "plt.ylabel('Intensity')\n",
    "plt.title('Wave vs. Intensity')\n",
    "plt.grid(True)\n",
    "plt.show()"
   ]
  },
  {
   "cell_type": "code",
   "execution_count": 63,
   "metadata": {},
   "outputs": [
    {
     "name": "stdout",
     "output_type": "stream",
     "text": [
      "494\n",
      "482\n",
      "336\n",
      "326\n"
     ]
    }
   ],
   "source": [
    "other_metadata = C.merge(HDPE_metadata, how=\"left\", indicator=True)\n",
    "other_metadata = other_metadata[other_metadata[\"_merge\"]==\"left_only\"]\n",
    "print(len(other_metadata))\n",
    "other_metadata = other_metadata.drop(columns=\"_merge\")\n",
    "\n",
    "other_metadata = other_metadata.merge(LDPE_metadata, how=\"left\", indicator=True)\n",
    "other_metadata = other_metadata[other_metadata[\"_merge\"]==\"left_only\"]\n",
    "print(len(other_metadata))\n",
    "other_metadata = other_metadata.drop(columns=\"_merge\")\n",
    "\n",
    "other_metadata = other_metadata.merge(PET_metadata, how=\"left\", indicator=True)\n",
    "other_metadata = other_metadata[other_metadata[\"_merge\"]==\"left_only\"]\n",
    "print(len(other_metadata))\n",
    "other_metadata = other_metadata.drop(columns=\"_merge\")\n",
    "\n",
    "other_metadata = other_metadata.merge(PP_metadata, how=\"left\", indicator=True)\n",
    "other_metadata = other_metadata[other_metadata[\"_merge\"]==\"left_only\"]\n",
    "print(len(other_metadata))\n",
    "other_metadata = other_metadata.drop(columns=\"_merge\")"
   ]
  },
  {
   "cell_type": "code",
   "execution_count": 64,
   "metadata": {},
   "outputs": [
    {
     "data": {
      "text/plain": [
       "326"
      ]
     },
     "execution_count": 64,
     "metadata": {},
     "output_type": "execute_result"
    }
   ],
   "source": [
    "SampleName_Others = other_metadata[\"SampleName\"].unique()\n",
    "len(SampleName_Others)"
   ]
  },
  {
   "cell_type": "code",
   "execution_count": 65,
   "metadata": {},
   "outputs": [
    {
     "data": {
      "text/plain": [
       "array([13805, 15026, 15027, 15028, 15029, 15030, 15031, 15032, 15033,\n",
       "       15034, 15035, 15036, 15037, 15038, 15039, 15040, 15041, 15042,\n",
       "       15043, 15044, 15045, 15046, 15047, 15048, 15049, 15050, 15051,\n",
       "       15052, 15053, 15054, 15055, 15056, 15057, 15058, 15059, 15060,\n",
       "       15061, 15062, 15063, 15064, 15065, 15066, 15067, 15068, 15069,\n",
       "       15070, 15071, 15072, 15073, 15074, 15075, 15076, 15077, 15078,\n",
       "       15079, 15080, 15081, 15082, 15083, 15084, 15085, 15086, 15087,\n",
       "       15088, 15089, 15090, 15091, 15092, 15093, 15094, 15095, 15096,\n",
       "       15097, 15098, 15099, 15100, 15101, 15103, 15104, 15105, 15106,\n",
       "       15107, 15111, 15112, 15113, 15114, 15115, 15116, 15117, 15118,\n",
       "       15119, 15122, 15123, 15124, 15125, 15126, 15127, 15128, 15129,\n",
       "       15131, 15132, 15133, 15134, 15135, 15136, 15142, 15143, 15146,\n",
       "       15147, 15148, 15149, 15150, 15151, 15152, 15153, 15154, 15155,\n",
       "       15156, 15158, 15159, 15160, 15161, 15162, 15163, 15165, 15166,\n",
       "       15167, 15168, 15169, 15170, 15171, 15172, 15173, 15174, 15175,\n",
       "       15176, 15177, 15178, 15179, 15180, 15181, 15182, 15183, 15184,\n",
       "       15185, 15186, 15187, 15188, 15189, 15193, 15194, 15195, 15196,\n",
       "       15197, 15198, 15199, 15200, 15201, 15202, 15203, 15204, 15205,\n",
       "       15206, 15208, 15209, 15210, 15211, 15212, 15213, 15214, 15215,\n",
       "       15216, 15217, 15218, 15219, 15220, 15221, 15222, 15223, 15224,\n",
       "       15225, 15226, 15227, 15228, 15229, 15230, 15231, 15232, 15233,\n",
       "       15234, 15235, 15236, 15238, 15239, 15240, 15241, 15244, 15246,\n",
       "       15247, 15248, 15251, 15252, 15253, 15254, 15255, 15256, 15257,\n",
       "       15258, 15259, 15260, 15261, 15262, 15263, 15264, 15269, 15271,\n",
       "       15272, 15273, 15274, 15275, 15276, 15277, 15278, 15279, 15280,\n",
       "       15281, 15282, 15283, 15284, 15285, 15286, 15288, 15291, 15292,\n",
       "       15296, 15297, 15298, 15299, 15300, 15301, 15302, 15303, 15304,\n",
       "       15305, 15306, 15307, 15308, 15309, 15310, 15311, 15312, 15313,\n",
       "       15314, 15315, 15316, 15317, 15318, 15319, 15320, 15321, 15322,\n",
       "       15323, 15324, 15325, 15326, 15327, 15328, 15329, 15330, 15331,\n",
       "       15332, 15333, 15334, 15335, 15338, 15339, 15341, 15343, 15344,\n",
       "       15345, 15346, 15347, 15348, 15349, 15350, 15352, 15353, 15354,\n",
       "       15355, 15356, 15357, 15358, 15359, 15360, 15361, 15362, 15363,\n",
       "       15364, 15365, 15367, 15370, 15371, 15372, 15374, 15375, 15376,\n",
       "       15377, 15378, 15379, 15380, 15381, 15382, 15384, 15385, 15386,\n",
       "       15387, 15388, 15391, 15392, 15393, 15394, 15395, 15396, 17147,\n",
       "       17174, 17345])"
      ]
     },
     "execution_count": 65,
     "metadata": {},
     "output_type": "execute_result"
    }
   ],
   "source": [
    "SampleName_Others"
   ]
  },
  {
   "cell_type": "code",
   "execution_count": 66,
   "metadata": {},
   "outputs": [
    {
     "name": "stdout",
     "output_type": "stream",
     "text": [
      "1\n",
      "(7154, 2)\n",
      "2\n",
      "(1863, 2)\n",
      "3\n",
      "(1863, 2)\n",
      "4\n",
      "(1863, 2)\n",
      "5\n",
      "(1863, 2)\n",
      "6\n",
      "(1863, 2)\n",
      "7\n",
      "(1863, 2)\n",
      "8\n",
      "(1863, 2)\n",
      "9\n",
      "(1863, 2)\n",
      "10\n",
      "(1863, 2)\n",
      "11\n",
      "(1863, 2)\n",
      "12\n",
      "(1863, 2)\n",
      "13\n",
      "(1863, 2)\n",
      "14\n",
      "(1863, 2)\n",
      "15\n",
      "(1863, 2)\n",
      "16\n",
      "(1863, 2)\n",
      "17\n",
      "(1863, 2)\n",
      "18\n",
      "(1863, 2)\n",
      "19\n",
      "(1863, 2)\n",
      "20\n",
      "(1863, 2)\n",
      "21\n",
      "(1863, 2)\n",
      "22\n",
      "(1863, 2)\n",
      "23\n",
      "(1863, 2)\n",
      "24\n",
      "(1863, 2)\n",
      "25\n",
      "(1863, 2)\n",
      "26\n",
      "(1863, 2)\n",
      "27\n",
      "(1863, 2)\n",
      "28\n",
      "(1863, 2)\n",
      "29\n",
      "(1863, 2)\n",
      "30\n",
      "(1863, 2)\n",
      "31\n",
      "(1863, 2)\n",
      "32\n",
      "(1863, 2)\n",
      "33\n",
      "(1863, 2)\n",
      "34\n",
      "(1863, 2)\n",
      "35\n",
      "(1863, 2)\n",
      "36\n",
      "(1863, 2)\n",
      "37\n",
      "(1863, 2)\n",
      "38\n",
      "(1863, 2)\n",
      "39\n",
      "(1863, 2)\n",
      "40\n",
      "(1863, 2)\n",
      "41\n",
      "(1863, 2)\n",
      "42\n",
      "(1863, 2)\n",
      "43\n",
      "(1863, 2)\n",
      "44\n",
      "(1863, 2)\n",
      "45\n",
      "(1863, 2)\n",
      "46\n",
      "(1863, 2)\n",
      "47\n",
      "(1863, 2)\n",
      "48\n",
      "(1863, 2)\n",
      "49\n",
      "(1863, 2)\n",
      "50\n",
      "(1863, 2)\n",
      "51\n",
      "(1863, 2)\n",
      "52\n",
      "(1863, 2)\n",
      "53\n",
      "(1863, 2)\n",
      "54\n",
      "(1863, 2)\n",
      "55\n",
      "(1863, 2)\n",
      "56\n",
      "(1863, 2)\n",
      "57\n",
      "(1863, 2)\n",
      "58\n",
      "(1863, 2)\n",
      "59\n",
      "(1863, 2)\n",
      "60\n",
      "(1863, 2)\n",
      "61\n",
      "(1863, 2)\n",
      "62\n",
      "(1863, 2)\n",
      "63\n",
      "(1863, 2)\n",
      "64\n",
      "(1863, 2)\n",
      "65\n",
      "(1863, 2)\n",
      "66\n",
      "(1863, 2)\n",
      "67\n",
      "(1863, 2)\n",
      "68\n",
      "(1863, 2)\n",
      "69\n",
      "(1863, 2)\n",
      "70\n",
      "(1863, 2)\n",
      "71\n",
      "(1863, 2)\n",
      "72\n",
      "(1863, 2)\n",
      "73\n",
      "(1863, 2)\n",
      "74\n",
      "(1863, 2)\n",
      "75\n",
      "(1863, 2)\n",
      "76\n",
      "(1863, 2)\n",
      "77\n",
      "(1863, 2)\n",
      "78\n",
      "(1863, 2)\n",
      "79\n",
      "(1863, 2)\n",
      "80\n",
      "(1863, 2)\n",
      "81\n",
      "(1863, 2)\n",
      "82\n",
      "(1863, 2)\n",
      "83\n",
      "(1863, 2)\n",
      "84\n",
      "(1863, 2)\n",
      "85\n",
      "(1863, 2)\n",
      "86\n",
      "(1863, 2)\n",
      "87\n",
      "(1863, 2)\n",
      "88\n",
      "(1863, 2)\n",
      "89\n",
      "(1863, 2)\n",
      "90\n",
      "(1863, 2)\n",
      "91\n",
      "(1863, 2)\n",
      "92\n",
      "(1863, 2)\n",
      "93\n",
      "(1863, 2)\n",
      "94\n",
      "(1863, 2)\n",
      "95\n",
      "(1863, 2)\n",
      "96\n",
      "(1863, 2)\n",
      "97\n",
      "(1863, 2)\n",
      "98\n",
      "(1863, 2)\n",
      "99\n",
      "(1863, 2)\n",
      "100\n",
      "(1863, 2)\n",
      "101\n",
      "(1504, 2)\n",
      "102\n",
      "(1863, 2)\n",
      "103\n",
      "(1863, 2)\n",
      "104\n",
      "(1863, 2)\n",
      "105\n",
      "(1863, 2)\n",
      "106\n",
      "(1863, 2)\n",
      "107\n",
      "(1863, 2)\n",
      "108\n",
      "(1863, 2)\n",
      "109\n",
      "(1863, 2)\n",
      "110\n",
      "(1863, 2)\n",
      "111\n",
      "(1863, 2)\n",
      "112\n",
      "(1863, 2)\n",
      "113\n",
      "(1863, 2)\n",
      "114\n",
      "(1863, 2)\n",
      "115\n",
      "(1863, 2)\n",
      "116\n",
      "(1863, 2)\n",
      "117\n",
      "(1863, 2)\n",
      "118\n",
      "(1863, 2)\n",
      "119\n",
      "(1863, 2)\n",
      "120\n",
      "(1863, 2)\n",
      "121\n",
      "(1863, 2)\n",
      "122\n",
      "(1863, 2)\n",
      "123\n",
      "(1863, 2)\n",
      "124\n",
      "(1863, 2)\n",
      "125\n",
      "(1863, 2)\n",
      "126\n",
      "(1863, 2)\n",
      "127\n",
      "(1863, 2)\n",
      "128\n",
      "(1863, 2)\n",
      "129\n",
      "(1863, 2)\n",
      "130\n",
      "(1863, 2)\n",
      "131\n",
      "(1863, 2)\n",
      "132\n",
      "(1863, 2)\n",
      "133\n",
      "(1863, 2)\n",
      "134\n",
      "(1863, 2)\n",
      "135\n",
      "(1863, 2)\n",
      "136\n",
      "(1863, 2)\n",
      "137\n",
      "(1863, 2)\n",
      "138\n",
      "(1863, 2)\n",
      "139\n",
      "(1863, 2)\n",
      "140\n",
      "(1863, 2)\n",
      "141\n",
      "(1863, 2)\n",
      "142\n",
      "(1863, 2)\n",
      "143\n",
      "(1863, 2)\n",
      "144\n",
      "(1863, 2)\n",
      "145\n",
      "(1863, 2)\n",
      "146\n",
      "(1863, 2)\n",
      "147\n",
      "(1863, 2)\n",
      "148\n",
      "(1863, 2)\n",
      "149\n",
      "(1863, 2)\n",
      "150\n",
      "(1863, 2)\n",
      "151\n",
      "(1863, 2)\n",
      "152\n",
      "(1863, 2)\n",
      "153\n",
      "(1863, 2)\n",
      "154\n",
      "(1863, 2)\n",
      "155\n",
      "(1863, 2)\n",
      "156\n",
      "(1863, 2)\n",
      "157\n",
      "(1863, 2)\n",
      "158\n",
      "(1863, 2)\n",
      "159\n",
      "(1863, 2)\n",
      "160\n",
      "(1863, 2)\n",
      "161\n",
      "(1863, 2)\n",
      "162\n",
      "(1863, 2)\n",
      "163\n",
      "(1863, 2)\n",
      "164\n",
      "(1863, 2)\n",
      "165\n",
      "(1863, 2)\n",
      "166\n",
      "(1863, 2)\n",
      "167\n",
      "(1863, 2)\n",
      "168\n",
      "(1863, 2)\n",
      "169\n",
      "(1863, 2)\n",
      "170\n",
      "(1863, 2)\n",
      "171\n",
      "(1863, 2)\n",
      "172\n",
      "(1863, 2)\n",
      "173\n",
      "(1863, 2)\n",
      "174\n",
      "(1863, 2)\n",
      "175\n",
      "(1863, 2)\n",
      "176\n",
      "(1863, 2)\n",
      "177\n",
      "(1863, 2)\n",
      "178\n",
      "(1863, 2)\n",
      "179\n",
      "(1863, 2)\n",
      "180\n",
      "(1863, 2)\n",
      "181\n",
      "(1863, 2)\n",
      "182\n",
      "(1863, 2)\n",
      "183\n",
      "(1863, 2)\n",
      "184\n",
      "(1863, 2)\n",
      "185\n",
      "(1863, 2)\n",
      "186\n",
      "(1863, 2)\n",
      "187\n",
      "(1863, 2)\n",
      "188\n",
      "(1863, 2)\n",
      "189\n",
      "(1863, 2)\n",
      "190\n",
      "(1863, 2)\n",
      "191\n",
      "(1863, 2)\n",
      "192\n",
      "(1863, 2)\n",
      "193\n",
      "(1863, 2)\n",
      "194\n",
      "(1863, 2)\n",
      "195\n",
      "(1863, 2)\n",
      "196\n",
      "(1863, 2)\n",
      "197\n",
      "(1863, 2)\n",
      "198\n",
      "(1863, 2)\n",
      "199\n",
      "(1863, 2)\n",
      "200\n",
      "(1863, 2)\n",
      "201\n",
      "(1863, 2)\n",
      "202\n",
      "(1863, 2)\n",
      "203\n",
      "(1863, 2)\n",
      "204\n",
      "(1863, 2)\n",
      "205\n",
      "(1863, 2)\n",
      "206\n",
      "(1863, 2)\n",
      "207\n",
      "(1863, 2)\n",
      "208\n",
      "(1863, 2)\n",
      "209\n",
      "(1863, 2)\n",
      "210\n",
      "(1863, 2)\n",
      "211\n",
      "(1863, 2)\n",
      "212\n",
      "(1863, 2)\n",
      "213\n",
      "(1863, 2)\n",
      "214\n",
      "(1863, 2)\n",
      "215\n",
      "(1863, 2)\n",
      "216\n",
      "(1863, 2)\n",
      "217\n",
      "(1863, 2)\n",
      "218\n",
      "(1863, 2)\n",
      "219\n",
      "(1863, 2)\n",
      "220\n",
      "(1863, 2)\n",
      "221\n",
      "(1863, 2)\n",
      "222\n",
      "(1863, 2)\n",
      "223\n",
      "(1863, 2)\n",
      "224\n",
      "(1863, 2)\n",
      "225\n",
      "(1863, 2)\n",
      "226\n",
      "(1504, 2)\n",
      "227\n",
      "(1504, 2)\n",
      "228\n",
      "(1863, 2)\n",
      "229\n",
      "(1863, 2)\n",
      "230\n",
      "(1863, 2)\n",
      "231\n",
      "(1863, 2)\n",
      "232\n",
      "(1863, 2)\n",
      "233\n",
      "(1863, 2)\n",
      "234\n",
      "(1863, 2)\n",
      "235\n",
      "(1863, 2)\n",
      "236\n",
      "(1863, 2)\n",
      "237\n",
      "(1863, 2)\n",
      "238\n",
      "(1863, 2)\n",
      "239\n",
      "(1863, 2)\n",
      "240\n",
      "(1863, 2)\n",
      "241\n",
      "(1863, 2)\n",
      "242\n",
      "(1863, 2)\n",
      "243\n",
      "(1863, 2)\n",
      "244\n",
      "(1863, 2)\n",
      "245\n",
      "(1863, 2)\n",
      "246\n",
      "(1863, 2)\n",
      "247\n",
      "(1863, 2)\n",
      "248\n",
      "(1863, 2)\n",
      "249\n",
      "(1863, 2)\n",
      "250\n",
      "(1863, 2)\n",
      "251\n",
      "(1863, 2)\n",
      "252\n",
      "(1863, 2)\n",
      "253\n",
      "(1863, 2)\n",
      "254\n",
      "(1863, 2)\n",
      "255\n",
      "(1863, 2)\n",
      "256\n",
      "(1863, 2)\n",
      "257\n",
      "(1863, 2)\n",
      "258\n",
      "(1863, 2)\n",
      "259\n",
      "(1863, 2)\n",
      "260\n",
      "(1863, 2)\n",
      "261\n",
      "(1863, 2)\n",
      "262\n",
      "(1863, 2)\n",
      "263\n",
      "(1863, 2)\n",
      "264\n",
      "(1863, 2)\n",
      "265\n",
      "(1863, 2)\n",
      "266\n",
      "(1863, 2)\n",
      "267\n",
      "(1863, 2)\n",
      "268\n",
      "(1863, 2)\n",
      "269\n",
      "(1863, 2)\n",
      "270\n",
      "(1863, 2)\n",
      "271\n",
      "(1863, 2)\n",
      "272\n",
      "(1863, 2)\n",
      "273\n",
      "(1863, 2)\n",
      "274\n",
      "(1863, 2)\n",
      "275\n",
      "(1863, 2)\n",
      "276\n",
      "(1863, 2)\n",
      "277\n",
      "(1863, 2)\n",
      "278\n",
      "(1863, 2)\n",
      "279\n",
      "(1863, 2)\n",
      "280\n",
      "(1863, 2)\n",
      "281\n",
      "(1863, 2)\n",
      "282\n",
      "(1863, 2)\n",
      "283\n",
      "(1863, 2)\n",
      "284\n",
      "(1863, 2)\n",
      "285\n",
      "(1863, 2)\n",
      "286\n",
      "(863, 2)\n",
      "287\n",
      "(863, 2)\n",
      "288\n",
      "(1725, 2)\n",
      "289\n",
      "(863, 2)\n",
      "290\n",
      "(7157, 2)\n",
      "291\n",
      "(863, 2)\n",
      "292\n",
      "(863, 2)\n",
      "293\n",
      "(863, 2)\n",
      "294\n",
      "(863, 2)\n",
      "295\n",
      "(7157, 2)\n",
      "296\n",
      "(936, 2)\n",
      "297\n",
      "(1869, 2)\n",
      "298\n",
      "(1869, 2)\n",
      "299\n",
      "(936, 2)\n",
      "300\n",
      "(1725, 2)\n",
      "301\n",
      "(936, 2)\n",
      "302\n",
      "(1725, 2)\n",
      "303\n",
      "(1738, 2)\n",
      "304\n",
      "(7157, 2)\n",
      "305\n",
      "(1869, 2)\n",
      "306\n",
      "(1738, 2)\n",
      "307\n",
      "(863, 2)\n",
      "308\n",
      "(936, 2)\n",
      "309\n",
      "(1725, 2)\n",
      "310\n",
      "(1869, 2)\n",
      "311\n",
      "(863, 2)\n",
      "312\n",
      "(936, 2)\n",
      "313\n",
      "(1869, 2)\n",
      "314\n",
      "(936, 2)\n",
      "315\n",
      "(863, 2)\n",
      "316\n",
      "(1869, 2)\n",
      "317\n",
      "(863, 2)\n",
      "318\n",
      "(7157, 2)\n",
      "319\n",
      "(7157, 2)\n",
      "320\n",
      "(7157, 2)\n",
      "321\n",
      "(1869, 2)\n",
      "322\n",
      "(863, 2)\n",
      "323\n",
      "(1869, 2)\n",
      "324\n",
      "(1958, 2)\n",
      "325\n",
      "(1945, 2)\n",
      "326\n",
      "(7468, 2)\n"
     ]
    }
   ],
   "source": [
    "count=0\n",
    "for i in SampleName_Others:\n",
    "    count+=1\n",
    "    print(count)\n",
    "    data_PET = data.get_group(i)\n",
    "    wave_data = data_PET['Wavelength'].values\n",
    "    intensity_data = data_PET['Intensity'].values\n",
    "\n",
    "    # Create a 2D array with the first row as \"wave\" values and the second row as \"Intensity\" values\n",
    "    array_data = np.array([wave_data, intensity_data])\n",
    "\n",
    "    # Transpose the array to have shape (2, rows)\n",
    "    array_data = array_data.T\n",
    "    np.savetxt(f\"data/open_specy/web/csv_created/otheres{count}.csv\", array_data, delimiter=',')\n",
    "    print(array_data.shape)"
   ]
  },
  {
   "cell_type": "code",
   "execution_count": 67,
   "metadata": {},
   "outputs": [
    {
     "data": {
      "image/png": "[encoded data removed]",
      "text/plain": [
       "<Figure size 640x480 with 1 Axes>"
      ]
     },
     "metadata": {},
     "output_type": "display_data"
    }
   ],
   "source": [
    "plt.plot(wave_data, intensity_data, linestyle='-')\n",
    "plt.xlabel('Wave')\n",
    "plt.ylabel('Intensity')\n",
    "plt.title('Wave vs. Intensity')\n",
    "plt.grid(True)\n",
    "plt.show()"
   ]
  },
  {
   "cell_type": "code",
   "execution_count": null,
   "metadata": {},
   "outputs": [],
   "source": []
  },
  {
   "cell_type": "code",
   "execution_count": null,
   "metadata": {},
   "outputs": [],
   "source": []
  },
  {
   "cell_type": "code",
   "execution_count": 15,
   "metadata": {},
   "outputs": [
    {
     "data": {
      "text/plain": [
       "pandas.core.groupby.generic.DataFrameGroupBy"
      ]
     },
     "execution_count": 15,
     "metadata": {},
     "output_type": "execute_result"
    }
   ],
   "source": [
    "type(data)"
   ]
  },
  {
   "cell_type": "code",
   "execution_count": 21,
   "metadata": {},
   "outputs": [],
   "source": [
    "first_group_df = data.get_group(list(data.groups.keys())[1])"
   ]
  },
  {
   "cell_type": "code",
   "execution_count": 22,
   "metadata": {},
   "outputs": [
    {
     "data": {
      "text/plain": [
       "<bound method NDFrame.head of         Wavelength  Intensity Polymer  SampleName  group\n",
       "7153    600.884020   0.312334     NaN       13744  13744\n",
       "7154    601.848521   0.312661     NaN       13744  13744\n",
       "7155    602.813022   0.312953     NaN       13744  13744\n",
       "7156    603.777523   0.313302     NaN       13744  13744\n",
       "7157    604.742023   0.313877     NaN       13744  13744\n",
       "...            ...        ...     ...         ...    ...\n",
       "14301  7495.135997   0.804812     NaN       13744  13744\n",
       "14302  7496.100497   0.805390     NaN       13744  13744\n",
       "14303  7497.064998   0.805858     NaN       13744  13744\n",
       "14304  7498.029499   0.806159     NaN       13744  13744\n",
       "14305  7498.994000   0.806260     NaN       13744  13744\n",
       "\n",
       "[7153 rows x 5 columns]>"
      ]
     },
     "execution_count": 22,
     "metadata": {},
     "output_type": "execute_result"
    }
   ],
   "source": [
    "first_group_df.head"
   ]
  },
  {
   "cell_type": "code",
   "execution_count": 23,
   "metadata": {},
   "outputs": [
    {
     "data": {
      "text/plain": [
       "Index(['Wavelength', 'Intensity', 'Polymer', 'SampleName', 'group'], dtype='object')"
      ]
     },
     "execution_count": 23,
     "metadata": {},
     "output_type": "execute_result"
    }
   ],
   "source": [
    "first_group_df.keys()"
   ]
  },
  {
   "cell_type": "code",
   "execution_count": 24,
   "metadata": {},
   "outputs": [
    {
     "data": {
      "image/png": "[encoded data removed]",
      "text/plain": [
       "<Figure size 640x480 with 1 Axes>"
      ]
     },
     "metadata": {},
     "output_type": "display_data"
    }
   ],
   "source": [
    "import matplotlib.pyplot as plt\n",
    "first_group_df.plot(x='Wavelength', y='Intensity', kind='line')\n",
    "plt.xlabel('Wavelength')\n",
    "plt.ylabel('Intensity')\n",
    "plt.title('Intensity vs. Wavelength')\n",
    "plt.show()"
   ]
  },
  {
   "cell_type": "code",
   "execution_count": 36,
   "metadata": {},
   "outputs": [
    {
     "data": {
      "text/plain": [
       "0          13743\n",
       "1          13743\n",
       "2          13743\n",
       "3          13743\n",
       "4          13743\n",
       "           ...  \n",
       "8209158    17848\n",
       "8209159    17848\n",
       "8209160    17848\n",
       "8209161    17848\n",
       "8209162    17848\n",
       "Name: group, Length: 20530, dtype: int32"
      ]
     },
     "execution_count": 36,
     "metadata": {},
     "output_type": "execute_result"
    }
   ],
   "source": [
    "data.head()"
   ]
  },
  {
   "cell_type": "code",
   "execution_count": null,
   "metadata": {},
   "outputs": [],
   "source": []
  },
  {
   "cell_type": "code",
   "execution_count": null,
   "metadata": {},
   "outputs": [],
   "source": []
  },
  {
   "cell_type": "code",
   "execution_count": 51,
   "metadata": {},
   "outputs": [
    {
     "ename": "LibrdataError",
     "evalue": "Unable to convert string to the requested encoding (invalid byte sequence)",
     "output_type": "error",
     "traceback": [
      "\u001b[0;31m---------------------------------------------------------------------------\u001b[0m",
      "\u001b[0;31mLibrdataError\u001b[0m                             Traceback (most recent call last)",
      "Cell \u001b[0;32mIn[51], line 1\u001b[0m\n\u001b[0;32m----> 1\u001b[0m metadata \u001b[39m=\u001b[39m pyreadr\u001b[39m.\u001b[39;49mlist_objects(\u001b[39m\"\u001b[39;49m\u001b[39mdata/open_specy/web/ftir_metadata_raw.RData\u001b[39;49m\u001b[39m\"\u001b[39;49m)\n\u001b[1;32m      2\u001b[0m \u001b[39mtype\u001b[39m(metadata)\n",
      "File \u001b[0;32m~/py_env/polymer/lib/python3.10/site-packages/pyreadr/pyreadr.py:99\u001b[0m, in \u001b[0;36mlist_objects\u001b[0;34m(path)\u001b[0m\n\u001b[1;32m     96\u001b[0m \u001b[39mif\u001b[39;00m \u001b[39mnot\u001b[39;00m os\u001b[39m.\u001b[39mpath\u001b[39m.\u001b[39misfile(path):\n\u001b[1;32m     97\u001b[0m     \u001b[39mraise\u001b[39;00m PyreadrError(\u001b[39m\"\u001b[39m\u001b[39mFile \u001b[39m\u001b[39m{0}\u001b[39;00m\u001b[39m does not exist!\u001b[39m\u001b[39m\"\u001b[39m\u001b[39m.\u001b[39mformat(path))\n\u001b[0;32m---> 99\u001b[0m parser\u001b[39m.\u001b[39;49mparse(path)\n\u001b[1;32m    100\u001b[0m \u001b[39mreturn\u001b[39;00m parser\u001b[39m.\u001b[39mobject_list\n",
      "File \u001b[0;32m~/py_env/polymer/lib/python3.10/site-packages/pyreadr/librdata.pyx:148\u001b[0m, in \u001b[0;36mpyreadr.librdata.Parser.parse\u001b[0;34m()\u001b[0m\n",
      "File \u001b[0;32m~/py_env/polymer/lib/python3.10/site-packages/pyreadr/librdata.pyx:177\u001b[0m, in \u001b[0;36mpyreadr.librdata.Parser.parse\u001b[0;34m()\u001b[0m\n",
      "\u001b[0;31mLibrdataError\u001b[0m: Unable to convert string to the requested encoding (invalid byte sequence)"
     ]
    }
   ],
   "source": [
    "metadata = pyreadr.list_objects(\"data/open_specy/web/ftir_metadata_raw.RData\")\n",
    "type(metadata)"
   ]
  },
  {
   "cell_type": "code",
   "execution_count": 48,
   "metadata": {},
   "outputs": [
    {
     "name": "stdout",
     "output_type": "stream",
     "text": [
      "Error occurred while trying to read the file: Failed to interpret file 'data/open_specy/web/ftir_metadata_raw' as a pickle\n"
     ]
    }
   ],
   "source": [
    "import pandas as pd\n",
    "import numpy as np\n",
    "\n",
    "# Replace 'your_file' with the path to your binary file (if you don't have an extension)\n",
    "file_path = 'data/open_specy/web/ftir_metadata_raw'\n",
    "\n",
    "# Try to load the data using numpy\n",
    "try:\n",
    "    data = np.load(file_path, allow_pickle=True)\n",
    "    # If the file is successfully loaded, check its type\n",
    "    if isinstance(data, np.ndarray):\n",
    "        df = pd.DataFrame(data)  # Convert numpy array to pandas DataFrame\n",
    "        print(\"Successfully loaded the data as a DataFrame.\")\n",
    "    else:\n",
    "        print(\"The data could not be interpreted as a numpy array.\")\n",
    "except Exception as e:\n",
    "    print(\"Error occurred while trying to read the file:\", e)"
   ]
  },
  {
   "cell_type": "code",
   "execution_count": 34,
   "metadata": {},
   "outputs": [
    {
     "data": {
      "text/plain": [
       "odict_keys(['FTIRLibrary'])"
      ]
     },
     "execution_count": 34,
     "metadata": {},
     "output_type": "execute_result"
    }
   ],
   "source": [
    "data = pyreadr.read_r(\"data/open_specy/web/ftir_library.RData\")\n",
    "data.keys()"
   ]
  },
  {
   "cell_type": "code",
   "execution_count": 35,
   "metadata": {},
   "outputs": [
    {
     "name": "stdout",
     "output_type": "stream",
     "text": [
      "1033852\n"
     ]
    },
    {
     "data": {
      "text/html": [
       "<div>\n",
       "<style scoped>\n",
       "    .dataframe tbody tr th:only-of-type {\n",
       "        vertical-align: middle;\n",
       "    }\n",
       "\n",
       "    .dataframe tbody tr th {\n",
       "        vertical-align: top;\n",
       "    }\n",
       "\n",
       "    .dataframe thead th {\n",
       "        text-align: right;\n",
       "    }\n",
       "</style>\n",
       "<table border=\"1\" class=\"dataframe\">\n",
       "  <thead>\n",
       "    <tr style=\"text-align: right;\">\n",
       "      <th></th>\n",
       "      <th>Wavelength</th>\n",
       "      <th>Intensity</th>\n",
       "      <th>SampleName</th>\n",
       "      <th>group</th>\n",
       "    </tr>\n",
       "  </thead>\n",
       "  <tbody>\n",
       "    <tr>\n",
       "      <th>0</th>\n",
       "      <td>667.3</td>\n",
       "      <td>0.000000</td>\n",
       "      <td>1</td>\n",
       "      <td>1</td>\n",
       "    </tr>\n",
       "    <tr>\n",
       "      <th>1</th>\n",
       "      <td>669.2</td>\n",
       "      <td>0.000000</td>\n",
       "      <td>1</td>\n",
       "      <td>1</td>\n",
       "    </tr>\n",
       "    <tr>\n",
       "      <th>2</th>\n",
       "      <td>671.1</td>\n",
       "      <td>0.000000</td>\n",
       "      <td>1</td>\n",
       "      <td>1</td>\n",
       "    </tr>\n",
       "    <tr>\n",
       "      <th>3</th>\n",
       "      <td>673.0</td>\n",
       "      <td>0.000000</td>\n",
       "      <td>1</td>\n",
       "      <td>1</td>\n",
       "    </tr>\n",
       "    <tr>\n",
       "      <th>4</th>\n",
       "      <td>675.0</td>\n",
       "      <td>0.003789</td>\n",
       "      <td>1</td>\n",
       "      <td>1</td>\n",
       "    </tr>\n",
       "  </tbody>\n",
       "</table>\n",
       "</div>"
      ],
      "text/plain": [
       "   Wavelength  Intensity  SampleName  group\n",
       "0       667.3   0.000000           1      1\n",
       "1       669.2   0.000000           1      1\n",
       "2       671.1   0.000000           1      1\n",
       "3       673.0   0.000000           1      1\n",
       "4       675.0   0.003789           1      1"
      ]
     },
     "execution_count": 35,
     "metadata": {},
     "output_type": "execute_result"
    }
   ],
   "source": [
    "data = data[\"FTIRLibrary\"]\n",
    "print(len(data))\n",
    "data.head()"
   ]
  },
  {
   "cell_type": "code",
   "execution_count": 36,
   "metadata": {},
   "outputs": [
    {
     "data": {
      "text/plain": [
       "array([  1,   2,   3,   4,   5,   6,   7,   8,   9,  10,  11,  12,  13,\n",
       "        14,  15,  16,  17,  18,  19,  20,  21,  22,  23,  24,  25,  26,\n",
       "        27,  28,  29,  30,  31,  32,  33,  34,  35,  36,  37,  38,  39,\n",
       "        40,  41,  42,  43,  44,  45,  46,  47,  48,  49,  50,  51,  52,\n",
       "        53,  54,  55,  56,  57,  58,  59,  60,  61,  62,  63,  64,  65,\n",
       "        66,  67,  68,  69,  70,  71,  72,  73,  74,  75,  76,  77,  78,\n",
       "        79,  80,  81,  82,  83,  84,  85,  86,  87,  88,  89,  90,  91,\n",
       "        92,  93,  94,  95,  96,  97,  98,  99, 100, 101, 102, 103, 104,\n",
       "       105, 106, 107, 108, 109, 110, 111, 112, 113, 114, 115, 116, 117,\n",
       "       118, 119, 120, 121, 122, 123, 124, 125, 126, 127, 128, 129, 130,\n",
       "       131, 132, 133, 134, 135, 136, 137, 138, 139, 140, 141, 142, 143,\n",
       "       144, 145, 146, 147, 148, 149, 150, 151, 152, 153, 154, 155, 156,\n",
       "       157, 158, 159, 160, 161, 162, 163, 164, 165, 166, 167, 168, 169,\n",
       "       170, 171, 172, 173, 174, 175, 176, 177, 178, 179, 180, 181, 182,\n",
       "       183, 184, 185, 186, 187, 188, 189, 190, 191, 192, 193, 194, 195,\n",
       "       196, 197, 198, 199, 200, 201, 202, 203, 204, 205, 206, 207, 208,\n",
       "       209, 210, 211, 212, 213, 214, 215, 216, 217, 218, 219, 220, 221,\n",
       "       222, 223, 224, 225, 226, 227, 228, 229, 230, 231, 232, 233, 234,\n",
       "       235, 236, 237, 238, 239, 240, 241, 242, 243, 244, 245, 246, 247,\n",
       "       248, 249, 250, 251, 252, 253, 254, 255, 256, 257, 258, 259, 260,\n",
       "       261, 262, 263, 264, 265, 266, 267, 268, 269, 270, 271, 272, 273,\n",
       "       274, 275, 276, 277, 278, 279, 280, 281, 282, 283, 284, 285, 286,\n",
       "       287, 288, 289, 290, 291, 292, 293, 294, 295, 296, 297, 298, 299,\n",
       "       300, 301, 302, 303, 304, 305, 306, 307, 308, 309, 310, 311, 312,\n",
       "       313, 314, 315, 316, 317, 318, 319, 320, 321, 322, 323, 324, 325,\n",
       "       326, 327, 328, 329, 330, 331, 332, 333, 334, 335, 336, 337, 338,\n",
       "       339, 340, 341, 342, 343, 344, 345, 346, 347, 348, 349, 350, 351,\n",
       "       352, 353, 354, 355, 356, 357, 358, 359, 360, 361, 362, 363, 364,\n",
       "       365, 366, 367, 368, 369, 370, 371, 372, 373, 374, 375, 376, 377,\n",
       "       378, 380, 381, 382, 383, 384, 385, 386, 387, 388, 389, 390, 391,\n",
       "       392, 393, 394, 395, 396, 397, 398, 399, 400, 401, 402, 403, 404,\n",
       "       405, 406, 407, 408, 409, 410, 411, 412, 413, 414, 415, 416, 417,\n",
       "       418, 419, 420, 421, 422, 423, 424, 425, 426, 427, 428, 429, 430,\n",
       "       431, 432, 433, 434, 435, 436, 437, 438, 439, 440, 441, 442, 443,\n",
       "       444, 445, 446, 447, 448, 449, 450, 451, 452, 453, 454, 455, 456,\n",
       "       457, 458, 459, 460, 461, 462, 463, 464, 465, 466, 467, 468, 469,\n",
       "       470, 471, 472, 473, 474, 475, 476, 477, 478, 479, 480, 481, 482,\n",
       "       483, 484, 485, 486, 487, 488, 489, 490, 491, 492, 493, 494, 495,\n",
       "       496, 497, 498, 499, 500, 501, 502, 503, 504, 505, 506, 507, 508,\n",
       "       509, 510, 511, 512, 513, 514, 515, 516, 517, 518, 519, 520, 521,\n",
       "       522, 523, 524, 525, 526, 527, 530, 531, 532, 533, 534, 535, 536,\n",
       "       537, 538, 539, 540, 541, 542, 543, 544, 545, 546, 547, 548, 549,\n",
       "       550, 551, 552, 553, 554, 555, 556, 557, 558, 559, 560, 561, 562,\n",
       "       563, 564, 565, 566, 567, 568, 569, 570, 571, 572, 573, 574, 575,\n",
       "       576, 577, 578, 579, 580, 581, 582, 583, 584, 585, 586, 587, 588,\n",
       "       589, 590, 591, 592, 593, 594, 595, 596, 597, 379, 528, 529, 598,\n",
       "       599, 600, 601, 602, 603, 604, 605, 606, 607, 608, 609, 610, 611,\n",
       "       612, 613, 614, 615, 616, 617, 618, 619, 620, 621, 622, 623, 624,\n",
       "       625, 626, 627, 628, 629, 630, 631, 632, 633, 634, 635, 636],\n",
       "      dtype=int32)"
      ]
     },
     "execution_count": 36,
     "metadata": {},
     "output_type": "execute_result"
    }
   ],
   "source": [
    "data[\"group\"].unique()"
   ]
  },
  {
   "cell_type": "code",
   "execution_count": 37,
   "metadata": {},
   "outputs": [
    {
     "data": {
      "text/plain": [
       "<bound method NDFrame.head of       Wavelength  Intensity  SampleName  group\n",
       "0          667.3   0.000000           1      1\n",
       "1          669.2   0.000000           1      1\n",
       "2          671.1   0.000000           1      1\n",
       "3          673.0   0.000000           1      1\n",
       "4          675.0   0.003789           1      1\n",
       "...          ...        ...         ...    ...\n",
       "1295      3164.7   0.055735           1      1\n",
       "1296      3166.6   0.062766           1      1\n",
       "1297      3168.5   0.080317           1      1\n",
       "1298      3170.5   0.080732           1      1\n",
       "1299      3172.4   0.081099           1      1\n",
       "\n",
       "[1300 rows x 4 columns]>"
      ]
     },
     "execution_count": 37,
     "metadata": {},
     "output_type": "execute_result"
    }
   ],
   "source": [
    "group_lib = data.groupby(\"group\")\n",
    "first_lib_df = group_lib.get_group(list(group_lib.groups.keys())[0])\n",
    "first_lib_df.head"
   ]
  },
  {
   "cell_type": "code",
   "execution_count": 38,
   "metadata": {},
   "outputs": [
    {
     "data": {
      "image/png": "[encoded data removed]",
      "text/plain": [
       "<Figure size 640x480 with 1 Axes>"
      ]
     },
     "metadata": {},
     "output_type": "display_data"
    }
   ],
   "source": [
    "first_lib_df.plot(x='Wavelength', y='Intensity', kind='line')\n",
    "plt.xlabel('Wavelength')\n",
    "plt.ylabel('Intensity')\n",
    "plt.title('Intensity vs. Wavelength')\n",
    "plt.show()"
   ]
  },
  {
   "cell_type": "code",
   "execution_count": 39,
   "metadata": {},
   "outputs": [
    {
     "data": {
      "image/png": "[encoded data removed]",
      "text/plain": [
       "<Figure size 640x480 with 1 Axes>"
      ]
     },
     "metadata": {},
     "output_type": "display_data"
    }
   ],
   "source": [
    "first_lib_df = group_lib.get_group(list(group_lib.groups.keys())[1])\n",
    "first_lib_df.plot(x='Wavelength', y='Intensity', kind='line')\n",
    "plt.xlabel('Wavelength')\n",
    "plt.ylabel('Intensity')\n",
    "plt.title('Intensity vs. Wavelength')\n",
    "plt.show()"
   ]
  },
  {
   "cell_type": "code",
   "execution_count": 41,
   "metadata": {},
   "outputs": [
    {
     "data": {
      "text/plain": [
       "1300"
      ]
     },
     "execution_count": 41,
     "metadata": {},
     "output_type": "execute_result"
    }
   ],
   "source": [
    "len(first_lib_df)"
   ]
  },
  {
   "cell_type": "code",
   "execution_count": null,
   "metadata": {},
   "outputs": [],
   "source": []
  },
  {
   "cell_type": "code",
   "execution_count": null,
   "metadata": {},
   "outputs": [],
   "source": []
  },
  {
   "attachments": {},
   "cell_type": "markdown",
   "metadata": {},
   "source": [
    "# Work on ftir_peaks data"
   ]
  },
  {
   "attachments": {},
   "cell_type": "markdown",
   "metadata": {},
   "source": []
  },
  {
   "cell_type": "code",
   "execution_count": 26,
   "metadata": {},
   "outputs": [
    {
     "data": {
      "text/plain": [
       "<bound method NDFrame.head of         Wavelength  Intensity  group  SampleName\n",
       "0            678.8   0.014156      1           1\n",
       "1            680.8   0.017499      1           1\n",
       "2            682.7   0.023105      1           1\n",
       "3            684.6   0.027762      1           1\n",
       "4            686.5   0.033664      1           1\n",
       "...            ...        ...    ...         ...\n",
       "435586      2970.0   0.031517    636         636\n",
       "435587      2971.9   0.026069    636         636\n",
       "435588      2973.8   0.021354    636         636\n",
       "435589      2975.8   0.016505    636         636\n",
       "435590      2977.7   0.012411    636         636\n",
       "\n",
       "[435591 rows x 4 columns]>"
      ]
     },
     "execution_count": 26,
     "metadata": {},
     "output_type": "execute_result"
    }
   ],
   "source": [
    "peak_data = pyreadr.read_r(\"data/open_specy/web/ftir_peaks.RData\")\n",
    "peak_data = peak_data[\"FTIRLibraryPeak\"]\n",
    "peak_data.head"
   ]
  },
  {
   "cell_type": "code",
   "execution_count": 30,
   "metadata": {},
   "outputs": [
    {
     "data": {
      "text/plain": [
       "<bound method NDFrame.head of      Wavelength  Intensity  group  SampleName\n",
       "0         678.8   0.014156      1           1\n",
       "1         680.8   0.017499      1           1\n",
       "2         682.7   0.023105      1           1\n",
       "3         684.6   0.027762      1           1\n",
       "4         686.5   0.033664      1           1\n",
       "..          ...        ...    ...         ...\n",
       "495      3164.7   0.055735      1           1\n",
       "496      3166.6   0.062766      1           1\n",
       "497      3168.5   0.080317      1           1\n",
       "498      3170.5   0.080732      1           1\n",
       "499      3172.4   0.081099      1           1\n",
       "\n",
       "[500 rows x 4 columns]>"
      ]
     },
     "execution_count": 30,
     "metadata": {},
     "output_type": "execute_result"
    }
   ],
   "source": [
    "group_peaks = peak_data.groupby(\"group\")\n",
    "first_peak_df = group_peaks.get_group(list(group_peaks.groups.keys())[0])\n",
    "first_peak_df.head"
   ]
  },
  {
   "cell_type": "code",
   "execution_count": 31,
   "metadata": {},
   "outputs": [
    {
     "data": {
      "image/png": "[encoded data removed]",
      "text/plain": [
       "<Figure size 640x480 with 1 Axes>"
      ]
     },
     "metadata": {},
     "output_type": "display_data"
    }
   ],
   "source": [
    "first_peak_df.plot(x='Wavelength', y='Intensity', kind='line')\n",
    "plt.xlabel('Wavelength')\n",
    "plt.ylabel('Intensity')\n",
    "plt.title('Intensity vs. Wavelength')\n",
    "plt.show()"
   ]
  },
  {
   "cell_type": "code",
   "execution_count": 40,
   "metadata": {},
   "outputs": [
    {
     "data": {
      "image/png": "[encoded data removed]",
      "text/plain": [
       "<Figure size 640x480 with 1 Axes>"
      ]
     },
     "metadata": {},
     "output_type": "display_data"
    }
   ],
   "source": [
    "first_peak_df = group_lib.get_group(list(group_lib.groups.keys())[1])\n",
    "first_peak_df.plot(x='Wavelength', y='Intensity', kind='line')\n",
    "plt.xlabel('Wavelength')\n",
    "plt.ylabel('Intensity')\n",
    "plt.title('Intensity vs. Wavelength')\n",
    "plt.show()"
   ]
  },
  {
   "cell_type": "code",
   "execution_count": 42,
   "metadata": {},
   "outputs": [
    {
     "data": {
      "text/html": [
       "<div>\n",
       "<style scoped>\n",
       "    .dataframe tbody tr th:only-of-type {\n",
       "        vertical-align: middle;\n",
       "    }\n",
       "\n",
       "    .dataframe tbody tr th {\n",
       "        vertical-align: top;\n",
       "    }\n",
       "\n",
       "    .dataframe thead th {\n",
       "        text-align: right;\n",
       "    }\n",
       "</style>\n",
       "<table border=\"1\" class=\"dataframe\">\n",
       "  <thead>\n",
       "    <tr style=\"text-align: right;\">\n",
       "      <th></th>\n",
       "      <th>Wavelength</th>\n",
       "      <th>Intensity</th>\n",
       "      <th>SampleName</th>\n",
       "      <th>group</th>\n",
       "    </tr>\n",
       "  </thead>\n",
       "  <tbody>\n",
       "    <tr>\n",
       "      <th>1300</th>\n",
       "      <td>667.3</td>\n",
       "      <td>0.010962</td>\n",
       "      <td>2</td>\n",
       "      <td>2</td>\n",
       "    </tr>\n",
       "    <tr>\n",
       "      <th>1301</th>\n",
       "      <td>669.2</td>\n",
       "      <td>0.005155</td>\n",
       "      <td>2</td>\n",
       "      <td>2</td>\n",
       "    </tr>\n",
       "    <tr>\n",
       "      <th>1302</th>\n",
       "      <td>671.1</td>\n",
       "      <td>0.000000</td>\n",
       "      <td>2</td>\n",
       "      <td>2</td>\n",
       "    </tr>\n",
       "    <tr>\n",
       "      <th>1303</th>\n",
       "      <td>673.0</td>\n",
       "      <td>0.000000</td>\n",
       "      <td>2</td>\n",
       "      <td>2</td>\n",
       "    </tr>\n",
       "    <tr>\n",
       "      <th>1304</th>\n",
       "      <td>675.0</td>\n",
       "      <td>0.000000</td>\n",
       "      <td>2</td>\n",
       "      <td>2</td>\n",
       "    </tr>\n",
       "    <tr>\n",
       "      <th>...</th>\n",
       "      <td>...</td>\n",
       "      <td>...</td>\n",
       "      <td>...</td>\n",
       "      <td>...</td>\n",
       "    </tr>\n",
       "    <tr>\n",
       "      <th>2595</th>\n",
       "      <td>3164.7</td>\n",
       "      <td>0.075662</td>\n",
       "      <td>2</td>\n",
       "      <td>2</td>\n",
       "    </tr>\n",
       "    <tr>\n",
       "      <th>2596</th>\n",
       "      <td>3166.6</td>\n",
       "      <td>0.083441</td>\n",
       "      <td>2</td>\n",
       "      <td>2</td>\n",
       "    </tr>\n",
       "    <tr>\n",
       "      <th>2597</th>\n",
       "      <td>3168.5</td>\n",
       "      <td>0.083960</td>\n",
       "      <td>2</td>\n",
       "      <td>2</td>\n",
       "    </tr>\n",
       "    <tr>\n",
       "      <th>2598</th>\n",
       "      <td>3170.5</td>\n",
       "      <td>0.084982</td>\n",
       "      <td>2</td>\n",
       "      <td>2</td>\n",
       "    </tr>\n",
       "    <tr>\n",
       "      <th>2599</th>\n",
       "      <td>3172.4</td>\n",
       "      <td>0.084809</td>\n",
       "      <td>2</td>\n",
       "      <td>2</td>\n",
       "    </tr>\n",
       "  </tbody>\n",
       "</table>\n",
       "<p>1300 rows × 4 columns</p>\n",
       "</div>"
      ],
      "text/plain": [
       "      Wavelength  Intensity  SampleName  group\n",
       "1300       667.3   0.010962           2      2\n",
       "1301       669.2   0.005155           2      2\n",
       "1302       671.1   0.000000           2      2\n",
       "1303       673.0   0.000000           2      2\n",
       "1304       675.0   0.000000           2      2\n",
       "...          ...        ...         ...    ...\n",
       "2595      3164.7   0.075662           2      2\n",
       "2596      3166.6   0.083441           2      2\n",
       "2597      3168.5   0.083960           2      2\n",
       "2598      3170.5   0.084982           2      2\n",
       "2599      3172.4   0.084809           2      2\n",
       "\n",
       "[1300 rows x 4 columns]"
      ]
     },
     "execution_count": 42,
     "metadata": {},
     "output_type": "execute_result"
    }
   ],
   "source": [
    "first_peak_df"
   ]
  },
  {
   "cell_type": "code",
   "execution_count": 43,
   "metadata": {},
   "outputs": [
    {
     "name": "stdout",
     "output_type": "stream",
     "text": [
      "The DataFrames are the same.\n"
     ]
    }
   ],
   "source": [
    "if first_peak_df.equals(first_lib_df):\n",
    "    print(\"The DataFrames are the same.\")"
   ]
  },
  {
   "cell_type": "code",
   "execution_count": null,
   "metadata": {},
   "outputs": [],
   "source": []
  },
  {
   "attachments": {},
   "cell_type": "markdown",
   "metadata": {},
   "source": [
    "# check open source raw data eddie sent"
   ]
  },
  {
   "attachments": {},
   "cell_type": "markdown",
   "metadata": {},
   "source": []
  },
  {
   "cell_type": "code",
   "execution_count": 52,
   "metadata": {},
   "outputs": [],
   "source": [
    "data = np.load(\"data/open_specy/ftir_baskaran_raw_x.npy\")"
   ]
  },
  {
   "cell_type": "code",
   "execution_count": 53,
   "metadata": {},
   "outputs": [
    {
     "data": {
      "text/plain": [
       "(96, 4000)"
      ]
     },
     "execution_count": 53,
     "metadata": {},
     "output_type": "execute_result"
    }
   ],
   "source": [
    "data.shape"
   ]
  },
  {
   "cell_type": "code",
   "execution_count": 54,
   "metadata": {},
   "outputs": [
    {
     "data": {
      "image/png": "[encoded data removed]",
      "text/plain": [
       "<Figure size 640x480 with 1 Axes>"
      ]
     },
     "metadata": {},
     "output_type": "display_data"
    }
   ],
   "source": [
    "plt.plot(np.arange(4000), data[0,:])\n",
    "plt.xlabel('Wavelength')\n",
    "plt.ylabel('Intensity')\n",
    "plt.title('Intensity vs. Wavelength')\n",
    "plt.show()"
   ]
  },
  {
   "cell_type": "code",
   "execution_count": 55,
   "metadata": {},
   "outputs": [
    {
     "data": {
      "image/png": "[encoded data removed]",
      "text/plain": [
       "<Figure size 640x480 with 1 Axes>"
      ]
     },
     "metadata": {},
     "output_type": "display_data"
    }
   ],
   "source": [
    "plt.plot(np.arange(4000), data[2,:])\n",
    "plt.xlabel('Wavelength')\n",
    "plt.ylabel('Intensity')\n",
    "plt.title('Intensity vs. Wavelength')\n",
    "plt.show()"
   ]
  },
  {
   "cell_type": "code",
   "execution_count": 56,
   "metadata": {},
   "outputs": [],
   "source": [
    "data = np.load(\"data/open_specy/ftir_openspecy_raw_x.npy\")\n"
   ]
  },
  {
   "cell_type": "code",
   "execution_count": 57,
   "metadata": {},
   "outputs": [
    {
     "data": {
      "image/png": "[encoded data removed]",
      "text/plain": [
       "<Figure size 640x480 with 1 Axes>"
      ]
     },
     "metadata": {},
     "output_type": "display_data"
    }
   ],
   "source": [
    "plt.plot(np.arange(4000), data[0,:])\n",
    "plt.xlabel('Wavelength')\n",
    "plt.ylabel('Intensity')\n",
    "plt.title('Intensity vs. Wavelength')\n",
    "plt.show()"
   ]
  },
  {
   "cell_type": "code",
   "execution_count": 58,
   "metadata": {},
   "outputs": [
    {
     "data": {
      "image/png": "[encoded data removed]",
      "text/plain": [
       "<Figure size 640x480 with 1 Axes>"
      ]
     },
     "metadata": {},
     "output_type": "display_data"
    }
   ],
   "source": [
    "plt.plot(np.arange(4000), data[1,:])\n",
    "plt.xlabel('Wavelength')\n",
    "plt.ylabel('Intensity')\n",
    "plt.title('Intensity vs. Wavelength')\n",
    "plt.show()"
   ]
  },
  {
   "cell_type": "code",
   "execution_count": 59,
   "metadata": {},
   "outputs": [
    {
     "data": {
      "text/plain": [
       "(626, 4000)"
      ]
     },
     "execution_count": 59,
     "metadata": {},
     "output_type": "execute_result"
    }
   ],
   "source": [
    "data.shape"
   ]
  },
  {
   "attachments": {},
   "cell_type": "markdown",
   "metadata": {},
   "source": []
  },
  {
   "cell_type": "code",
   "execution_count": 2,
   "metadata": {},
   "outputs": [
    {
     "name": "stdout",
     "output_type": "stream",
     "text": [
      "(626, 4000) (626, 5) (96, 4000) (96, 5)\n"
     ]
    }
   ],
   "source": [
    "import numpy as np\n",
    "data1x = np.load(\"data/open_specy/ftir_openspecy_raw_x.npy\")\n",
    "data2x = np.load(\"data/open_specy/ftir_baskaran_raw_x.npy\")\n",
    "data1y = np.load(\"data/open_specy/ftir_openspecy_raw_y.npy\")\n",
    "data2y = np.load(\"data/open_specy/ftir_baskaran_raw_y.npy\")\n",
    "print(data1x.shape, data1y.shape, data2x.shape, data2y.shape)"
   ]
  },
  {
   "cell_type": "code",
   "execution_count": 5,
   "metadata": {},
   "outputs": [],
   "source": [
    "HDPE, LDPE, PET, PP, others = None, None, None, None, None\n",
    "for i in range(len(data1x)):\n",
    "    if data1y[i][0]==1:\n",
    "        if HDPE is None:\n",
    "            HDPE = data1x[i]\n",
    "        else:\n",
    "            HDPE = np.vstack((HDPE, data1x[i]))\n",
    "    elif data1y[i][1]==1:\n",
    "        if LDPE is None:\n",
    "            LDPE = data1x[i]\n",
    "        else:\n",
    "            LDPE = np.vstack((LDPE, data1x[i]))\n",
    "    elif data1y[i][2]==1:\n",
    "        if PET is None:\n",
    "            PET = data1x[i]\n",
    "        else:\n",
    "            PET = np.vstack((PET, data1x[i]))\n",
    "    elif data1y[i][3]==1:\n",
    "        if PP is None:\n",
    "            PP = data1x[i]\n",
    "        else:\n",
    "            PP = np.vstack((PP, data1x[i]))\n",
    "    elif data1y[i][4]==1:\n",
    "        if others is None:\n",
    "            others = data1x[i]\n",
    "        else:\n",
    "            others = np.vstack((others, data1x[i]))\n",
    "\n",
    "\n",
    "for i in range(len(data2x)):\n",
    "    if data2y[i][0]==1:\n",
    "        if HDPE is None:\n",
    "            HDPE = data2x[i]\n",
    "        else:\n",
    "            HDPE = np.vstack((HDPE, data2x[i]))\n",
    "    elif data2y[i][1]==1:\n",
    "        if LDPE is None:\n",
    "            LDPE = data2x[i]\n",
    "        else:\n",
    "            LDPE = np.vstack((LDPE, data2x[i]))\n",
    "    elif data2y[i][2]==1:\n",
    "        if PET is None:\n",
    "            PET = data2x[i]\n",
    "        else:\n",
    "            PET = np.vstack((PET, data2x[i]))\n",
    "    elif data2y[i][3]==1:\n",
    "        if PP is None:\n",
    "            PP = data2x[i]\n",
    "        else:\n",
    "            PP = np.vstack((PP, data2x[i]))\n",
    "    elif data2y[i][4]==1:\n",
    "        if others is None:\n",
    "            others = data2x[i]\n",
    "        else:\n",
    "            others = np.vstack((others, data2x[i]))\n",
    "\n",
    "\n",
    "np.save(\"data/open_specy/HDPE.npy\", HDPE)\n",
    "np.save(\"data/open_specy/LDPE.npy\", LDPE)\n",
    "np.save(\"data/open_specy/PET.npy\", PET)\n",
    "np.save(\"data/open_specy/PP.npy\", PP)\n",
    "np.save(\"data/open_specy/others.npy\", others)"
   ]
  },
  {
   "cell_type": "code",
   "execution_count": null,
   "metadata": {},
   "outputs": [],
   "source": []
  }
 ],
 "metadata": {
  "kernelspec": {
   "display_name": "polymer",
   "language": "python",
   "name": "python3"
  },
  "language_info": {
   "codemirror_mode": {
    "name": "ipython",
    "version": 3
   },
   "file_extension": ".py",
   "mimetype": "text/x-python",
   "name": "python",
   "nbconvert_exporter": "python",
   "pygments_lexer": "ipython3",
   "version": "3.10.12"
  },
  "orig_nbformat": 4
 },
 "nbformat": 4,
 "nbformat_minor": 2
}
