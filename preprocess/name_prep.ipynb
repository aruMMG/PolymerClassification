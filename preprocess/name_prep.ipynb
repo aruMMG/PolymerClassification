{
 "cells": [
  {
   "cell_type": "code",
   "execution_count": 2,
   "metadata": {},
   "outputs": [],
   "source": [
    "import numpy as np\n",
    "labels = np.load(\"data/real/FTIR_labels.npy\")\n",
    "notPolymer_num, hdpe_num, ldpe_num, pet_num, pp_num = 0,0,0,0,0"
   ]
  },
  {
   "cell_type": "code",
   "execution_count": 3,
   "metadata": {},
   "outputs": [
    {
     "data": {
      "text/plain": [
       "(722,)"
      ]
     },
     "execution_count": 3,
     "metadata": {},
     "output_type": "execute_result"
    }
   ],
   "source": [
    "FTIR_name_list = []\n",
    "for i in range(labels.shape[0]):\n",
    "    if labels[i,0]==1:\n",
    "        FTIR_name_list.append(\"HDPE\"+str(hdpe_num))\n",
    "        hdpe_num+=1\n",
    "    elif labels[i,1]==1:\n",
    "        FTIR_name_list.append(\"LDPE\"+str(ldpe_num))\n",
    "        ldpe_num+=1\n",
    "    elif labels[i,2]==1:\n",
    "        FTIR_name_list.append(\"PET\"+str(pet_num))\n",
    "        pet_num+=1\n",
    "    elif labels[i,3]==1:\n",
    "        FTIR_name_list.append(\"PP\"+str(pp_num))\n",
    "        pp_num+=1\n",
    "    elif labels[i,4]==1:\n",
    "        FTIR_name_list.append(\"notPolymer\"+str(notPolymer_num))\n",
    "        notPolymer_num+=1\n",
    "    else:\n",
    "        print(\"something wrong\")\n",
    "FTIR_name_array = np.array(FTIR_name_list)\n",
    "FTIR_name_array.shape"
   ]
  },
  {
   "cell_type": "code",
   "execution_count": 10,
   "metadata": {},
   "outputs": [
    {
     "name": "stdout",
     "output_type": "stream",
     "text": [
      "LDPE36\n"
     ]
    }
   ],
   "source": [
    "print(FTIR_name_array[650])"
   ]
  },
  {
   "cell_type": "code",
   "execution_count": 11,
   "metadata": {},
   "outputs": [],
   "source": [
    "np.save(\"data/real/FTIR_name.npy\", FTIR_name_array)"
   ]
  },
  {
   "cell_type": "code",
   "execution_count": 12,
   "metadata": {},
   "outputs": [
    {
     "name": "stdout",
     "output_type": "stream",
     "text": [
      "<class 'numpy.str_'>\n"
     ]
    }
   ],
   "source": [
    "# Check names with labels\n",
    "names = np.load(\"data/real/FTIR_name.npy\")\n",
    "print(type(names[1]))"
   ]
  },
  {
   "cell_type": "code",
   "execution_count": 15,
   "metadata": {},
   "outputs": [],
   "source": [
    "for i,name in enumerate(names):\n",
    "    if name.startswith('HDPE'):\n",
    "        assert labels[i,0]==1.0, f\"Incorrect for HDPE {i}\"\n",
    "    elif name.startswith('LDPE'):\n",
    "        assert labels[i,1]==1.0, f\"Incorrect for LDPE {i}\"\n",
    "    elif name.startswith('PET'):\n",
    "        assert labels[i,2]==1.0, f\"Incorrect for LDPE {i}\"\n",
    "    elif name.startswith('PP'):\n",
    "        assert labels[i,3]==1.0, f\"Incorrect for LDPE {i}\"\n",
    "    elif name.startswith('notPolymer'):\n",
    "        assert labels[i,4]==1.0, f\"Incorrect for LDPE {i}\"\n",
    "    else:\n",
    "        print(\"somthing wrong\")"
   ]
  },
  {
   "cell_type": "code",
   "execution_count": 5,
   "metadata": {},
   "outputs": [],
   "source": [
    "import numpy as np\n",
    "FTIR_name_list = []\n",
    "hdpe_num = 0\n",
    "other_array = np.load(\"data/Data_Edward/Data/FTIR/data_Eddie/exp2/PP_baseline.npy\")\n",
    "for i in range(len(other_array)):\n",
    "    FTIR_name_list.append(\"PP\"+str(hdpe_num))\n",
    "    hdpe_num+=1\n",
    "\n",
    "FTIR_name_array = np.array(FTIR_name_list)\n",
    "np.save(\"data/Data_Edward/Data/FTIR/data_Eddie/exp2/PP_name.npy\", FTIR_name_array)\n"
   ]
  },
  {
   "cell_type": "code",
   "execution_count": 10,
   "metadata": {},
   "outputs": [],
   "source": [
    "import numpy as np\n",
    "FTIR_name_list = []\n",
    "hdpe_num = 0\n",
    "other_array = np.load(\"data/open_specy/from_eddie_raw/PP.npy\")\n",
    "for i in range(len(other_array)):\n",
    "    FTIR_name_list.append(\"PP\"+str(hdpe_num))\n",
    "    hdpe_num+=1\n",
    "\n",
    "FTIR_name_array = np.array(FTIR_name_list)\n",
    "np.save(\"data/open_specy/from_eddie_raw/PP_name.npy\", FTIR_name_array)"
   ]
  },
  {
   "cell_type": "code",
   "execution_count": 1,
   "metadata": {},
   "outputs": [],
   "source": [
    "import os\n",
    "import sys\n",
    "\n",
    "# Get the directory of the current script (process.py)\n",
    "current_dir = os.path.dirname(os.path.realpath(\"/home/singh_a_WMGDS.WMG.WARWICK.AC.UK/wmg/polymer_sort/classification/preprocess/data_prep.ipynb\"))\n",
    "\n",
    "# Add the parent directory (A) to the Python path\n",
    "parent_dir = os.path.abspath(os.path.join(current_dir, os.pardir))\n",
    "sys.path.append(parent_dir)\n",
    "from utils import to4000\n"
   ]
  },
  {
   "cell_type": "code",
   "execution_count": 2,
   "metadata": {},
   "outputs": [
    {
     "data": {
      "text/plain": [
       "(12, 1867)"
      ]
     },
     "execution_count": 2,
     "metadata": {},
     "output_type": "execute_result"
    }
   ],
   "source": [
    "import numpy as np\n",
    "arr = np.load(\"/home/singh_a_WMGDS.WMG.WARWICK.AC.UK/wmg/polymer_sort/classification/data/data_singapore/FTIR/csv/ABS_raw.npy\")\n",
    "arr.shape"
   ]
  },
  {
   "cell_type": "code",
   "execution_count": 3,
   "metadata": {},
   "outputs": [
    {
     "data": {
      "text/plain": [
       "(12, 4000)"
      ]
     },
     "execution_count": 3,
     "metadata": {},
     "output_type": "execute_result"
    }
   ],
   "source": [
    "wave = np.load(\"/home/singh_a_WMGDS.WMG.WARWICK.AC.UK/wmg/polymer_sort/classification/data/data_singapore/FTIR/csv/wavelength1867.npy\")\n",
    "arr = to4000(arr, wave)\n",
    "arr.shape"
   ]
  },
  {
   "cell_type": "code",
   "execution_count": 4,
   "metadata": {},
   "outputs": [
    {
     "name": "stdout",
     "output_type": "stream",
     "text": [
      "(12, 4000)\n",
      "(54, 4000)\n",
      "(54, 4000)\n",
      "(39, 4000)\n",
      "(32, 4000)\n",
      "(21, 4000)\n",
      "(21, 4000)\n",
      "(9, 4000)\n",
      "(33, 4000)\n"
     ]
    }
   ],
   "source": [
    "arr = np.load(\"/home/singh_a_WMGDS.WMG.WARWICK.AC.UK/wmg/polymer_sort/classification/data/data_singapore/FTIR/csv/ABS_raw.npy\")\n",
    "arr = to4000(arr, wave)\n",
    "np.save(\"/home/singh_a_WMGDS.WMG.WARWICK.AC.UK/wmg/polymer_sort/classification/data/data_singapore/FTIR/csv/ABS_raw_4000.npy\", arr)\n",
    "print(arr.shape)\n",
    "arr = np.load(\"/home/singh_a_WMGDS.WMG.WARWICK.AC.UK/wmg/polymer_sort/classification/data/data_singapore/FTIR/csv/others_raw.npy\")\n",
    "arr = to4000(arr, wave)\n",
    "np.save(\"/home/singh_a_WMGDS.WMG.WARWICK.AC.UK/wmg/polymer_sort/classification/data/data_singapore/FTIR/csv/others_raw_4000.npy\", arr)\n",
    "print(arr.shape)\n",
    "arr = np.load(\"/home/singh_a_WMGDS.WMG.WARWICK.AC.UK/wmg/polymer_sort/classification/data/data_singapore/FTIR/csv/PP_raw.npy\")\n",
    "arr = to4000(arr, wave)\n",
    "np.save(\"/home/singh_a_WMGDS.WMG.WARWICK.AC.UK/wmg/polymer_sort/classification/data/data_singapore/FTIR/csv/PP_raw_4000.npy\", arr)\n",
    "print(arr.shape)\n",
    "arr = np.load(\"/home/singh_a_WMGDS.WMG.WARWICK.AC.UK/wmg/polymer_sort/classification/data/data_singapore/FTIR/csv/PMMA_raw.npy\")\n",
    "arr = to4000(arr, wave)\n",
    "np.save(\"/home/singh_a_WMGDS.WMG.WARWICK.AC.UK/wmg/polymer_sort/classification/data/data_singapore/FTIR/csv/PMMA_raw_4000.npy\", arr)\n",
    "print(arr.shape)\n",
    "arr = np.load(\"/home/singh_a_WMGDS.WMG.WARWICK.AC.UK/wmg/polymer_sort/classification/data/data_singapore/FTIR/csv/PC_raw.npy\")\n",
    "arr = to4000(arr, wave)\n",
    "np.save(\"/home/singh_a_WMGDS.WMG.WARWICK.AC.UK/wmg/polymer_sort/classification/data/data_singapore/FTIR/csv/PC_raw_4000.npy\", arr)\n",
    "print(arr.shape)\n",
    "arr = np.load(\"/home/singh_a_WMGDS.WMG.WARWICK.AC.UK/wmg/polymer_sort/classification/data/data_singapore/FTIR/csv/PS_raw.npy\")\n",
    "arr = to4000(arr, wave)\n",
    "np.save(\"/home/singh_a_WMGDS.WMG.WARWICK.AC.UK/wmg/polymer_sort/classification/data/data_singapore/FTIR/csv/PS_raw_4000.npy\", arr)\n",
    "print(arr.shape)\n",
    "arr = np.load(\"/home/singh_a_WMGDS.WMG.WARWICK.AC.UK/wmg/polymer_sort/classification/data/data_singapore/FTIR/csv/PET_raw.npy\")\n",
    "arr = to4000(arr, wave)\n",
    "np.save(\"/home/singh_a_WMGDS.WMG.WARWICK.AC.UK/wmg/polymer_sort/classification/data/data_singapore/FTIR/csv/PET_raw_4000.npy\", arr)\n",
    "print(arr.shape)\n",
    "arr = np.load(\"/home/singh_a_WMGDS.WMG.WARWICK.AC.UK/wmg/polymer_sort/classification/data/data_singapore/FTIR/csv/PVC_raw.npy\")\n",
    "arr = to4000(arr, wave)\n",
    "np.save(\"/home/singh_a_WMGDS.WMG.WARWICK.AC.UK/wmg/polymer_sort/classification/data/data_singapore/FTIR/csv/PVC_raw_4000.npy\", arr)\n",
    "print(arr.shape)\n",
    "arr = np.load(\"/home/singh_a_WMGDS.WMG.WARWICK.AC.UK/wmg/polymer_sort/classification/data/data_singapore/FTIR/csv/X_PE_raw.npy\")\n",
    "arr = to4000(arr, wave)\n",
    "np.save(\"/home/singh_a_WMGDS.WMG.WARWICK.AC.UK/wmg/polymer_sort/classification/data/data_singapore/FTIR/csv/X_PE_raw_4000.npy\", arr)\n",
    "print(arr.shape)\n"
   ]
  },
  {
   "cell_type": "code",
   "execution_count": null,
   "metadata": {},
   "outputs": [],
   "source": []
  }
 ],
 "metadata": {
  "kernelspec": {
   "display_name": "NN",
   "language": "python",
   "name": "python3"
  },
  "language_info": {
   "codemirror_mode": {
    "name": "ipython",
    "version": 3
   },
   "file_extension": ".py",
   "mimetype": "text/x-python",
   "name": "python",
   "nbconvert_exporter": "python",
   "pygments_lexer": "ipython3",
   "version": "3.10.12"
  },
  "orig_nbformat": 4
 },
 "nbformat": 4,
 "nbformat_minor": 2
}
