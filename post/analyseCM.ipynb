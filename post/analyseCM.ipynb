{
 "cells": [
  {
   "cell_type": "code",
   "execution_count": 2,
   "metadata": {},
   "outputs": [],
   "source": [
    "import pandas as pd\n",
    "import numpy as np\n",
    "import csv"
   ]
  },
  {
   "cell_type": "code",
   "execution_count": 3,
   "metadata": {},
   "outputs": [],
   "source": [
    "def calculate_metrics(confusion_matrix):\n",
    "    num_classes = confusion_matrix.shape[0]\n",
    "    d = np.sum(confusion_matrix, axis=0)\n",
    "    precision = []\n",
    "    recall = []\n",
    "    for i in range(num_classes):\n",
    "        precision.append(confusion_matrix[:,i][i]/np.sum(confusion_matrix[:,i]))\n",
    "        recall.append(confusion_matrix[i][i]/np.sum(confusion_matrix[i]))\n",
    "\n",
    "    precision = np.array(precision)\n",
    "    recall = np.array(recall)\n",
    "    recall = np.nan_to_num(recall, nan=0.0)\n",
    "    weighted_precision = np.sum(precision*d)/np.sum(d)\n",
    "    weighted_recall = np.sum(recall*d)/np.sum(d)\n",
    "    avarage = np.trace(confusion_matrix)/np.sum(d)\n",
    "    return precision, recall, weighted_precision, weighted_recall, avarage"
   ]
  },
  {
   "cell_type": "code",
   "execution_count": null,
   "metadata": {},
   "outputs": [],
   "source": []
  },
  {
   "cell_type": "code",
   "execution_count": 4,
   "metadata": {},
   "outputs": [],
   "source": [
    "def matrixFromCSV(fileName):\n",
    "    CM = np.genfromtxt(fileName, delimiter=',')\n",
    "    n_classes = CM.shape[1]\n",
    "    folds = int(CM.shape[0]/(n_classes+1))+1\n",
    "    p_all, r_all, wp_all, wr_all, a_all = [],[],[],[],[]\n",
    "    for fold in range(folds):\n",
    "        CM_fold = CM[fold*n_classes:(fold+1)*n_classes,:]\n",
    "        precision, recall, weighted_precision, weighted_recall, avarage = calculate_metrics(CM_fold)\n",
    "        p_all.append(precision)\n",
    "        r_all.append(recall)\n",
    "        wp_all.append(weighted_precision)\n",
    "        wr_all.append(weighted_recall)\n",
    "        a_all.append(avarage)\n",
    "    return np.array(p_all), np.array(r_all), np.array(wp_all), np.array(wr_all), np.array(a_all)"
   ]
  },
  {
   "cell_type": "code",
   "execution_count": 5,
   "metadata": {},
   "outputs": [
    {
     "name": "stdout",
     "output_type": "stream",
     "text": [
      "result for incep\n",
      "0.9693548387096775\n",
      "0.9710675883256528\n",
      "0.9693548387096775\n"
     ]
    },
    {
     "name": "stderr",
     "output_type": "stream",
     "text": [
      "/tmp/ipykernel_3076606/1664531836.py:8: RuntimeWarning: invalid value encountered in scalar divide\n",
      "  recall.append(confusion_matrix[i][i]/np.sum(confusion_matrix[i]))\n"
     ]
    }
   ],
   "source": [
    "p,r,wp,wr,a = matrixFromCSV(\"../logFile/S_C9_test/results_incep.csv\")\n",
    "print(\"result for incep\")\n",
    "print(np.average(wp))\n",
    "print(np.average(wr))\n",
    "print(np.average(a))"
   ]
  },
  {
   "cell_type": "code",
   "execution_count": 6,
   "metadata": {},
   "outputs": [
    {
     "name": "stdout",
     "output_type": "stream",
     "text": [
      "result for incep\n",
      "0.9693548387096775\n",
      "result for incep_baseline\n",
      "0.970967741935484\n",
      "result for incep_pre\n",
      "0.964516129032258\n",
      "result for incep_pre_baseline\n",
      "0.9693548387096774\n",
      "result for trans\n",
      "0.9629032258064516\n",
      "result for trans_baseline\n",
      "0.9596774193548387\n",
      "result for trans_pre\n",
      "0.9645161290322581\n",
      "result for trans_pre_baseline\n",
      "0.9725806451612904\n"
     ]
    },
    {
     "name": "stderr",
     "output_type": "stream",
     "text": [
      "/tmp/ipykernel_3076606/1664531836.py:8: RuntimeWarning: invalid value encountered in scalar divide\n",
      "  recall.append(confusion_matrix[i][i]/np.sum(confusion_matrix[i]))\n"
     ]
    }
   ],
   "source": [
    "p,r,wp,wr,a = matrixFromCSV(\"../logFile/S_C9_test/results_incep.csv\")\n",
    "print(\"result for incep\")\n",
    "# print(np.average(wp))\n",
    "# print(np.average(wr))\n",
    "print(np.average(a))\n",
    "p,r,wp,wr,a = matrixFromCSV(\"../logFile/S_C9_test/results_incep_baseline.csv\")\n",
    "print(\"result for incep_baseline\")\n",
    "# print(np.average(wp))\n",
    "# print(np.average(wr))\n",
    "print(np.average(a))\n",
    "p,r,wp,wr,a = matrixFromCSV(\"../logFile/S_C9_test/results_incep_pre.csv\")\n",
    "print(\"result for incep_pre\")\n",
    "# print(np.average(wp))\n",
    "# print(np.average(wr))\n",
    "print(np.average(a))\n",
    "p,r,wp,wr,a = matrixFromCSV(\"../logFile/S_C9_test/results_incep_pre_baseline.csv\")\n",
    "print(\"result for incep_pre_baseline\")\n",
    "# print(np.average(wp))\n",
    "# print(np.average(wr))\n",
    "print(np.average(a))\n",
    "p,r,wp,wr,a = matrixFromCSV(\"../logFile/S_C9_test/results_trans.csv\")\n",
    "print(\"result for trans\")\n",
    "# print(np.average(wp))\n",
    "# print(np.average(wr))\n",
    "print(np.average(a))\n",
    "p,r,wp,wr,a = matrixFromCSV(\"../logFile/S_C9_test/results_trans_baseline.csv\")\n",
    "print(\"result for trans_baseline\")\n",
    "# print(np.average(wp))\n",
    "# print(np.average(wr))\n",
    "print(np.average(a))\n",
    "p,r,wp,wr,a = matrixFromCSV(\"../logFile/S_C9_test/test_results_trans_pre.csv\")\n",
    "print(\"result for trans_pre\")\n",
    "# print(np.average(wp))\n",
    "# print(np.average(wr))\n",
    "print(np.average(a))\n",
    "p,r,wp,wr,a = matrixFromCSV(\"../logFile/S_C9_test/results_trans_pre_baseline.csv\")\n",
    "print(\"result for trans_pre_baseline\")\n",
    "# print(np.average(wp))\n",
    "# print(np.average(wr))\n",
    "print(np.average(a))"
   ]
  },
  {
   "cell_type": "code",
   "execution_count": 8,
   "metadata": {},
   "outputs": [
    {
     "name": "stdout",
     "output_type": "stream",
     "text": [
      "result for incep\n",
      "0.9734299516908211\n",
      "result for incep\n",
      "0.9782608695652174\n",
      "result for incep\n",
      "0.9734299516908214\n"
     ]
    },
    {
     "name": "stderr",
     "output_type": "stream",
     "text": [
      "/tmp/ipykernel_3302154/1664531836.py:8: RuntimeWarning: invalid value encountered in scalar divide\n",
      "  recall.append(confusion_matrix[i][i]/np.sum(confusion_matrix[i]))\n"
     ]
    }
   ],
   "source": [
    "p,r,wp,wr,a = matrixFromCSV(\"../logFile/exp13/test/incep.csv\")\n",
    "print(\"result for incep\")\n",
    "# print(np.average(wp))\n",
    "# print(np.average(wr))\n",
    "print(np.average(a))\n",
    "p,r,wp,wr,a = matrixFromCSV(\"../logFile/exp13/test/trans_pre.csv\")\n",
    "print(\"result for incep\")\n",
    "# print(np.average(wp))\n",
    "# print(np.average(wr))\n",
    "print(np.average(a))\n",
    "p,r,wp,wr,a = matrixFromCSV(\"../logFile/exp13/test/incep_baseline.csv\")\n",
    "print(\"result for incep\")\n",
    "# print(np.average(wp))\n",
    "# print(np.average(wr))\n",
    "print(np.average(a))"
   ]
  },
  {
   "cell_type": "code",
   "execution_count": null,
   "metadata": {},
   "outputs": [],
   "source": []
  },
  {
   "cell_type": "code",
   "execution_count": 8,
   "metadata": {},
   "outputs": [
    {
     "name": "stdout",
     "output_type": "stream",
     "text": [
      "result for trans\n",
      "0.9741935483870968\n",
      "0.9791551459293395\n",
      "0.9741935483870968\n",
      "result for trans_pre\n",
      "0.9709677419354839\n",
      "0.9745967741935482\n",
      "0.9709677419354839\n"
     ]
    }
   ],
   "source": [
    "p,r,wp,wr,a = matrixFromCSV(\"../logFile/S_C9_5000/results_trans.csv\")\n",
    "print(\"result for trans\")\n",
    "print(np.average(wp))\n",
    "print(np.average(wr))\n",
    "print(np.average(a))\n",
    "# p,r,wp,wr,a = matrixFromCSV(\"../logFile/S_C9_5000/results_trans_baseline.csv\")\n",
    "# print(\"result for trans_baseline\")\n",
    "# print(np.average(wp))\n",
    "# print(np.average(wr))\n",
    "# print(np.average(a))\n",
    "p,r,wp,wr,a = matrixFromCSV(\"../logFile/S_C9_5000/test_results_trans_pre.csv\")\n",
    "print(\"result for trans_pre\")\n",
    "print(np.average(wp))\n",
    "print(np.average(wr))\n",
    "print(np.average(a))\n",
    "# p,r,wp,wr,a = matrixFromCSV(\"../logFile/S_C9_5000/results_trans_pre_baseline.csv\")\n",
    "# print(\"result for trans_pre_baseline\")\n",
    "# print(np.average(wp))\n",
    "# print(np.average(wr))\n",
    "# print(np.average(a))\n",
    "\n"
   ]
  },
  {
   "cell_type": "code",
   "execution_count": null,
   "metadata": {},
   "outputs": [],
   "source": []
  },
  {
   "cell_type": "code",
   "execution_count": 12,
   "metadata": {},
   "outputs": [
    {
     "name": "stdout",
     "output_type": "stream",
     "text": [
      "(9, 9)\n",
      "(9, 9)\n",
      "(9, 9)\n",
      "(9, 9)\n",
      "(9, 9)\n",
      "(9, 9)\n",
      "(9, 9)\n",
      "(9, 9)\n",
      "(9, 9)\n",
      "(9, 9)\n"
     ]
    }
   ],
   "source": []
  },
  {
   "cell_type": "code",
   "execution_count": null,
   "metadata": {},
   "outputs": [],
   "source": []
  }
 ],
 "metadata": {
  "kernelspec": {
   "display_name": "polymer",
   "language": "python",
   "name": "python3"
  },
  "language_info": {
   "codemirror_mode": {
    "name": "ipython",
    "version": 3
   },
   "file_extension": ".py",
   "mimetype": "text/x-python",
   "name": "python",
   "nbconvert_exporter": "python",
   "pygments_lexer": "ipython3",
   "version": "3.10.12"
  }
 },
 "nbformat": 4,
 "nbformat_minor": 2
}
